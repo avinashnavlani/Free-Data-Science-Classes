{
  "nbformat": 4,
  "nbformat_minor": 0,
  "metadata": {
    "colab": {
      "provenance": []
    },
    "kernelspec": {
      "name": "python3",
      "display_name": "Python 3"
    },
    "language_info": {
      "name": "python"
    }
  },
  "cells": [
    {
      "cell_type": "code",
      "execution_count": null,
      "metadata": {
        "id": "HBWjSF1v0O26"
      },
      "outputs": [],
      "source": [
        "# Variable length argument\n",
        "def sample(*args):\n",
        "  print(args)\n",
        "  print(type(args))"
      ]
    },
    {
      "cell_type": "code",
      "source": [
        "sample(2,3,5)"
      ],
      "metadata": {
        "colab": {
          "base_uri": "https://localhost:8080/"
        },
        "id": "6uRhUAk10nYZ",
        "outputId": "8bf995e9-427b-4cc9-9617-063786e8220d"
      },
      "execution_count": null,
      "outputs": [
        {
          "output_type": "stream",
          "name": "stdout",
          "text": [
            "(2, 3, 5)\n",
            "<class 'tuple'>\n"
          ]
        }
      ]
    },
    {
      "cell_type": "code",
      "source": [
        "# Variable length argument\n",
        "def sample(*args):\n",
        "  s = 0\n",
        "  for i in args:\n",
        "    s += i\n",
        "  print(\"Sum:\", s)"
      ],
      "metadata": {
        "id": "Rfl0tXC-0piD"
      },
      "execution_count": null,
      "outputs": []
    },
    {
      "cell_type": "code",
      "source": [
        "sample(2,3,5)"
      ],
      "metadata": {
        "colab": {
          "base_uri": "https://localhost:8080/"
        },
        "id": "ps7UTmnz03A8",
        "outputId": "6960e9ee-3b25-4fc7-b3de-1cd20725e8d8"
      },
      "execution_count": null,
      "outputs": [
        {
          "output_type": "stream",
          "name": "stdout",
          "text": [
            "Sum: 10\n"
          ]
        }
      ]
    },
    {
      "cell_type": "code",
      "source": [
        "def order_items(order_id, *item_details):\n",
        "  print(\"Order ID:\", order_id)\n",
        "  print(\"Item Details:\", item_details)\n",
        "\n",
        "order_items(123, 'mouse', 'wireless', 'HP')"
      ],
      "metadata": {
        "colab": {
          "base_uri": "https://localhost:8080/"
        },
        "id": "eXZP2EQn0388",
        "outputId": "215214ae-e45a-4ea9-c81b-5d641bd13ea2"
      },
      "execution_count": null,
      "outputs": [
        {
          "output_type": "stream",
          "name": "stdout",
          "text": [
            "Order ID: 123\n",
            "Item Details: ('mouse', 'wireless', 'HP')\n"
          ]
        }
      ]
    },
    {
      "cell_type": "code",
      "source": [
        "# Variable length argument\n",
        "def sample(**args):\n",
        "  print(args)\n",
        "  print(type(args))"
      ],
      "metadata": {
        "id": "l2ncn_DJ1VKO"
      },
      "execution_count": null,
      "outputs": []
    },
    {
      "cell_type": "code",
      "source": [
        "sample(a=2, b=3)"
      ],
      "metadata": {
        "colab": {
          "base_uri": "https://localhost:8080/"
        },
        "id": "eNg_BZKM1pSe",
        "outputId": "936f276c-4ba2-441a-a6c4-3b28bb50afcc"
      },
      "execution_count": null,
      "outputs": [
        {
          "output_type": "stream",
          "name": "stdout",
          "text": [
            "{'a': 2, 'b': 3}\n",
            "<class 'dict'>\n"
          ]
        }
      ]
    },
    {
      "cell_type": "code",
      "source": [
        "def order_items(order_id, **item_details):\n",
        "  print(\"Order ID:\", order_id)\n",
        "  print(\"Item Details:\")\n",
        "  for k,v in item_details.items():\n",
        "    print(k, v)\n",
        "\n",
        "order_items(123, name='mouse', type='wireless', brand='HP')"
      ],
      "metadata": {
        "colab": {
          "base_uri": "https://localhost:8080/"
        },
        "id": "7LilsAve1swW",
        "outputId": "b9aa5042-c0ce-40aa-bd8f-977c0c44b03d"
      },
      "execution_count": null,
      "outputs": [
        {
          "output_type": "stream",
          "name": "stdout",
          "text": [
            "Order ID: 123\n",
            "Item Details:\n",
            "name mouse\n",
            "type wireless\n",
            "brand HP\n"
          ]
        }
      ]
    },
    {
      "cell_type": "code",
      "source": [
        "def order_food(order_id, *items, **details):\n",
        "  print(\"Order ID:\", order_id)\n",
        "  print(\"Items:\",items)\n",
        "  print(\"Details:\", details)\n",
        "\n",
        "order_food(121, 'Chhole Bhature', \"Dosa\", order_type='pick-up' ,payment='cash')"
      ],
      "metadata": {
        "colab": {
          "base_uri": "https://localhost:8080/"
        },
        "id": "PXdYHqtE2KES",
        "outputId": "a88db417-22b3-415a-8664-2d7cb94a01fc"
      },
      "execution_count": null,
      "outputs": [
        {
          "output_type": "stream",
          "name": "stdout",
          "text": [
            "Order ID: 121\n",
            "Items: ('Chhole Bhature', 'Dosa')\n",
            "Details: {'order_type': 'pick-up', 'payment': 'cash'}\n"
          ]
        }
      ]
    },
    {
      "cell_type": "code",
      "source": [],
      "metadata": {
        "id": "sSLcQcdh20Xe"
      },
      "execution_count": null,
      "outputs": []
    },
    {
      "cell_type": "markdown",
      "source": [
        "# map(), reduce(), and filter() -functional programming"
      ],
      "metadata": {
        "id": "1ticDT4e4Ykj"
      }
    },
    {
      "cell_type": "code",
      "source": [
        "items = [2,4,6,3,9]\n",
        "\n",
        "[i**2 for i in items] # List Comprehension"
      ],
      "metadata": {
        "colab": {
          "base_uri": "https://localhost:8080/"
        },
        "id": "I9IDJ3QP4dcp",
        "outputId": "ffd7972c-7007-4294-c48e-28455a83bcf0"
      },
      "execution_count": null,
      "outputs": [
        {
          "output_type": "execute_result",
          "data": {
            "text/plain": [
              "[4, 16, 36, 9, 81]"
            ]
          },
          "metadata": {},
          "execution_count": 16
        }
      ]
    },
    {
      "cell_type": "code",
      "source": [
        "square_items = list(map(lambda x: x**2, items))\n",
        "square_items"
      ],
      "metadata": {
        "colab": {
          "base_uri": "https://localhost:8080/"
        },
        "id": "srnx5Jan4klz",
        "outputId": "aa703033-eba0-47b9-f661-bc4e13e98d59"
      },
      "execution_count": null,
      "outputs": [
        {
          "output_type": "execute_result",
          "data": {
            "text/plain": [
              "[4, 16, 36, 9, 81]"
            ]
          },
          "metadata": {},
          "execution_count": 18
        }
      ]
    },
    {
      "cell_type": "code",
      "source": [
        "def add(x,y):\n",
        "  return x+y"
      ],
      "metadata": {
        "id": "0i4mgG2Z6TBK"
      },
      "execution_count": null,
      "outputs": []
    },
    {
      "cell_type": "code",
      "source": [
        "from functools import reduce\n",
        "\n",
        "total = reduce(add,items)\n",
        "\n",
        "print(total)"
      ],
      "metadata": {
        "colab": {
          "base_uri": "https://localhost:8080/"
        },
        "id": "r81cFo904wgS",
        "outputId": "418dde44-5c21-49ea-a3af-c995ab4233c2"
      },
      "execution_count": null,
      "outputs": [
        {
          "output_type": "stream",
          "name": "stdout",
          "text": [
            "24\n"
          ]
        }
      ]
    },
    {
      "cell_type": "code",
      "source": [
        "product = reduce(lambda x,y: x*y, items)\n",
        "print(product)"
      ],
      "metadata": {
        "colab": {
          "base_uri": "https://localhost:8080/"
        },
        "id": "X7mQdD-75FMb",
        "outputId": "40b994ce-1208-4f60-c0ae-db56042585dd"
      },
      "execution_count": null,
      "outputs": [
        {
          "output_type": "stream",
          "name": "stdout",
          "text": [
            "1296\n"
          ]
        }
      ]
    },
    {
      "cell_type": "code",
      "source": [
        "max_items = reduce(lambda x,y: x if x>y else y, items)\n",
        "print(max_items)"
      ],
      "metadata": {
        "colab": {
          "base_uri": "https://localhost:8080/"
        },
        "id": "wmINfWJp5UEy",
        "outputId": "9b19fb70-589c-43b8-e2cd-a2132204fde3"
      },
      "execution_count": null,
      "outputs": [
        {
          "output_type": "stream",
          "name": "stdout",
          "text": [
            "9\n"
          ]
        }
      ]
    },
    {
      "cell_type": "code",
      "source": [
        "min_items = reduce(lambda x,y: x if x<y else y, items)\n",
        "print(min_items)"
      ],
      "metadata": {
        "colab": {
          "base_uri": "https://localhost:8080/"
        },
        "id": "3F93Y4tJ5erZ",
        "outputId": "40bd133c-65f1-4243-cf8f-7b784f142d42"
      },
      "execution_count": null,
      "outputs": [
        {
          "output_type": "stream",
          "name": "stdout",
          "text": [
            "2\n"
          ]
        }
      ]
    },
    {
      "cell_type": "code",
      "source": [
        "items"
      ],
      "metadata": {
        "colab": {
          "base_uri": "https://localhost:8080/"
        },
        "id": "v1WuLRQe5l1I",
        "outputId": "bb1a6264-8e48-44b5-8895-594cddba49c8"
      },
      "execution_count": null,
      "outputs": [
        {
          "output_type": "execute_result",
          "data": {
            "text/plain": [
              "[2, 4, 6, 3, 9]"
            ]
          },
          "metadata": {},
          "execution_count": 27
        }
      ]
    },
    {
      "cell_type": "code",
      "source": [
        "list(filter(lambda x: x%2==0, items))"
      ],
      "metadata": {
        "colab": {
          "base_uri": "https://localhost:8080/"
        },
        "id": "fGfU0dtL51kh",
        "outputId": "a11a173d-04a6-4aab-d315-7d077789e6ca"
      },
      "execution_count": null,
      "outputs": [
        {
          "output_type": "execute_result",
          "data": {
            "text/plain": [
              "[2, 4, 6]"
            ]
          },
          "metadata": {},
          "execution_count": 34
        }
      ]
    },
    {
      "cell_type": "code",
      "source": [],
      "metadata": {
        "id": "OtcnzKg-5-de"
      },
      "execution_count": null,
      "outputs": []
    },
    {
      "cell_type": "markdown",
      "source": [
        "# Local and Global Variables"
      ],
      "metadata": {
        "id": "U2aJ7fSE7ltt"
      }
    },
    {
      "cell_type": "code",
      "source": [
        "x = 10 # Global variable - outside function\n",
        "\n",
        "def sample():\n",
        "  y = 15 # local variable - inside function\n",
        "  print(x, y)\n",
        "\n",
        "sample()\n",
        "print(y)"
      ],
      "metadata": {
        "colab": {
          "base_uri": "https://localhost:8080/",
          "height": 193
        },
        "id": "5miUurzn7pFf",
        "outputId": "b9855637-dc6b-487f-8ec3-f3e06750185a"
      },
      "execution_count": null,
      "outputs": [
        {
          "output_type": "stream",
          "name": "stdout",
          "text": [
            "10 15\n"
          ]
        },
        {
          "output_type": "error",
          "ename": "NameError",
          "evalue": "name 'y' is not defined",
          "traceback": [
            "\u001b[0;31m---------------------------------------------------------------------------\u001b[0m",
            "\u001b[0;31mNameError\u001b[0m                                 Traceback (most recent call last)",
            "\u001b[0;32m<ipython-input-39-fc55d9d41468>\u001b[0m in \u001b[0;36m<cell line: 0>\u001b[0;34m()\u001b[0m\n\u001b[1;32m      6\u001b[0m \u001b[0;34m\u001b[0m\u001b[0m\n\u001b[1;32m      7\u001b[0m \u001b[0msample\u001b[0m\u001b[0;34m(\u001b[0m\u001b[0;34m)\u001b[0m\u001b[0;34m\u001b[0m\u001b[0;34m\u001b[0m\u001b[0m\n\u001b[0;32m----> 8\u001b[0;31m \u001b[0mprint\u001b[0m\u001b[0;34m(\u001b[0m\u001b[0my\u001b[0m\u001b[0;34m)\u001b[0m\u001b[0;34m\u001b[0m\u001b[0;34m\u001b[0m\u001b[0m\n\u001b[0m",
            "\u001b[0;31mNameError\u001b[0m: name 'y' is not defined"
          ]
        }
      ]
    },
    {
      "cell_type": "code",
      "source": [
        "x = 10 # Global variable - outside function\n",
        "\n",
        "def sample():\n",
        "  x = 15 # local variable - inside function\n",
        "  print(x)\n",
        "\n",
        "sample()"
      ],
      "metadata": {
        "colab": {
          "base_uri": "https://localhost:8080/"
        },
        "id": "fHPXckyP7xPo",
        "outputId": "bfd5306c-6f3c-475d-cb82-e1d1cf7bf544"
      },
      "execution_count": null,
      "outputs": [
        {
          "output_type": "stream",
          "name": "stdout",
          "text": [
            "15\n"
          ]
        }
      ]
    },
    {
      "cell_type": "code",
      "source": [
        "x"
      ],
      "metadata": {
        "colab": {
          "base_uri": "https://localhost:8080/"
        },
        "id": "qW6LZTpm8FZ-",
        "outputId": "63966d48-d7bb-4634-9cad-e8b34026b14d"
      },
      "execution_count": null,
      "outputs": [
        {
          "output_type": "execute_result",
          "data": {
            "text/plain": [
              "10"
            ]
          },
          "metadata": {},
          "execution_count": 41
        }
      ]
    },
    {
      "cell_type": "code",
      "source": [
        "x = 10 # Global variable - outside function\n",
        "\n",
        "def sample():\n",
        "  global x\n",
        "  x = x + 5 # local variable - inside function\n",
        "  print(x)\n",
        "\n",
        "sample()"
      ],
      "metadata": {
        "colab": {
          "base_uri": "https://localhost:8080/"
        },
        "id": "lTMqxx2r8r7q",
        "outputId": "0d98c4d5-82f3-4269-bb3a-ed5eba864493"
      },
      "execution_count": null,
      "outputs": [
        {
          "output_type": "stream",
          "name": "stdout",
          "text": [
            "15\n"
          ]
        }
      ]
    },
    {
      "cell_type": "code",
      "source": [
        "x"
      ],
      "metadata": {
        "colab": {
          "base_uri": "https://localhost:8080/"
        },
        "id": "_wrzpMb28_Rc",
        "outputId": "ce56724a-4d5d-4e78-d671-727173d475d8"
      },
      "execution_count": null,
      "outputs": [
        {
          "output_type": "execute_result",
          "data": {
            "text/plain": [
              "15"
            ]
          },
          "metadata": {},
          "execution_count": 47
        }
      ]
    },
    {
      "cell_type": "code",
      "source": [
        "def outer():\n",
        "  x = 10 # non global\n",
        "  def inner():\n",
        "    nonlocal x\n",
        "    x = x + 5\n",
        "    print(\"inner Funciton:\", x)\n",
        "  inner()\n",
        "  print(\"Outer\",x)\n",
        "\n",
        "outer()"
      ],
      "metadata": {
        "colab": {
          "base_uri": "https://localhost:8080/"
        },
        "id": "_gANN1CE9HLP",
        "outputId": "deb0cd2d-571b-473e-b7c9-445ba8087e34"
      },
      "execution_count": null,
      "outputs": [
        {
          "output_type": "stream",
          "name": "stdout",
          "text": [
            "inner Funciton: 15\n",
            "Outer 15\n"
          ]
        }
      ]
    },
    {
      "cell_type": "code",
      "source": [
        "abc = abc + 10"
      ],
      "metadata": {
        "colab": {
          "base_uri": "https://localhost:8080/",
          "height": 141
        },
        "id": "w1jWRN_09j0U",
        "outputId": "d4946115-b50e-4cf0-da58-9c3ccb03db01"
      },
      "execution_count": null,
      "outputs": [
        {
          "output_type": "error",
          "ename": "NameError",
          "evalue": "name 'abc' is not defined",
          "traceback": [
            "\u001b[0;31m---------------------------------------------------------------------------\u001b[0m",
            "\u001b[0;31mNameError\u001b[0m                                 Traceback (most recent call last)",
            "\u001b[0;32m<ipython-input-53-daf1ef062cd0>\u001b[0m in \u001b[0;36m<cell line: 0>\u001b[0;34m()\u001b[0m\n\u001b[0;32m----> 1\u001b[0;31m \u001b[0mabc\u001b[0m \u001b[0;34m=\u001b[0m \u001b[0mabc\u001b[0m \u001b[0;34m+\u001b[0m \u001b[0;36m10\u001b[0m\u001b[0;34m\u001b[0m\u001b[0;34m\u001b[0m\u001b[0m\n\u001b[0m",
            "\u001b[0;31mNameError\u001b[0m: name 'abc' is not defined"
          ]
        }
      ]
    },
    {
      "cell_type": "code",
      "source": [],
      "metadata": {
        "id": "9JuFuYws-tWZ"
      },
      "execution_count": null,
      "outputs": []
    }
  ]
}