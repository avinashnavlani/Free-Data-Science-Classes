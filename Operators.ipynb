{
  "nbformat": 4,
  "nbformat_minor": 0,
  "metadata": {
    "colab": {
      "provenance": []
    },
    "kernelspec": {
      "name": "python3",
      "display_name": "Python 3"
    },
    "language_info": {
      "name": "python"
    }
  },
  "cells": [
    {
      "cell_type": "code",
      "execution_count": null,
      "metadata": {
        "id": "gmSAWjY9_vWa"
      },
      "outputs": [],
      "source": []
    },
    {
      "cell_type": "markdown",
      "source": [
        "# Arithmetic Operators\n",
        "\n",
        "+, -, *, /, //, * * (exponent), %(modulo)"
      ],
      "metadata": {
        "id": "_PwbJoeH_wTz"
      }
    },
    {
      "cell_type": "code",
      "source": [
        "10 + 5"
      ],
      "metadata": {
        "id": "tSFjYr3N_xol",
        "colab": {
          "base_uri": "https://localhost:8080/"
        },
        "outputId": "4ca8a356-fc76-4abd-d13f-fac019ed24b1"
      },
      "execution_count": null,
      "outputs": [
        {
          "output_type": "execute_result",
          "data": {
            "text/plain": [
              "15"
            ]
          },
          "metadata": {},
          "execution_count": 1
        }
      ]
    },
    {
      "cell_type": "code",
      "source": [
        "10 - 5"
      ],
      "metadata": {
        "colab": {
          "base_uri": "https://localhost:8080/"
        },
        "id": "KU01H9gGQEm6",
        "outputId": "67653a87-1172-45d0-cb82-20ba2e98aadd"
      },
      "execution_count": null,
      "outputs": [
        {
          "output_type": "execute_result",
          "data": {
            "text/plain": [
              "5"
            ]
          },
          "metadata": {},
          "execution_count": 2
        }
      ]
    },
    {
      "cell_type": "code",
      "source": [
        "4*5"
      ],
      "metadata": {
        "colab": {
          "base_uri": "https://localhost:8080/"
        },
        "id": "-M4a8o2kQGqw",
        "outputId": "2f8ef426-0e02-4cb5-ddd1-424b24d41ee9"
      },
      "execution_count": null,
      "outputs": [
        {
          "output_type": "execute_result",
          "data": {
            "text/plain": [
              "20"
            ]
          },
          "metadata": {},
          "execution_count": 4
        }
      ]
    },
    {
      "cell_type": "code",
      "source": [
        "20/5"
      ],
      "metadata": {
        "colab": {
          "base_uri": "https://localhost:8080/"
        },
        "id": "REJLUQ0aQKtV",
        "outputId": "3562f071-cfc7-4045-a9b9-a759f859755b"
      },
      "execution_count": null,
      "outputs": [
        {
          "output_type": "execute_result",
          "data": {
            "text/plain": [
              "4.0"
            ]
          },
          "metadata": {},
          "execution_count": 5
        }
      ]
    },
    {
      "cell_type": "code",
      "source": [
        "7 // 2 # skip the decimal part or floor value"
      ],
      "metadata": {
        "colab": {
          "base_uri": "https://localhost:8080/"
        },
        "id": "H0igLw4eQPlh",
        "outputId": "066402bc-5c6d-4ca8-d817-fda9c6ea6b49"
      },
      "execution_count": null,
      "outputs": [
        {
          "output_type": "execute_result",
          "data": {
            "text/plain": [
              "3"
            ]
          },
          "metadata": {},
          "execution_count": 6
        }
      ]
    },
    {
      "cell_type": "code",
      "source": [
        "-7//2"
      ],
      "metadata": {
        "colab": {
          "base_uri": "https://localhost:8080/"
        },
        "id": "LzcuWoV9Q4_J",
        "outputId": "ff784618-125b-494f-82fc-ce94cbb08a9f"
      },
      "execution_count": null,
      "outputs": [
        {
          "output_type": "execute_result",
          "data": {
            "text/plain": [
              "-4"
            ]
          },
          "metadata": {},
          "execution_count": 7
        }
      ]
    },
    {
      "cell_type": "code",
      "source": [
        "2 ** 3 # power or exponent"
      ],
      "metadata": {
        "colab": {
          "base_uri": "https://localhost:8080/"
        },
        "id": "IS98Dlk7RCzS",
        "outputId": "8ebfe9e5-e2cf-4217-f74e-bcaacba1852c"
      },
      "execution_count": null,
      "outputs": [
        {
          "output_type": "execute_result",
          "data": {
            "text/plain": [
              "8"
            ]
          },
          "metadata": {},
          "execution_count": 8
        }
      ]
    },
    {
      "cell_type": "code",
      "source": [
        "199%5 # remendar operator"
      ],
      "metadata": {
        "colab": {
          "base_uri": "https://localhost:8080/"
        },
        "id": "I1q5-sIhRCjD",
        "outputId": "cfa635e7-a513-4084-dbfb-ed76898912ce"
      },
      "execution_count": null,
      "outputs": [
        {
          "output_type": "execute_result",
          "data": {
            "text/plain": [
              "4"
            ]
          },
          "metadata": {},
          "execution_count": 9
        }
      ]
    },
    {
      "cell_type": "markdown",
      "source": [
        "# logical operators (not, and, or)"
      ],
      "metadata": {
        "id": "qkTyatqE_-zN"
      }
    },
    {
      "cell_type": "code",
      "source": [
        "# True as 1 and False as 0\n",
        "True or False, True or True, False or True, False or False"
      ],
      "metadata": {
        "id": "JSRHGedeABNc",
        "colab": {
          "base_uri": "https://localhost:8080/"
        },
        "outputId": "e46b7762-28d5-49d9-d32e-d23bf87efbff"
      },
      "execution_count": null,
      "outputs": [
        {
          "output_type": "execute_result",
          "data": {
            "text/plain": [
              "(True, True, True, False)"
            ]
          },
          "metadata": {},
          "execution_count": 12
        }
      ]
    },
    {
      "cell_type": "code",
      "source": [
        "True and False, True and True, False and True, False and False"
      ],
      "metadata": {
        "colab": {
          "base_uri": "https://localhost:8080/"
        },
        "id": "D5QfUudmRkkN",
        "outputId": "2138ea27-17ac-4717-e096-b5eca45bd7a4"
      },
      "execution_count": null,
      "outputs": [
        {
          "output_type": "execute_result",
          "data": {
            "text/plain": [
              "(False, True, False, False)"
            ]
          },
          "metadata": {},
          "execution_count": 13
        }
      ]
    },
    {
      "cell_type": "code",
      "source": [
        "not True, not False # inversion"
      ],
      "metadata": {
        "colab": {
          "base_uri": "https://localhost:8080/"
        },
        "id": "g_oSNeoRR-61",
        "outputId": "74ea9e35-5c69-48f8-a45b-f67026789474"
      },
      "execution_count": null,
      "outputs": [
        {
          "output_type": "execute_result",
          "data": {
            "text/plain": [
              "(False, True)"
            ]
          },
          "metadata": {},
          "execution_count": 15
        }
      ]
    },
    {
      "cell_type": "markdown",
      "source": [
        "# Relational Operators\n",
        "\n",
        " <, > , >= , <=, ==, !="
      ],
      "metadata": {
        "id": "I2vXu6K2__3b"
      }
    },
    {
      "cell_type": "code",
      "source": [
        "5 > 4, 10 > 15"
      ],
      "metadata": {
        "id": "Rfr1v-AqAQrj",
        "colab": {
          "base_uri": "https://localhost:8080/"
        },
        "outputId": "13e70775-d091-461c-b168-16e7b8a60540"
      },
      "execution_count": null,
      "outputs": [
        {
          "output_type": "execute_result",
          "data": {
            "text/plain": [
              "(True, False)"
            ]
          },
          "metadata": {},
          "execution_count": 17
        }
      ]
    },
    {
      "cell_type": "code",
      "source": [
        "5 <= 4, 10 >= 15"
      ],
      "metadata": {
        "colab": {
          "base_uri": "https://localhost:8080/"
        },
        "id": "5ifL5sLaSTst",
        "outputId": "c1a6e21a-2b05-4a4f-861d-eb8b5dab0193"
      },
      "execution_count": null,
      "outputs": [
        {
          "output_type": "execute_result",
          "data": {
            "text/plain": [
              "(False, False)"
            ]
          },
          "metadata": {},
          "execution_count": 18
        }
      ]
    },
    {
      "cell_type": "code",
      "source": [
        "5 == 5"
      ],
      "metadata": {
        "colab": {
          "base_uri": "https://localhost:8080/"
        },
        "id": "L6OlojuwSZ-y",
        "outputId": "afc3a667-b83b-437e-d959-2780a0ec5cea"
      },
      "execution_count": null,
      "outputs": [
        {
          "output_type": "execute_result",
          "data": {
            "text/plain": [
              "True"
            ]
          },
          "metadata": {},
          "execution_count": 19
        }
      ]
    },
    {
      "cell_type": "code",
      "source": [
        "5 != 5"
      ],
      "metadata": {
        "colab": {
          "base_uri": "https://localhost:8080/"
        },
        "id": "9_vLem1MScVz",
        "outputId": "78051191-1e68-42a7-a367-34ec240b54e5"
      },
      "execution_count": null,
      "outputs": [
        {
          "output_type": "execute_result",
          "data": {
            "text/plain": [
              "False"
            ]
          },
          "metadata": {},
          "execution_count": 20
        }
      ]
    },
    {
      "cell_type": "markdown",
      "source": [
        "# Compound Operators\n",
        "+=, -=, * = , /=, **=, //=, %="
      ],
      "metadata": {
        "id": "9ogLub-jAehf"
      }
    },
    {
      "cell_type": "code",
      "source": [
        "a = 5\n",
        "\n",
        "a += 6    # a = a + 6\n",
        "\n",
        "print(a)"
      ],
      "metadata": {
        "id": "ROSXeADwAfWL",
        "colab": {
          "base_uri": "https://localhost:8080/"
        },
        "outputId": "2576b386-824d-4218-e84d-b8dc84707dcb"
      },
      "execution_count": null,
      "outputs": [
        {
          "output_type": "stream",
          "name": "stdout",
          "text": [
            "11\n"
          ]
        }
      ]
    },
    {
      "cell_type": "code",
      "source": [
        "a = 13\n",
        "\n",
        "a -= 6    # a = a - 6\n",
        "\n",
        "print(a)"
      ],
      "metadata": {
        "colab": {
          "base_uri": "https://localhost:8080/"
        },
        "id": "AvxkiksfS5Ay",
        "outputId": "b4bf6079-baa3-413c-c645-4fda6a802908"
      },
      "execution_count": null,
      "outputs": [
        {
          "output_type": "stream",
          "name": "stdout",
          "text": [
            "7\n"
          ]
        }
      ]
    },
    {
      "cell_type": "code",
      "source": [
        "a = 13\n",
        "\n",
        "a *= 6    # a = a * 6\n",
        "\n",
        "print(a)"
      ],
      "metadata": {
        "colab": {
          "base_uri": "https://localhost:8080/"
        },
        "id": "4BNnOngxTAvE",
        "outputId": "57c27275-097b-4f71-894a-36772bdc5614"
      },
      "execution_count": null,
      "outputs": [
        {
          "output_type": "stream",
          "name": "stdout",
          "text": [
            "78\n"
          ]
        }
      ]
    },
    {
      "cell_type": "code",
      "source": [
        "a = 13\n",
        "\n",
        "a /= 6    # a = a / 6\n",
        "\n",
        "print(a)"
      ],
      "metadata": {
        "colab": {
          "base_uri": "https://localhost:8080/"
        },
        "id": "824gg0tLTFwv",
        "outputId": "38899af5-96a1-4cc2-e633-811472bb7307"
      },
      "execution_count": null,
      "outputs": [
        {
          "output_type": "stream",
          "name": "stdout",
          "text": [
            "2.1666666666666665\n"
          ]
        }
      ]
    },
    {
      "cell_type": "code",
      "source": [
        "a = 5\n",
        "\n",
        "a **= 2    # a = a ** 2\n",
        "\n",
        "print(a)"
      ],
      "metadata": {
        "colab": {
          "base_uri": "https://localhost:8080/"
        },
        "id": "2HTwUOkdTJdd",
        "outputId": "903d29d3-a755-4b49-9441-90256972bfe3"
      },
      "execution_count": null,
      "outputs": [
        {
          "output_type": "stream",
          "name": "stdout",
          "text": [
            "25\n"
          ]
        }
      ]
    },
    {
      "cell_type": "code",
      "source": [
        "a = 13\n",
        "\n",
        "a %= 6    # a = a % 6\n",
        "\n",
        "print(a)"
      ],
      "metadata": {
        "colab": {
          "base_uri": "https://localhost:8080/"
        },
        "id": "CwXcWvwWTPCr",
        "outputId": "8aa4a6dc-1752-4bf7-80da-832f3c529c5a"
      },
      "execution_count": null,
      "outputs": [
        {
          "output_type": "stream",
          "name": "stdout",
          "text": [
            "1\n"
          ]
        }
      ]
    },
    {
      "cell_type": "markdown",
      "source": [
        "# Bitwise Operators"
      ],
      "metadata": {
        "id": "OhuCQZzeAiJ8"
      }
    },
    {
      "cell_type": "markdown",
      "source": [
        "Bitwise operators are operators that work on a bit at a time.\n",
        "\n",
        "AND is 1 only if both of its inputs are 1.\n",
        "\n",
        "OR is 1 if one or more of its inputs are 1.\n",
        "\n",
        "XOR is 1 only if exactly one of its inputs are 1. “1” if the inputs are different else for same input output is 0.\n",
        "\n",
        "NOT is 1 only if its input are 0."
      ],
      "metadata": {
        "id": "tetxZ6rOEZ5c"
      }
    },
    {
      "cell_type": "markdown",
      "source": [
        "## Bitwise AND (&)"
      ],
      "metadata": {
        "id": "Tmer6s9pA3Y4"
      }
    },
    {
      "cell_type": "code",
      "source": [
        "8 & 3"
      ],
      "metadata": {
        "id": "tdZrS_EqBJNN",
        "colab": {
          "base_uri": "https://localhost:8080/"
        },
        "outputId": "c10463a2-ac7d-45f3-f767-b8b3697cb694"
      },
      "execution_count": 3,
      "outputs": [
        {
          "output_type": "execute_result",
          "data": {
            "text/plain": [
              "0"
            ]
          },
          "metadata": {},
          "execution_count": 3
        }
      ]
    },
    {
      "cell_type": "code",
      "source": [
        "1010 & 1110"
      ],
      "metadata": {
        "colab": {
          "base_uri": "https://localhost:8080/"
        },
        "id": "UF9nOAxgGeMR",
        "outputId": "55df7883-7651-4e94-d157-700768ef3a36"
      },
      "execution_count": 8,
      "outputs": [
        {
          "output_type": "execute_result",
          "data": {
            "text/plain": [
              "82"
            ]
          },
          "metadata": {},
          "execution_count": 8
        }
      ]
    },
    {
      "cell_type": "code",
      "source": [],
      "metadata": {
        "colab": {
          "base_uri": "https://localhost:8080/"
        },
        "id": "mSVkGDoFGnoW",
        "outputId": "72424809-58ac-46b7-c9a6-a566cbb25a05"
      },
      "execution_count": 2,
      "outputs": [
        {
          "output_type": "execute_result",
          "data": {
            "text/plain": [
              "0"
            ]
          },
          "metadata": {},
          "execution_count": 2
        }
      ]
    },
    {
      "cell_type": "markdown",
      "source": [
        "## Bitwise OR (|)"
      ],
      "metadata": {
        "id": "9LMinwcXBC5L"
      }
    },
    {
      "cell_type": "code",
      "source": [
        "8|3"
      ],
      "metadata": {
        "id": "tHUNr9KiAtET",
        "colab": {
          "base_uri": "https://localhost:8080/"
        },
        "outputId": "41a804e5-c141-43c3-b82b-563d6b7715f9"
      },
      "execution_count": 4,
      "outputs": [
        {
          "output_type": "execute_result",
          "data": {
            "text/plain": [
              "11"
            ]
          },
          "metadata": {},
          "execution_count": 4
        }
      ]
    },
    {
      "cell_type": "markdown",
      "source": [
        "## Bitwise XOR (^)"
      ],
      "metadata": {
        "id": "rdBLoIneBCs1"
      }
    },
    {
      "cell_type": "code",
      "source": [
        "8^3"
      ],
      "metadata": {
        "id": "rRgBmVv0BfWb",
        "colab": {
          "base_uri": "https://localhost:8080/"
        },
        "outputId": "1adcfd5a-888d-42ec-e4a3-322d8abc4312"
      },
      "execution_count": 5,
      "outputs": [
        {
          "output_type": "execute_result",
          "data": {
            "text/plain": [
              "11"
            ]
          },
          "metadata": {},
          "execution_count": 5
        }
      ]
    },
    {
      "cell_type": "markdown",
      "source": [
        "## Bitwise leftshift (<<)"
      ],
      "metadata": {
        "id": "_LPSmTNrBf6M"
      }
    },
    {
      "cell_type": "code",
      "source": [
        "11<<1 # multiply by 2"
      ],
      "metadata": {
        "id": "-_BwCpe-Blek",
        "colab": {
          "base_uri": "https://localhost:8080/"
        },
        "outputId": "bc966587-7047-4797-bc4b-d6395142bb3f"
      },
      "execution_count": 13,
      "outputs": [
        {
          "output_type": "execute_result",
          "data": {
            "text/plain": [
              "22"
            ]
          },
          "metadata": {},
          "execution_count": 13
        }
      ]
    },
    {
      "cell_type": "markdown",
      "source": [
        "## Bitwise rightshift (>>)"
      ],
      "metadata": {
        "id": "yZP0l1ZmA7NN"
      }
    },
    {
      "cell_type": "code",
      "source": [
        "10>>1"
      ],
      "metadata": {
        "id": "hdegBbzvBk87",
        "colab": {
          "base_uri": "https://localhost:8080/"
        },
        "outputId": "602d1aed-f402-4ddf-e246-50afcc48e363"
      },
      "execution_count": 14,
      "outputs": [
        {
          "output_type": "execute_result",
          "data": {
            "text/plain": [
              "5"
            ]
          },
          "metadata": {},
          "execution_count": 14
        }
      ]
    },
    {
      "cell_type": "code",
      "source": [
        "14>>1 # devide by 2"
      ],
      "metadata": {
        "colab": {
          "base_uri": "https://localhost:8080/"
        },
        "id": "b6Ax8jrgU458",
        "outputId": "fd714c92-f871-435a-9b78-29bcc53b3c7b"
      },
      "execution_count": 15,
      "outputs": [
        {
          "output_type": "execute_result",
          "data": {
            "text/plain": [
              "7"
            ]
          },
          "metadata": {},
          "execution_count": 15
        }
      ]
    },
    {
      "cell_type": "markdown",
      "source": [],
      "metadata": {
        "id": "MZWcdrZDU4hz"
      }
    },
    {
      "cell_type": "markdown",
      "source": [
        "# Exercise"
      ],
      "metadata": {
        "id": "UddnkZUfL2AG"
      }
    },
    {
      "cell_type": "markdown",
      "source": [
        "1) Write a Python program to check if a given number is odd or even using the bitwise AND operator. Hint: If num & 1 == 0, it's even; otherwise, it's odd."
      ],
      "metadata": {
        "id": "IPjKCoJqDWE2"
      }
    },
    {
      "cell_type": "code",
      "source": [
        "8%2 == 0"
      ],
      "metadata": {
        "colab": {
          "base_uri": "https://localhost:8080/"
        },
        "id": "TKQKgFhyDXRz",
        "outputId": "5ccf205e-1102-4760-d406-4610caef37aa"
      },
      "execution_count": 17,
      "outputs": [
        {
          "output_type": "execute_result",
          "data": {
            "text/plain": [
              "True"
            ]
          },
          "metadata": {},
          "execution_count": 17
        }
      ]
    },
    {
      "cell_type": "code",
      "source": [],
      "metadata": {
        "id": "4bDihRfXWHZX"
      },
      "execution_count": null,
      "outputs": []
    },
    {
      "cell_type": "code",
      "source": [
        "8 & 1"
      ],
      "metadata": {
        "colab": {
          "base_uri": "https://localhost:8080/"
        },
        "id": "mz4PCtnPVTBv",
        "outputId": "5a2c63f2-99df-4545-db19-76410bb8b82a"
      },
      "execution_count": 18,
      "outputs": [
        {
          "output_type": "execute_result",
          "data": {
            "text/plain": [
              "0"
            ]
          },
          "metadata": {},
          "execution_count": 18
        }
      ]
    },
    {
      "cell_type": "code",
      "source": [
        "num = int(input(\"Enter a Number:\"))\n",
        "\n",
        "if num & 1 == 0:\n",
        "  print(\"Even Number\")\n",
        "else:\n",
        "  print(\"Odd NUmber\")"
      ],
      "metadata": {
        "colab": {
          "base_uri": "https://localhost:8080/"
        },
        "id": "BdYbqfCxWIoI",
        "outputId": "591c5fae-7576-4473-d4d7-14ccb72aa0e7"
      },
      "execution_count": 20,
      "outputs": [
        {
          "output_type": "stream",
          "name": "stdout",
          "text": [
            "Enter a Number:1000000652\n",
            "Even Number\n"
          ]
        }
      ]
    },
    {
      "cell_type": "markdown",
      "source": [
        "2) Write a Python program to multiply a number by 2 using the bitwise left shift operator."
      ],
      "metadata": {
        "id": "hUPa0muOEEt-"
      }
    },
    {
      "cell_type": "code",
      "source": [],
      "metadata": {
        "colab": {
          "base_uri": "https://localhost:8080/"
        },
        "id": "c4Y2VdqWDYms",
        "outputId": "f0f78147-0596-458c-bdc0-17c18f4d7ad1"
      },
      "execution_count": null,
      "outputs": [
        {
          "output_type": "execute_result",
          "data": {
            "text/plain": [
              "16"
            ]
          },
          "metadata": {},
          "execution_count": 4
        }
      ]
    },
    {
      "cell_type": "markdown",
      "source": [
        "3) Write a Python program to divide a number by 2 using the bitwise right shift operator."
      ],
      "metadata": {
        "id": "e94vUe8yElMu"
      }
    },
    {
      "cell_type": "code",
      "source": [
        "8<<1"
      ],
      "metadata": {
        "colab": {
          "base_uri": "https://localhost:8080/"
        },
        "id": "9LnT2Bt6EB8j",
        "outputId": "cbb1cae3-1d3a-4a9d-fd61-239e0508a146"
      },
      "execution_count": null,
      "outputs": [
        {
          "output_type": "execute_result",
          "data": {
            "text/plain": [
              "16"
            ]
          },
          "metadata": {},
          "execution_count": 7
        }
      ]
    },
    {
      "cell_type": "code",
      "source": [],
      "metadata": {
        "id": "rPx6Ry9HFLbU"
      },
      "execution_count": null,
      "outputs": []
    }
  ]
}