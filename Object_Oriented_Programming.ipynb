{
  "nbformat": 4,
  "nbformat_minor": 0,
  "metadata": {
    "colab": {
      "provenance": []
    },
    "kernelspec": {
      "name": "python3",
      "display_name": "Python 3"
    },
    "language_info": {
      "name": "python"
    }
  },
  "cells": [
    {
      "cell_type": "code",
      "source": [],
      "metadata": {
        "id": "4525WJQoYXSQ"
      },
      "execution_count": null,
      "outputs": []
    },
    {
      "cell_type": "markdown",
      "source": [
        "# Class and Objects"
      ],
      "metadata": {
        "id": "WTQGNmwQYWy4"
      }
    },
    {
      "cell_type": "code",
      "source": [
        "class phone:\n",
        "  \"\"\"\n",
        "  Phone class - Blueprint for phone\n",
        "  \"\"\"\n",
        "  # constructor\n",
        "  def __init__(self,brand,model,color,year=2025):\n",
        "    # attributes/properties\n",
        "    self.brand=brand\n",
        "    self.model=model\n",
        "    self.color=color\n",
        "    self.year=year\n",
        "\n",
        "  # methods/actions/behaviour\n",
        "  def call(self):\n",
        "    print(\"to call somebody.\")\n",
        "\n",
        "  def send_text(self,text):\n",
        "    print(\"Send Message:\", text)\n",
        "\n",
        "  def take_photo(self):\n",
        "    print(\"Picture taken using\", self.brand)"
      ],
      "metadata": {
        "id": "4Gz-lEb9sQrN"
      },
      "execution_count": null,
      "outputs": []
    },
    {
      "cell_type": "code",
      "source": [
        "apple = phone('Apple', '16 Pro', 'Silver')\n",
        "onplus = phone('Oneplus', '13R', 'Green', 2024)"
      ],
      "metadata": {
        "id": "X6X1st2hFx2Z"
      },
      "execution_count": null,
      "outputs": []
    },
    {
      "cell_type": "code",
      "source": [
        "type(apple)"
      ],
      "metadata": {
        "colab": {
          "base_uri": "https://localhost:8080/",
          "height": 104
        },
        "id": "RAT4wBxBB8rA",
        "outputId": "a1912cf5-aa44-4352-bf8a-385ea3adbe51"
      },
      "execution_count": null,
      "outputs": [
        {
          "output_type": "execute_result",
          "data": {
            "text/plain": [
              "__main__.phone"
            ],
            "text/html": [
              "<div style=\"max-width:800px; border: 1px solid var(--colab-border-color);\"><style>\n",
              "      pre.function-repr-contents {\n",
              "        overflow-x: auto;\n",
              "        padding: 8px 12px;\n",
              "        max-height: 500px;\n",
              "      }\n",
              "\n",
              "      pre.function-repr-contents.function-repr-contents-collapsed {\n",
              "        cursor: pointer;\n",
              "        max-height: 100px;\n",
              "      }\n",
              "    </style>\n",
              "    <pre style=\"white-space: initial; background:\n",
              "         var(--colab-secondary-surface-color); padding: 8px 12px;\n",
              "         border-bottom: 1px solid var(--colab-border-color);\"><b>phone</b><br/>def __init__(brand, model, color, year=2025)</pre><pre class=\"function-repr-contents function-repr-contents-collapsed\" style=\"\"><a class=\"filepath\" style=\"display:none\" href=\"#\"></a>Phone class - Blueprint for phone </pre></div>"
            ]
          },
          "metadata": {},
          "execution_count": 59
        }
      ]
    },
    {
      "cell_type": "code",
      "source": [
        "apple.year, onplus.year"
      ],
      "metadata": {
        "colab": {
          "base_uri": "https://localhost:8080/"
        },
        "id": "ZmM38naIFw8p",
        "outputId": "a05306c9-7ac4-436c-e77c-1b58990d9691"
      },
      "execution_count": null,
      "outputs": [
        {
          "output_type": "execute_result",
          "data": {
            "text/plain": [
              "(2025, 2024)"
            ]
          },
          "metadata": {},
          "execution_count": 60
        }
      ]
    },
    {
      "cell_type": "code",
      "source": [
        "apple.brand, apple.model, apple.color"
      ],
      "metadata": {
        "colab": {
          "base_uri": "https://localhost:8080/"
        },
        "id": "oNy5lcpBB9m6",
        "outputId": "9c55bab7-5cab-42f1-cb85-ef7cbd7b922f"
      },
      "execution_count": null,
      "outputs": [
        {
          "output_type": "execute_result",
          "data": {
            "text/plain": [
              "('Apple', '16 Pro', 'Silver')"
            ]
          },
          "metadata": {},
          "execution_count": 41
        }
      ]
    },
    {
      "cell_type": "code",
      "source": [
        "apple.call()"
      ],
      "metadata": {
        "colab": {
          "base_uri": "https://localhost:8080/"
        },
        "id": "UIrC0IH5CFhq",
        "outputId": "b880ed89-b7f4-4964-ec9d-6308f598aebd"
      },
      "execution_count": null,
      "outputs": [
        {
          "output_type": "stream",
          "name": "stdout",
          "text": [
            "to call somebody.\n"
          ]
        }
      ]
    },
    {
      "cell_type": "code",
      "source": [
        "apple.send_text(\"Call me after sometime.\")"
      ],
      "metadata": {
        "colab": {
          "base_uri": "https://localhost:8080/"
        },
        "id": "lOSjjq7NCL-9",
        "outputId": "76d90034-6562-4021-c1bf-b3803842e74a"
      },
      "execution_count": null,
      "outputs": [
        {
          "output_type": "stream",
          "name": "stdout",
          "text": [
            "Send Message: Call me after sometime.\n"
          ]
        }
      ]
    },
    {
      "cell_type": "code",
      "source": [
        "apple.take_photo()"
      ],
      "metadata": {
        "colab": {
          "base_uri": "https://localhost:8080/"
        },
        "id": "QeDl1lj7CQsx",
        "outputId": "ba02f8c7-9e7f-45aa-e940-8cf5cad7be20"
      },
      "execution_count": null,
      "outputs": [
        {
          "output_type": "stream",
          "name": "stdout",
          "text": [
            "Picture taken using Apple\n"
          ]
        }
      ]
    },
    {
      "cell_type": "code",
      "source": [
        "apple.avi = '123'"
      ],
      "metadata": {
        "id": "ZGUh52itCVpT"
      },
      "execution_count": null,
      "outputs": []
    },
    {
      "cell_type": "code",
      "source": [
        "apple.avi"
      ],
      "metadata": {
        "colab": {
          "base_uri": "https://localhost:8080/",
          "height": 35
        },
        "id": "FqWbTgZWEJj1",
        "outputId": "da76e326-732f-491e-fe3e-79dbab25c290"
      },
      "execution_count": null,
      "outputs": [
        {
          "output_type": "execute_result",
          "data": {
            "text/plain": [
              "'123'"
            ],
            "application/vnd.google.colaboratory.intrinsic+json": {
              "type": "string"
            }
          },
          "metadata": {},
          "execution_count": 47
        }
      ]
    },
    {
      "cell_type": "code",
      "source": [
        "onplus.brand"
      ],
      "metadata": {
        "colab": {
          "base_uri": "https://localhost:8080/",
          "height": 35
        },
        "id": "2sWFsOZtFPn7",
        "outputId": "f55e40a9-bc84-41be-f47e-0082716f05ec"
      },
      "execution_count": null,
      "outputs": [
        {
          "output_type": "execute_result",
          "data": {
            "text/plain": [
              "'Oneplus'"
            ],
            "application/vnd.google.colaboratory.intrinsic+json": {
              "type": "string"
            }
          },
          "metadata": {},
          "execution_count": 49
        }
      ]
    },
    {
      "cell_type": "code",
      "source": [
        "class vehicle:\n",
        "  # Here default constructor will be added.\n",
        "  def move(self):\n",
        "    print(\"Move Vehicle...\")"
      ],
      "metadata": {
        "id": "eRIz3v6n46rA"
      },
      "execution_count": null,
      "outputs": []
    },
    {
      "cell_type": "code",
      "source": [
        "v = vehicle()"
      ],
      "metadata": {
        "id": "6N5XnxOSCkp6"
      },
      "execution_count": null,
      "outputs": []
    },
    {
      "cell_type": "code",
      "source": [
        "type(v)"
      ],
      "metadata": {
        "colab": {
          "base_uri": "https://localhost:8080/"
        },
        "id": "1N1dpZJyCm5G",
        "outputId": "620f916c-6fb6-4eb2-8b0b-5ef2e8959c4b"
      },
      "execution_count": null,
      "outputs": [
        {
          "output_type": "execute_result",
          "data": {
            "text/plain": [
              "__main__.vehicle"
            ]
          },
          "metadata": {},
          "execution_count": 4
        }
      ]
    },
    {
      "cell_type": "code",
      "source": [
        "v.move()"
      ],
      "metadata": {
        "colab": {
          "base_uri": "https://localhost:8080/"
        },
        "id": "kvAb5uiZCpF-",
        "outputId": "6b8ae8f7-4bed-4681-ff08-d3f6a791d824"
      },
      "execution_count": null,
      "outputs": [
        {
          "output_type": "stream",
          "name": "stdout",
          "text": [
            "Move Vehicle...\n"
          ]
        }
      ]
    },
    {
      "cell_type": "code",
      "source": [],
      "metadata": {
        "id": "XaJy-favYRtS"
      },
      "execution_count": null,
      "outputs": []
    },
    {
      "cell_type": "markdown",
      "source": [
        "# Constructor and Destructor"
      ],
      "metadata": {
        "id": "b_bvBvMBYSHI"
      }
    },
    {
      "cell_type": "code",
      "source": [
        "class Car:\n",
        "  # constructor\n",
        "  def __init__(self, brand, model):\n",
        "    # attributes/properties/class memebr\n",
        "    self.brand = brand\n",
        "    self.model = model\n",
        "    print(\"Car object is created with values\", self.brand, self.model)\n",
        "\n",
        "  # methods/actions/behavioue/class methods\n",
        "  def move(self):\n",
        "    print(\"Car is moving...\")\n",
        "\n",
        "  def honk(self):\n",
        "    print(\"Car honks!\")\n",
        "\n",
        "  # destructor\n",
        "  def __del__(self):\n",
        "    print(\"Car object is deleted.\")"
      ],
      "metadata": {
        "id": "qLbi5zS8CrlA"
      },
      "execution_count": null,
      "outputs": []
    },
    {
      "cell_type": "code",
      "source": [
        "c = Car('Maruti', 'Alto')"
      ],
      "metadata": {
        "colab": {
          "base_uri": "https://localhost:8080/"
        },
        "id": "OKjU7OYbDcRr",
        "outputId": "25e94ce9-af0c-4dbf-e217-763b2459253f"
      },
      "execution_count": null,
      "outputs": [
        {
          "output_type": "stream",
          "name": "stdout",
          "text": [
            "Car object is created with values Maruti Alto\n"
          ]
        }
      ]
    },
    {
      "cell_type": "code",
      "source": [
        "c.move()"
      ],
      "metadata": {
        "colab": {
          "base_uri": "https://localhost:8080/"
        },
        "id": "G4YEt-iKDdnt",
        "outputId": "a5f89235-ee42-4ba7-9f92-81123423ab55"
      },
      "execution_count": null,
      "outputs": [
        {
          "output_type": "stream",
          "name": "stdout",
          "text": [
            "Car is moving...\n"
          ]
        }
      ]
    },
    {
      "cell_type": "code",
      "source": [
        "c.honk()"
      ],
      "metadata": {
        "colab": {
          "base_uri": "https://localhost:8080/"
        },
        "id": "XgXX8xu8DnIe",
        "outputId": "e82eca9a-6862-4590-dae5-e2d26784f58a"
      },
      "execution_count": null,
      "outputs": [
        {
          "output_type": "stream",
          "name": "stdout",
          "text": [
            "Car honks!\n"
          ]
        }
      ]
    },
    {
      "cell_type": "code",
      "source": [
        "del c"
      ],
      "metadata": {
        "id": "LPhqAoprDoFD"
      },
      "execution_count": null,
      "outputs": []
    },
    {
      "cell_type": "code",
      "source": [
        "c"
      ],
      "metadata": {
        "colab": {
          "base_uri": "https://localhost:8080/",
          "height": 141
        },
        "id": "CGaqH1zGFKST",
        "outputId": "0528f731-e220-4a73-a114-83d052ffc17d"
      },
      "execution_count": null,
      "outputs": [
        {
          "output_type": "error",
          "ename": "NameError",
          "evalue": "name 'c' is not defined",
          "traceback": [
            "\u001b[0;31m---------------------------------------------------------------------------\u001b[0m",
            "\u001b[0;31mNameError\u001b[0m                                 Traceback (most recent call last)",
            "\u001b[0;32m<ipython-input-16-2b66fd261ee5>\u001b[0m in \u001b[0;36m<cell line: 0>\u001b[0;34m()\u001b[0m\n\u001b[0;32m----> 1\u001b[0;31m \u001b[0mc\u001b[0m\u001b[0;34m\u001b[0m\u001b[0;34m\u001b[0m\u001b[0m\n\u001b[0m",
            "\u001b[0;31mNameError\u001b[0m: name 'c' is not defined"
          ]
        }
      ]
    },
    {
      "cell_type": "markdown",
      "source": [
        "# Simple Inheritance"
      ],
      "metadata": {
        "id": "Otjr8QjlYOLg"
      }
    },
    {
      "cell_type": "code",
      "source": [
        "# parent class -\n",
        "class vehicle:\n",
        "  # Here default constructor will be added.\n",
        "  def move(self):\n",
        "    print(\"Move Vehicle...\")\n",
        "\n",
        "# child class - sub class\n",
        "class car(vehicle):\n",
        "  def honk(self):\n",
        "    print(\"Car honks!\")"
      ],
      "metadata": {
        "id": "VIdD-HjNFRKS"
      },
      "execution_count": null,
      "outputs": []
    },
    {
      "cell_type": "code",
      "source": [
        "c = car()"
      ],
      "metadata": {
        "id": "-RQflU37IFML"
      },
      "execution_count": null,
      "outputs": []
    },
    {
      "cell_type": "code",
      "source": [
        "c.honk()"
      ],
      "metadata": {
        "colab": {
          "base_uri": "https://localhost:8080/"
        },
        "id": "yfV46OHXIHPe",
        "outputId": "76972161-5250-4af6-8c3f-28b053d8c8ee"
      },
      "execution_count": null,
      "outputs": [
        {
          "output_type": "stream",
          "name": "stdout",
          "text": [
            "Car honks!\n"
          ]
        }
      ]
    },
    {
      "cell_type": "code",
      "source": [
        "c.move()"
      ],
      "metadata": {
        "colab": {
          "base_uri": "https://localhost:8080/"
        },
        "id": "-m32yzFxIIqa",
        "outputId": "89791c89-42b2-4e5a-c7ff-9b797f701207"
      },
      "execution_count": null,
      "outputs": [
        {
          "output_type": "stream",
          "name": "stdout",
          "text": [
            "Move Vehicle...\n"
          ]
        }
      ]
    },
    {
      "cell_type": "code",
      "source": [],
      "metadata": {
        "id": "qxwvK-_kYGq_"
      },
      "execution_count": null,
      "outputs": []
    },
    {
      "cell_type": "markdown",
      "source": [
        "# Hybrid Inheritance"
      ],
      "metadata": {
        "id": "6ep2EOjwYHEH"
      }
    },
    {
      "cell_type": "code",
      "source": [
        "# parent class -\n",
        "class vehicle:\n",
        "  # Here default constructor will be added.\n",
        "  def move(self):\n",
        "    print(\"Move Vehicle...\")\n",
        "\n",
        "# parent class\n",
        "class engine:\n",
        "  def start_engine(self):\n",
        "    print(\"Engine Started...\")\n",
        "  def stop_engine(self):\n",
        "    print(\"Enginer Stopped...\")\n",
        "\n",
        "# Child class - Multiple inheritance\n",
        "class car(vehicle, engine):\n",
        "  # method overriding - Polypmorphism\n",
        "  def move(self):\n",
        "    print(\"Move Car - Child class...\")\n",
        "  def honk(self):\n",
        "    print(\"Car honks!\")\n",
        "\n",
        "# multilevel inheritance\n",
        "class ElectricCar(car):\n",
        "  def charge(self):\n",
        "    print(\"Electric Car charged...\")"
      ],
      "metadata": {
        "id": "Eu9mQS1VILFi"
      },
      "execution_count": null,
      "outputs": []
    },
    {
      "cell_type": "code",
      "source": [
        "c = car()"
      ],
      "metadata": {
        "id": "Z9QfifgQIxNQ"
      },
      "execution_count": null,
      "outputs": []
    },
    {
      "cell_type": "code",
      "source": [
        "c.move()"
      ],
      "metadata": {
        "colab": {
          "base_uri": "https://localhost:8080/"
        },
        "id": "3aJtOMIOJIKS",
        "outputId": "62679165-eaa7-4017-8744-88f0fdadd8a7"
      },
      "execution_count": null,
      "outputs": [
        {
          "output_type": "stream",
          "name": "stdout",
          "text": [
            "Move Car - Child class...\n"
          ]
        }
      ]
    },
    {
      "cell_type": "code",
      "source": [
        "c.start_engine()"
      ],
      "metadata": {
        "colab": {
          "base_uri": "https://localhost:8080/"
        },
        "id": "sgyFTlT0JI_p",
        "outputId": "eee24a2b-ae97-4b5f-c31b-556e672570a4"
      },
      "execution_count": null,
      "outputs": [
        {
          "output_type": "stream",
          "name": "stdout",
          "text": [
            "Engine Started...\n"
          ]
        }
      ]
    },
    {
      "cell_type": "code",
      "source": [
        "c.stop_engine()"
      ],
      "metadata": {
        "colab": {
          "base_uri": "https://localhost:8080/"
        },
        "id": "sUK5dTRLJKm2",
        "outputId": "108083fe-32f3-4c27-f538-268b8e21aafe"
      },
      "execution_count": null,
      "outputs": [
        {
          "output_type": "stream",
          "name": "stdout",
          "text": [
            "Enginer Stopped...\n"
          ]
        }
      ]
    },
    {
      "cell_type": "code",
      "source": [
        "c.move()"
      ],
      "metadata": {
        "colab": {
          "base_uri": "https://localhost:8080/"
        },
        "id": "Eq7L0LLiJNav",
        "outputId": "9402eaca-5cd4-4628-a30e-45608583a305"
      },
      "execution_count": null,
      "outputs": [
        {
          "output_type": "stream",
          "name": "stdout",
          "text": [
            "Move Car - Child class...\n"
          ]
        }
      ]
    },
    {
      "cell_type": "code",
      "source": [
        "ec = ElectricCar()"
      ],
      "metadata": {
        "id": "fVghgvLPJOJ5"
      },
      "execution_count": null,
      "outputs": []
    },
    {
      "cell_type": "code",
      "source": [
        "ec.start_engine()"
      ],
      "metadata": {
        "colab": {
          "base_uri": "https://localhost:8080/"
        },
        "id": "ma2yaQNrKC06",
        "outputId": "9ceb7e91-cb5e-4de1-908f-3d7de1cde031"
      },
      "execution_count": null,
      "outputs": [
        {
          "output_type": "stream",
          "name": "stdout",
          "text": [
            "Engine Started...\n"
          ]
        }
      ]
    },
    {
      "cell_type": "code",
      "source": [
        "ec.stop_engine()"
      ],
      "metadata": {
        "colab": {
          "base_uri": "https://localhost:8080/"
        },
        "id": "GqdQzggMKEsB",
        "outputId": "8f899ca1-6e55-4cb7-d3d2-3623f9988805"
      },
      "execution_count": null,
      "outputs": [
        {
          "output_type": "stream",
          "name": "stdout",
          "text": [
            "Enginer Stopped...\n"
          ]
        }
      ]
    },
    {
      "cell_type": "code",
      "source": [
        "ec.move()"
      ],
      "metadata": {
        "colab": {
          "base_uri": "https://localhost:8080/"
        },
        "id": "CcBagQ80KIab",
        "outputId": "7d9a3f6a-86c6-4f62-8a7e-128784787d01"
      },
      "execution_count": null,
      "outputs": [
        {
          "output_type": "stream",
          "name": "stdout",
          "text": [
            "Move Car - Child class...\n"
          ]
        }
      ]
    },
    {
      "cell_type": "code",
      "source": [
        "ec.honk()"
      ],
      "metadata": {
        "colab": {
          "base_uri": "https://localhost:8080/"
        },
        "id": "GTc1YjncKJgy",
        "outputId": "a8405809-c1cc-4ec7-96ef-71e1a07634c2"
      },
      "execution_count": null,
      "outputs": [
        {
          "output_type": "stream",
          "name": "stdout",
          "text": [
            "Car honks!\n"
          ]
        }
      ]
    },
    {
      "cell_type": "code",
      "source": [
        "v = vehicle()"
      ],
      "metadata": {
        "id": "tfYq0VRGKL8y"
      },
      "execution_count": null,
      "outputs": []
    },
    {
      "cell_type": "code",
      "source": [
        "v.charge()"
      ],
      "metadata": {
        "colab": {
          "base_uri": "https://localhost:8080/",
          "height": 141
        },
        "id": "mJ42xEIeKORV",
        "outputId": "b50709ad-74de-4056-e0be-8203e7215524"
      },
      "execution_count": null,
      "outputs": [
        {
          "output_type": "error",
          "ename": "AttributeError",
          "evalue": "'vehicle' object has no attribute 'charge'",
          "traceback": [
            "\u001b[0;31m---------------------------------------------------------------------------\u001b[0m",
            "\u001b[0;31mAttributeError\u001b[0m                            Traceback (most recent call last)",
            "\u001b[0;32m<ipython-input-18-26f6f28dff50>\u001b[0m in \u001b[0;36m<cell line: 0>\u001b[0;34m()\u001b[0m\n\u001b[0;32m----> 1\u001b[0;31m \u001b[0mv\u001b[0m\u001b[0;34m.\u001b[0m\u001b[0mcharge\u001b[0m\u001b[0;34m(\u001b[0m\u001b[0;34m)\u001b[0m\u001b[0;34m\u001b[0m\u001b[0;34m\u001b[0m\u001b[0m\n\u001b[0m",
            "\u001b[0;31mAttributeError\u001b[0m: 'vehicle' object has no attribute 'charge'"
          ]
        }
      ]
    },
    {
      "cell_type": "code",
      "source": [
        "ec.charge()"
      ],
      "metadata": {
        "colab": {
          "base_uri": "https://localhost:8080/"
        },
        "id": "F9BOKEYMKP-K",
        "outputId": "426a8466-61d0-4fee-f3d4-cedb50167d63"
      },
      "execution_count": null,
      "outputs": [
        {
          "output_type": "stream",
          "name": "stdout",
          "text": [
            "Electric Car charged...\n"
          ]
        }
      ]
    },
    {
      "cell_type": "markdown",
      "source": [
        "# Hieararchical Inheritance"
      ],
      "metadata": {
        "id": "S8fZvhC8YAFi"
      }
    },
    {
      "cell_type": "code",
      "source": [
        "class vehicle:\n",
        "  # Here default constructor will be added.\n",
        "  def move(self):\n",
        "    print(\"Move Vehicle...\")\n",
        "\n",
        "# child class - sub class\n",
        "class car(vehicle):\n",
        "  # method overriding\n",
        "  def move(self):\n",
        "    print(\"Move Car - Child class...\")\n",
        "  def honk(self):\n",
        "    print(\"Car honks!\")\n",
        "\n",
        "# child class - sub class\n",
        "class truck(vehicle):\n",
        "  def loading(self):\n",
        "    print(\"Goods Loaded\")"
      ],
      "metadata": {
        "id": "iLVJVJ8KKT4p"
      },
      "execution_count": null,
      "outputs": []
    },
    {
      "cell_type": "code",
      "source": [],
      "metadata": {
        "id": "2Q1iRLIWDUQJ"
      },
      "execution_count": null,
      "outputs": []
    },
    {
      "cell_type": "markdown",
      "source": [
        "# super() keyword"
      ],
      "metadata": {
        "id": "Ax6bibYdYe_U"
      }
    },
    {
      "cell_type": "code",
      "source": [
        "# parent class\n",
        "class Animal:\n",
        "  def __init__(self, name):\n",
        "    self.name = name\n",
        "    print(\"Animal Constructor\")\n",
        "  def sound(self):\n",
        "    print(\"Animal Sound\")\n",
        "  def walk(self):\n",
        "    print(\"Animal Walking\")\n",
        "\n",
        "class Dog(Animal):\n",
        "  # child class\n",
        "  def __init__(self,name,breed):\n",
        "    print(\"Befor calling super\")\n",
        "    super().__init__(name)\n",
        "    self.breed = breed\n",
        "    print(f\"Dog Constructor - name: {self.name} and breed: {self.breed}\")\n",
        "\n",
        "  def sound(self):\n",
        "    print(\"Dog Sound\")\n",
        "\n",
        "  def movement(self):\n",
        "    self.walk()\n",
        "    self.sound()\n",
        "    super().sound()"
      ],
      "metadata": {
        "id": "vATxQsWbYhny"
      },
      "execution_count": null,
      "outputs": []
    },
    {
      "cell_type": "code",
      "source": [
        "d1 = Dog(\"Scooby\", \"pug\")"
      ],
      "metadata": {
        "colab": {
          "base_uri": "https://localhost:8080/"
        },
        "id": "uUlQstxYZDSB",
        "outputId": "39c5ec49-4665-4b31-f436-623e13ccfcba"
      },
      "execution_count": null,
      "outputs": [
        {
          "output_type": "stream",
          "name": "stdout",
          "text": [
            "Befor calling super\n",
            "Dog Constructor - name: Scooby and breed: pug\n"
          ]
        }
      ]
    },
    {
      "cell_type": "code",
      "source": [
        "d1.movement()"
      ],
      "metadata": {
        "colab": {
          "base_uri": "https://localhost:8080/"
        },
        "id": "Yw8yIMsKZKh_",
        "outputId": "7ecfe8d3-6d01-40bb-a87b-494c40afda03"
      },
      "execution_count": null,
      "outputs": [
        {
          "output_type": "stream",
          "name": "stdout",
          "text": [
            "Animal Walking\n",
            "Dog Sound\n",
            "Animal Sound\n"
          ]
        }
      ]
    },
    {
      "cell_type": "code",
      "source": [
        "d1.walk()"
      ],
      "metadata": {
        "colab": {
          "base_uri": "https://localhost:8080/"
        },
        "id": "koLIcY8Rfajp",
        "outputId": "e8be4c37-2f63-4718-852e-3c43e1fedfe5"
      },
      "execution_count": null,
      "outputs": [
        {
          "output_type": "stream",
          "name": "stdout",
          "text": [
            "Animal Walking\n"
          ]
        }
      ]
    },
    {
      "cell_type": "code",
      "source": [
        "a = Animal('Cat')"
      ],
      "metadata": {
        "colab": {
          "base_uri": "https://localhost:8080/"
        },
        "id": "ekdrHXHQgiHV",
        "outputId": "e3eb92ca-bbd1-4913-e136-acbf2ae78c46"
      },
      "execution_count": null,
      "outputs": [
        {
          "output_type": "stream",
          "name": "stdout",
          "text": [
            "Animal Constructor\n"
          ]
        }
      ]
    },
    {
      "cell_type": "code",
      "source": [
        "a.name"
      ],
      "metadata": {
        "colab": {
          "base_uri": "https://localhost:8080/",
          "height": 35
        },
        "id": "0Nrq__nMgn6M",
        "outputId": "0ef3d140-ca35-46e2-af2d-e2ca25c7f7af"
      },
      "execution_count": null,
      "outputs": [
        {
          "output_type": "execute_result",
          "data": {
            "text/plain": [
              "'Cat'"
            ],
            "application/vnd.google.colaboratory.intrinsic+json": {
              "type": "string"
            }
          },
          "metadata": {},
          "execution_count": 60
        }
      ]
    },
    {
      "cell_type": "markdown",
      "source": [
        "# Abstract Class"
      ],
      "metadata": {
        "id": "4uoKey70c3f6"
      }
    },
    {
      "cell_type": "code",
      "source": [
        "from abc import ABC, abstractmethod\n",
        "\n",
        "# abstract class\n",
        "class shape(ABC):\n",
        "  @abstractmethod\n",
        "  def area(self):\n",
        "    pass\n",
        "\n",
        "class circle(shape):\n",
        "  def __init__(self, radius):\n",
        "    self.radius =radius\n",
        "\n",
        "  def area(self):\n",
        "    return 3.14*self.radius*self.radius\n",
        "\n",
        "class rectangle(shape):\n",
        "  def __init__(self, a, b):\n",
        "    self.a = a\n",
        "    self.b = b\n",
        "\n",
        "  def area(self):\n",
        "    return self.a*self.b"
      ],
      "metadata": {
        "id": "ALjSjz-iaB2U"
      },
      "execution_count": null,
      "outputs": []
    },
    {
      "cell_type": "code",
      "source": [
        "s = shape()"
      ],
      "metadata": {
        "colab": {
          "base_uri": "https://localhost:8080/",
          "height": 141
        },
        "id": "3dEGFvglbhTw",
        "outputId": "7162cdd4-63dc-4dd9-dc4b-5d9894c59123"
      },
      "execution_count": null,
      "outputs": [
        {
          "output_type": "error",
          "ename": "TypeError",
          "evalue": "Can't instantiate abstract class shape with abstract method area",
          "traceback": [
            "\u001b[0;31m---------------------------------------------------------------------------\u001b[0m",
            "\u001b[0;31mTypeError\u001b[0m                                 Traceback (most recent call last)",
            "\u001b[0;32m<ipython-input-40-3575e72af7a8>\u001b[0m in \u001b[0;36m<cell line: 0>\u001b[0;34m()\u001b[0m\n\u001b[0;32m----> 1\u001b[0;31m \u001b[0ms\u001b[0m \u001b[0;34m=\u001b[0m \u001b[0mshape\u001b[0m\u001b[0;34m(\u001b[0m\u001b[0;34m)\u001b[0m\u001b[0;34m\u001b[0m\u001b[0;34m\u001b[0m\u001b[0m\n\u001b[0m",
            "\u001b[0;31mTypeError\u001b[0m: Can't instantiate abstract class shape with abstract method area"
          ]
        }
      ]
    },
    {
      "cell_type": "code",
      "source": [
        "c = circle(7)\n",
        "c.area()"
      ],
      "metadata": {
        "colab": {
          "base_uri": "https://localhost:8080/"
        },
        "id": "hCtq7IzjbjBd",
        "outputId": "b7fef384-847f-4ab9-8dc8-db09c6a3b1ba"
      },
      "execution_count": null,
      "outputs": [
        {
          "output_type": "execute_result",
          "data": {
            "text/plain": [
              "153.86"
            ]
          },
          "metadata": {},
          "execution_count": 41
        }
      ]
    },
    {
      "cell_type": "code",
      "source": [
        "r = rectangle(5,6)\n",
        "r.area()"
      ],
      "metadata": {
        "colab": {
          "base_uri": "https://localhost:8080/"
        },
        "id": "20DfigjYb_E1",
        "outputId": "9ec6ea56-2758-4a09-ec64-84c33a221064"
      },
      "execution_count": null,
      "outputs": [
        {
          "output_type": "execute_result",
          "data": {
            "text/plain": [
              "30"
            ]
          },
          "metadata": {},
          "execution_count": 42
        }
      ]
    },
    {
      "cell_type": "markdown",
      "source": [
        "# Diamond Shape Ambiguity"
      ],
      "metadata": {
        "id": "FYbpcePSdJgD"
      }
    },
    {
      "cell_type": "code",
      "source": [
        "\n"
      ],
      "metadata": {
        "id": "K8rAQk-qcYY2"
      },
      "execution_count": null,
      "outputs": []
    },
    {
      "cell_type": "markdown",
      "source": [
        "# Polymorphism"
      ],
      "metadata": {
        "id": "_HTTP1xxg5_Z"
      }
    },
    {
      "cell_type": "code",
      "source": [
        "class Animal:\n",
        "  def sound(self):\n",
        "    pass\n",
        "\n",
        "class Dog(Animal):\n",
        "  # Method overriding\n",
        "  def sound(self):\n",
        "    return \"Bark\""
      ],
      "metadata": {
        "id": "ysr7nUw-hA4_"
      },
      "execution_count": null,
      "outputs": []
    },
    {
      "cell_type": "code",
      "source": [
        "d = Dog()\n",
        "d.sound()"
      ],
      "metadata": {
        "colab": {
          "base_uri": "https://localhost:8080/",
          "height": 35
        },
        "id": "2cXay7dahRiu",
        "outputId": "53d24ac2-28d2-497e-943d-e005f560b90e"
      },
      "execution_count": null,
      "outputs": [
        {
          "output_type": "execute_result",
          "data": {
            "text/plain": [
              "'Bark'"
            ],
            "application/vnd.google.colaboratory.intrinsic+json": {
              "type": "string"
            }
          },
          "metadata": {},
          "execution_count": 3
        }
      ]
    },
    {
      "cell_type": "markdown",
      "source": [
        "# Method Overloading"
      ],
      "metadata": {
        "id": "jffekdeoiIgY"
      }
    },
    {
      "cell_type": "code",
      "source": [
        "def add(a,b):\n",
        "  return (a+b)\n",
        "\n",
        "def add(a,b,c):\n",
        "  return (a+b+c)"
      ],
      "metadata": {
        "id": "pL5fOznJhhrG"
      },
      "execution_count": null,
      "outputs": []
    },
    {
      "cell_type": "code",
      "source": [
        "add(5,6)"
      ],
      "metadata": {
        "colab": {
          "base_uri": "https://localhost:8080/",
          "height": 141
        },
        "id": "wZkKtrYchzrt",
        "outputId": "db1f4c3c-6adb-4ca3-c79a-cbd456a19d39"
      },
      "execution_count": null,
      "outputs": [
        {
          "output_type": "error",
          "ename": "TypeError",
          "evalue": "add() missing 1 required positional argument: 'c'",
          "traceback": [
            "\u001b[0;31m---------------------------------------------------------------------------\u001b[0m",
            "\u001b[0;31mTypeError\u001b[0m                                 Traceback (most recent call last)",
            "\u001b[0;32m<ipython-input-5-ca546c2f630d>\u001b[0m in \u001b[0;36m<cell line: 0>\u001b[0;34m()\u001b[0m\n\u001b[0;32m----> 1\u001b[0;31m \u001b[0madd\u001b[0m\u001b[0;34m(\u001b[0m\u001b[0;36m5\u001b[0m\u001b[0;34m,\u001b[0m\u001b[0;36m6\u001b[0m\u001b[0;34m)\u001b[0m\u001b[0;34m\u001b[0m\u001b[0;34m\u001b[0m\u001b[0m\n\u001b[0m",
            "\u001b[0;31mTypeError\u001b[0m: add() missing 1 required positional argument: 'c'"
          ]
        }
      ]
    },
    {
      "cell_type": "code",
      "source": [
        "add(4,5,6)"
      ],
      "metadata": {
        "colab": {
          "base_uri": "https://localhost:8080/"
        },
        "id": "HXWu_Ueyh03f",
        "outputId": "cee15ad3-0b79-4f9b-8b49-3c898fd9b02b"
      },
      "execution_count": null,
      "outputs": [
        {
          "output_type": "execute_result",
          "data": {
            "text/plain": [
              "15"
            ]
          },
          "metadata": {},
          "execution_count": 6
        }
      ]
    },
    {
      "cell_type": "code",
      "source": [
        "def add(a,b=0,c=0):\n",
        "  return (a+b+c)"
      ],
      "metadata": {
        "id": "MZzR-IJuh3iU"
      },
      "execution_count": null,
      "outputs": []
    },
    {
      "cell_type": "code",
      "source": [
        "add(5), add(5,6), add(2,3,4)"
      ],
      "metadata": {
        "colab": {
          "base_uri": "https://localhost:8080/"
        },
        "id": "iz6EaGAah-30",
        "outputId": "bad0992c-41dc-433c-de02-cb1b88428dc0"
      },
      "execution_count": null,
      "outputs": [
        {
          "output_type": "execute_result",
          "data": {
            "text/plain": [
              "(5, 11, 9)"
            ]
          },
          "metadata": {},
          "execution_count": 10
        }
      ]
    },
    {
      "cell_type": "code",
      "source": [
        "def multiplication(a,b=0,c=0):\n",
        "  return (a*b*c)"
      ],
      "metadata": {
        "id": "G9X8naGOh_8l"
      },
      "execution_count": null,
      "outputs": []
    },
    {
      "cell_type": "code",
      "source": [
        "multiplication(5), multiplication(5,6), multiplication(5,6,2)"
      ],
      "metadata": {
        "colab": {
          "base_uri": "https://localhost:8080/"
        },
        "id": "MkwMOc-niXnK",
        "outputId": "2450c718-ba31-406d-da81-c7ab976c4828"
      },
      "execution_count": null,
      "outputs": [
        {
          "output_type": "execute_result",
          "data": {
            "text/plain": [
              "(0, 0, 60)"
            ]
          },
          "metadata": {},
          "execution_count": 15
        }
      ]
    },
    {
      "cell_type": "code",
      "source": [
        "# Variable Length Arguments\n",
        "def multiplication(*a):\n",
        "  p=1\n",
        "  for i in a:\n",
        "    p = p*i\n",
        "  return p"
      ],
      "metadata": {
        "id": "H8XjbYe_icKO"
      },
      "execution_count": null,
      "outputs": []
    },
    {
      "cell_type": "code",
      "source": [
        "multiplication(5), multiplication(5,6), multiplication(5,6,2)"
      ],
      "metadata": {
        "colab": {
          "base_uri": "https://localhost:8080/"
        },
        "id": "Igu39LTkis4I",
        "outputId": "032767f1-807d-4cf7-bbaf-f01221d172fc"
      },
      "execution_count": null,
      "outputs": [
        {
          "output_type": "execute_result",
          "data": {
            "text/plain": [
              "(5, 30, 60)"
            ]
          },
          "metadata": {},
          "execution_count": 17
        }
      ]
    },
    {
      "cell_type": "code",
      "source": [
        "a =2"
      ],
      "metadata": {
        "id": "y99TeIT3iu0d"
      },
      "execution_count": null,
      "outputs": []
    },
    {
      "cell_type": "code",
      "source": [
        "class Engine:\n",
        "  def start_engine(self):\n",
        "    print(\"Engine started...\")\n",
        "\n",
        "\n",
        "class car:\n",
        "  def __init__(self):\n",
        "    self.engine = Engine()\n",
        "\n",
        "  def move(self):\n",
        "    self.engine.start_engine()\n",
        "    print(\"Car Moving...\")"
      ],
      "metadata": {
        "id": "Nl3t6oUgjQ2g"
      },
      "execution_count": null,
      "outputs": []
    },
    {
      "cell_type": "code",
      "source": [
        "c_obj = car()"
      ],
      "metadata": {
        "id": "_Dsr5rETmtSp"
      },
      "execution_count": null,
      "outputs": []
    },
    {
      "cell_type": "code",
      "source": [
        "c_obj.move()"
      ],
      "metadata": {
        "colab": {
          "base_uri": "https://localhost:8080/"
        },
        "id": "aBA7zg2nmwbA",
        "outputId": "87986950-f51a-489b-d237-abf4e4b72b82"
      },
      "execution_count": null,
      "outputs": [
        {
          "output_type": "stream",
          "name": "stdout",
          "text": [
            "Engine started...\n",
            "Car Moving...\n"
          ]
        }
      ]
    },
    {
      "cell_type": "code",
      "source": [
        "class Book:\n",
        "  def __init__(self, title, author, isbn):\n",
        "    self.title = title\n",
        "    self.author = author\n",
        "    self.isbn = isbn\n",
        "  def show(self):\n",
        "    print(self.title, self.author, self.isbn)\n",
        "\n",
        "class Library:\n",
        "  def __init__(self):\n",
        "    self.book = Book('Python Data Analysis', 'Avinash Navlani', '123213213')\n",
        "\n",
        "  def print_book_list(self):\n",
        "    self.book.show()\n"
      ],
      "metadata": {
        "id": "EaSScCAYm0O4"
      },
      "execution_count": null,
      "outputs": []
    },
    {
      "cell_type": "code",
      "source": [
        "l = Library()"
      ],
      "metadata": {
        "id": "DnQAKUkmnqBl"
      },
      "execution_count": null,
      "outputs": []
    },
    {
      "cell_type": "code",
      "source": [
        "l.print_book_list()"
      ],
      "metadata": {
        "colab": {
          "base_uri": "https://localhost:8080/"
        },
        "id": "nSUFbA2SnsfJ",
        "outputId": "0dbd4a3b-905b-4232-cf35-bf6cf66a6844"
      },
      "execution_count": null,
      "outputs": [
        {
          "output_type": "stream",
          "name": "stdout",
          "text": [
            "Python Data Analysis Avinash Navlani 123213213\n"
          ]
        }
      ]
    },
    {
      "cell_type": "markdown",
      "source": [
        "# Data Hiding: Private, Protected, and Public members"
      ],
      "metadata": {
        "id": "z7mwQq5NoNKT"
      }
    },
    {
      "cell_type": "code",
      "source": [
        "class Car:\n",
        "  def __init__(self, brand, model):\n",
        "    self.brand = brand # public - any where\n",
        "    self._model = model # protected - only inside class/subclass - advisable to developer don't use outside the class - but you can use\n",
        "    self.__engine_number = \"123654\" # Private - inside class - AttributeError\n",
        "\n",
        "  def show(self):\n",
        "    print(self.brand, self._model, self.__engine_number)\n"
      ],
      "metadata": {
        "id": "DCd53ta1nyFW"
      },
      "execution_count": null,
      "outputs": []
    },
    {
      "cell_type": "code",
      "source": [
        "c = Car(\"Tata\", \"Punch\")"
      ],
      "metadata": {
        "id": "IIkQURgIpAUr"
      },
      "execution_count": null,
      "outputs": []
    },
    {
      "cell_type": "code",
      "source": [
        "c.brand"
      ],
      "metadata": {
        "colab": {
          "base_uri": "https://localhost:8080/",
          "height": 35
        },
        "id": "xx4Za1XOpEjt",
        "outputId": "f47949b4-5526-4bb7-e6a2-b432b0ec0a2e"
      },
      "execution_count": null,
      "outputs": [
        {
          "output_type": "execute_result",
          "data": {
            "text/plain": [
              "'Tata'"
            ],
            "application/vnd.google.colaboratory.intrinsic+json": {
              "type": "string"
            }
          },
          "metadata": {},
          "execution_count": 40
        }
      ]
    },
    {
      "cell_type": "code",
      "source": [
        "c._model"
      ],
      "metadata": {
        "colab": {
          "base_uri": "https://localhost:8080/",
          "height": 35
        },
        "id": "OKVhK1a2pFN1",
        "outputId": "b69e0814-82e4-4676-811c-2f4444d49948"
      },
      "execution_count": null,
      "outputs": [
        {
          "output_type": "execute_result",
          "data": {
            "text/plain": [
              "'Punch'"
            ],
            "application/vnd.google.colaboratory.intrinsic+json": {
              "type": "string"
            }
          },
          "metadata": {},
          "execution_count": 41
        }
      ]
    },
    {
      "cell_type": "code",
      "source": [
        "c.__engine_number"
      ],
      "metadata": {
        "colab": {
          "base_uri": "https://localhost:8080/",
          "height": 141
        },
        "id": "rHzGN0TGpJX7",
        "outputId": "a5120dad-db46-440b-ecbb-eff5eb9b3b94"
      },
      "execution_count": null,
      "outputs": [
        {
          "output_type": "error",
          "ename": "AttributeError",
          "evalue": "'Car' object has no attribute '__engine_number'",
          "traceback": [
            "\u001b[0;31m---------------------------------------------------------------------------\u001b[0m",
            "\u001b[0;31mAttributeError\u001b[0m                            Traceback (most recent call last)",
            "\u001b[0;32m<ipython-input-42-562c1aff51cf>\u001b[0m in \u001b[0;36m<cell line: 0>\u001b[0;34m()\u001b[0m\n\u001b[0;32m----> 1\u001b[0;31m \u001b[0mc\u001b[0m\u001b[0;34m.\u001b[0m\u001b[0m__engine_number\u001b[0m\u001b[0;34m\u001b[0m\u001b[0;34m\u001b[0m\u001b[0m\n\u001b[0m",
            "\u001b[0;31mAttributeError\u001b[0m: 'Car' object has no attribute '__engine_number'"
          ]
        }
      ]
    },
    {
      "cell_type": "code",
      "source": [
        "c._Car__engine_number # name mangling"
      ],
      "metadata": {
        "colab": {
          "base_uri": "https://localhost:8080/",
          "height": 35
        },
        "id": "osT9op8KpWwB",
        "outputId": "dafc9d49-3e01-417a-bb85-39a59d094c54"
      },
      "execution_count": null,
      "outputs": [
        {
          "output_type": "execute_result",
          "data": {
            "text/plain": [
              "'123654'"
            ],
            "application/vnd.google.colaboratory.intrinsic+json": {
              "type": "string"
            }
          },
          "metadata": {},
          "execution_count": 43
        }
      ]
    },
    {
      "cell_type": "code",
      "source": [],
      "metadata": {
        "id": "WKMsWn8qpkDl"
      },
      "execution_count": null,
      "outputs": []
    }
  ]
}