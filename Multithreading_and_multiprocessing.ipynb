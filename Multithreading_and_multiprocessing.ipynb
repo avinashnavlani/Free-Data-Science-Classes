{
  "nbformat": 4,
  "nbformat_minor": 0,
  "metadata": {
    "colab": {
      "provenance": []
    },
    "kernelspec": {
      "name": "python3",
      "display_name": "Python 3"
    },
    "language_info": {
      "name": "python"
    }
  },
  "cells": [
    {
      "cell_type": "code",
      "execution_count": null,
      "metadata": {
        "id": "gZYU0gVkEFfI"
      },
      "outputs": [],
      "source": [
        "import threading\n",
        "import time\n",
        "\n",
        "def thread_task(name, sleep_time):\n",
        "  print(f\"MultiThreading: {name} Started.\")\n",
        "\n",
        "  for i in range(0,5):\n",
        "    time.sleep(sleep_time)\n",
        "    print(f\"{name}: {time.ctime(time.time())}\")\n",
        "\n",
        "  print(f\"MultiThreading: {name} Completed.\")"
      ]
    },
    {
      "cell_type": "code",
      "source": [
        "print(\"Main Thread Started.\")\n",
        "\n",
        "t1 = threading.Thread(target=thread_task, args=(\"Thread-1\", 2), daemon=True)\n",
        "t2 = threading.Thread(target=thread_task, args=(\"Thread-2\", 4))\n",
        "\n",
        "t1.start()\n",
        "t2.start()\n",
        "\n",
        "t1.join()\n",
        "t2.join()\n",
        "\n",
        "print(\"Main Thread Completed.\")"
      ],
      "metadata": {
        "colab": {
          "base_uri": "https://localhost:8080/"
        },
        "id": "DNJvJtTjGxgR",
        "outputId": "8d3000fd-5059-4059-f75f-d730695b616c"
      },
      "execution_count": null,
      "outputs": [
        {
          "output_type": "stream",
          "name": "stdout",
          "text": [
            "Main Thread Started.\n",
            "MultiThreading: Thread-1 Started.\n",
            "MultiThreading: Thread-2 Started.\n",
            "Thread-1: Tue Mar 25 17:30:14 2025\n",
            "Thread-2: Tue Mar 25 17:30:16 2025\n",
            "Thread-1: Tue Mar 25 17:30:16 2025\n",
            "Thread-1: Tue Mar 25 17:30:18 2025\n",
            "Thread-2: Tue Mar 25 17:30:20 2025\n",
            "Thread-1: Tue Mar 25 17:30:20 2025\n",
            "Thread-1: Tue Mar 25 17:30:22 2025\n",
            "MultiThreading: Thread-1 Completed.\n",
            "Thread-2: Tue Mar 25 17:30:24 2025\n",
            "Thread-2: Tue Mar 25 17:30:28 2025\n",
            "Thread-2: Tue Mar 25 17:30:32 2025\n",
            "MultiThreading: Thread-2 Completed.\n",
            "Main Thread Completed.\n"
          ]
        }
      ]
    },
    {
      "cell_type": "markdown",
      "source": [
        "# Write a program to define two thread for displaying even and odd numbers respectively with 0.5 s delay after each number.​"
      ],
      "metadata": {
        "id": "21AKj6FkI5au"
      }
    },
    {
      "cell_type": "code",
      "source": [
        "import threading\n",
        "import time\n",
        "\n",
        "def even():\n",
        "  for i in range(2,20,2):\n",
        "    print(f\"Even - {i}\")\n",
        "    time.sleep(0.5)\n",
        "\n",
        "def odd():\n",
        "  for i in range(1,20,2):\n",
        "    print(f\"Odd- {i}\")\n",
        "    time.sleep(0.5)"
      ],
      "metadata": {
        "id": "qyU768o2I4vS"
      },
      "execution_count": null,
      "outputs": []
    },
    {
      "cell_type": "code",
      "source": [
        "t1 = threading.Thread(target=even)\n",
        "t2 = threading.Thread(target=odd)\n",
        "\n",
        "t1.start()\n",
        "t2.start()\n",
        "\n",
        "t1.join()\n",
        "t2.join()"
      ],
      "metadata": {
        "colab": {
          "base_uri": "https://localhost:8080/"
        },
        "id": "squiYnADGy81",
        "outputId": "be9e5d5b-7f52-461c-c36b-7255649aa7db"
      },
      "execution_count": null,
      "outputs": [
        {
          "output_type": "stream",
          "name": "stdout",
          "text": [
            "Even - 2\n",
            "Odd- 1\n",
            "Even - 4\n",
            "Odd- 3\n",
            "Even - 6\n",
            "Odd- 5\n",
            "Even - 8\n",
            "Odd- 7\n",
            "Even - 10\n",
            "Odd- 9\n",
            "Even - 12\n",
            "Odd- 11\n",
            "Even - 14\n",
            "Odd- 13\n",
            "Even - 16\n",
            "Odd- 15\n",
            "Even - 18\n",
            "Odd- 17\n",
            "Odd- 19\n"
          ]
        }
      ]
    },
    {
      "cell_type": "code",
      "source": [
        "import threading\n",
        "import time\n",
        "\n",
        "balance =1000\n",
        "lock = threading.Lock()\n",
        "\n",
        "def withdraw(amount):\n",
        "  global balance\n",
        "  with lock:\n",
        "    if balance >= amount:\n",
        "      print(f\"Thread-{threading.current_thread().name} withdrawing the amount {amount}.\")\n",
        "      time.sleep(1)\n",
        "      balance -= amount\n",
        "      print(f\"Remaining Balance: {balance}\")\n",
        "    else:\n",
        "      print(f\"Thread-{threading.current_thread().name} withdrawing the amount {amount}.\")\n",
        "      print(f\"Not enough balance: {balance}\")\n",
        "\n",
        "\n",
        "def make_withdrawal(amount):\n",
        "  for i in range(2):\n",
        "    withdraw(amount)"
      ],
      "metadata": {
        "id": "NCz2ygepJYQd"
      },
      "execution_count": null,
      "outputs": []
    },
    {
      "cell_type": "code",
      "source": [
        "t1 = threading.Thread(target=make_withdrawal, args=(700,), name=\"1\")\n",
        "t2 = threading.Thread(target=make_withdrawal, args=(500,), name=\"2\")\n",
        "\n",
        "t1.start()\n",
        "t2.start()\n",
        "\n",
        "t1.join()\n",
        "t2.join()"
      ],
      "metadata": {
        "colab": {
          "base_uri": "https://localhost:8080/"
        },
        "id": "fKT3aT1dOBPF",
        "outputId": "edc16f1e-4068-4e0d-bfe2-104f75bf76a7"
      },
      "execution_count": null,
      "outputs": [
        {
          "output_type": "stream",
          "name": "stdout",
          "text": [
            "Thread-1 withdrawing the amount 700.\n",
            "Remaining Balance: 300\n",
            "Thread-1 withdrawing the amount 700.\n",
            "Not enough balance: 300\n",
            "Thread-2 withdrawing the amount 500.\n",
            "Not enough balance: 300\n",
            "Thread-2 withdrawing the amount 500.\n",
            "Not enough balance: 300\n"
          ]
        }
      ]
    },
    {
      "cell_type": "markdown",
      "source": [
        "# Daemon thread"
      ],
      "metadata": {
        "id": "GKzebRWFUdz4"
      }
    },
    {
      "cell_type": "code",
      "source": [
        "import threading\n",
        "import time\n",
        "\n",
        "def normal_thread():\n",
        "  for i in range(5):\n",
        "    print(f\"Normal Thread - {i}\")\n",
        "    time.sleep(1)\n",
        "\n",
        "def daemon_thread():\n",
        "  while True:\n",
        "    print(f\"Daemon Thread\")\n",
        "    time.sleep(0.5)\n",
        "\n",
        "\n",
        "t1 = threading.Thread(target=normal_thread)\n",
        "t2 = threading.Thread(target=daemon_thread, daemon=True)\n",
        "\n",
        "t1.start()\n",
        "t2.start()\n",
        "\n",
        "t1.join()\n",
        "print(\"Main Thread Completed.\")"
      ],
      "metadata": {
        "colab": {
          "base_uri": "https://localhost:8080/"
        },
        "id": "6HiHQ8TmUdYb",
        "outputId": "fc343dcb-e445-49c3-ffa9-d97ac917f823"
      },
      "execution_count": null,
      "outputs": [
        {
          "output_type": "stream",
          "name": "stdout",
          "text": [
            "Normal Thread - 0\n",
            "Daemon Thread\n",
            "Daemon Thread\n",
            "Normal Thread - 1\n",
            "Daemon Thread\n",
            "Daemon Thread\n",
            "Normal Thread - 2\n",
            "Daemon Thread\n",
            "Daemon Thread\n",
            "Normal Thread - 3\n",
            "Daemon Thread\n",
            "Daemon Thread\n",
            "Normal Thread - 4\n",
            "Daemon Thread\n",
            "Daemon Thread\n",
            "Main Thread Completed.\n",
            "Daemon Thread\n"
          ]
        }
      ]
    },
    {
      "cell_type": "markdown",
      "source": [
        "# multiprocessing module"
      ],
      "metadata": {
        "id": "ez3y03ehXydI"
      }
    },
    {
      "cell_type": "markdown",
      "source": [
        "!pip install multiprocessing"
      ],
      "metadata": {
        "id": "4sFZ6BttX4pQ"
      }
    },
    {
      "cell_type": "code",
      "source": [
        "import multiprocessing\n",
        "\n",
        "def print_process(n):\n",
        "  for i in range(n):\n",
        "    print(f\"Process Executing {multiprocessing.current_process().name} - {i}\")\n",
        "\n",
        "t1 = multiprocessing.Process(target=print_process, args=(5,), name=\"Process - 1\")\n",
        "t2 = multiprocessing.Process(target=print_process, args=(5,), name=\"Process - 2\")\n",
        "\n",
        "t1.start()\n",
        "t2.start()\n",
        "\n",
        "t1.join()\n",
        "t2.join()\n",
        "\n",
        "print(\"Main Thread Completed.\")"
      ],
      "metadata": {
        "colab": {
          "base_uri": "https://localhost:8080/"
        },
        "id": "wRB22VJxVW7G",
        "outputId": "76e20b7b-9164-479a-e5a3-4b679f128b21"
      },
      "execution_count": null,
      "outputs": [
        {
          "output_type": "stream",
          "name": "stdout",
          "text": [
            "Process Executing Process - 1 - 0\n",
            "Process Executing Process - 1 - 1Process Executing Process - 2 - 0\n",
            "\n",
            "Process Executing Process - 2 - 1Process Executing Process - 1 - 2\n",
            "\n",
            "Process Executing Process - 2 - 2Process Executing Process - 1 - 3\n",
            "\n",
            "Process Executing Process - 2 - 3Process Executing Process - 1 - 4\n",
            "\n",
            "Process Executing Process - 2 - 4\n",
            "Main Thread Completed.\n"
          ]
        }
      ]
    },
    {
      "cell_type": "code",
      "source": [
        "from multiprocessing import Pool\n",
        "\n",
        "def cube(n):\n",
        "  return n*n*n\n",
        "\n",
        "with Pool(processes=3) as pool:\n",
        "  out = pool.map(cube, [1,2,3,4,5])\n",
        "  print(out)"
      ],
      "metadata": {
        "colab": {
          "base_uri": "https://localhost:8080/"
        },
        "id": "uZhkxHl9X9Yx",
        "outputId": "d6980c58-bf02-491b-d51b-1854eb99e468"
      },
      "execution_count": null,
      "outputs": [
        {
          "output_type": "stream",
          "name": "stdout",
          "text": [
            "[1, 8, 27, 64, 125]\n"
          ]
        }
      ]
    },
    {
      "cell_type": "code",
      "source": [
        "list(map(cube, [1,2,3,4,5]))"
      ],
      "metadata": {
        "colab": {
          "base_uri": "https://localhost:8080/"
        },
        "id": "NjSS1OkMZmuG",
        "outputId": "768d399e-1358-463b-c494-539a9b150fbc"
      },
      "execution_count": null,
      "outputs": [
        {
          "output_type": "execute_result",
          "data": {
            "text/plain": [
              "[1, 8, 27, 64, 125]"
            ]
          },
          "metadata": {},
          "execution_count": 6
        }
      ]
    },
    {
      "cell_type": "markdown",
      "source": [
        "# joblib module"
      ],
      "metadata": {
        "id": "kiRjIdAOdTuf"
      }
    },
    {
      "cell_type": "code",
      "source": [
        "from joblib import Parallel, delayed\n",
        "\n",
        "def cube(n):\n",
        "  return n*n*n\n",
        "\n",
        "out = Parallel(n_jobs=4)(delayed(cube)(i) for i in range(10))\n",
        "\n",
        "print(out)"
      ],
      "metadata": {
        "colab": {
          "base_uri": "https://localhost:8080/"
        },
        "id": "EVnXQlwpdS35",
        "outputId": "e6a34f93-754b-4cc6-ef63-3d485db6985a"
      },
      "execution_count": null,
      "outputs": [
        {
          "output_type": "stream",
          "name": "stdout",
          "text": [
            "[0, 1, 8, 27, 64, 125, 216, 343, 512, 729]\n"
          ]
        }
      ]
    },
    {
      "cell_type": "code",
      "source": [
        "out = Parallel(n_jobs=4, backend='threading')(delayed(cube)(i) for i in range(10))\n",
        "\n",
        "print(out)"
      ],
      "metadata": {
        "colab": {
          "base_uri": "https://localhost:8080/"
        },
        "id": "UJSe0s0RZoIF",
        "outputId": "5a3ac2d4-841b-461b-aaa8-557e724adf24"
      },
      "execution_count": null,
      "outputs": [
        {
          "output_type": "stream",
          "name": "stdout",
          "text": [
            "[0, 1, 8, 27, 64, 125, 216, 343, 512, 729]\n"
          ]
        }
      ]
    },
    {
      "cell_type": "code",
      "source": [
        "out = Parallel(n_jobs=4, backend='loky')(delayed(cube)(i) for i in range(10))\n",
        "\n",
        "print(out)"
      ],
      "metadata": {
        "colab": {
          "base_uri": "https://localhost:8080/"
        },
        "id": "XChVhiGOdxgL",
        "outputId": "53134916-1c3e-4576-a9ab-f29cf0da1962"
      },
      "execution_count": null,
      "outputs": [
        {
          "output_type": "stream",
          "name": "stdout",
          "text": [
            "[0, 1, 8, 27, 64, 125, 216, 343, 512, 729]\n"
          ]
        }
      ]
    },
    {
      "cell_type": "code",
      "source": [
        "from joblib import Memory\n",
        "\n",
        "memory = Memory(location='cache_folder')\n",
        "\n",
        "@memory.cache\n",
        "def cube(n):\n",
        "  return n*n*n\n",
        "\n",
        "out = cube(6) # first call - run and caching\n",
        "print(out)"
      ],
      "metadata": {
        "colab": {
          "base_uri": "https://localhost:8080/"
        },
        "id": "v32CZMxBdz06",
        "outputId": "0945b9aa-9123-4982-fdfa-ae2ef9319f97"
      },
      "execution_count": null,
      "outputs": [
        {
          "output_type": "stream",
          "name": "stdout",
          "text": [
            "________________________________________________________________________________\n",
            "[Memory] Calling __main__--content-<ipython-input-1ce1bf72bbb5>.cube...\n",
            "cube(6)\n",
            "_____________________________________________________________cube - 0.0s, 0.0min\n",
            "216\n"
          ]
        }
      ]
    },
    {
      "cell_type": "code",
      "source": [
        "out = cube(6) # second call - load from cache\n",
        "print(out)"
      ],
      "metadata": {
        "colab": {
          "base_uri": "https://localhost:8080/"
        },
        "id": "5_MOPJUoeUZ8",
        "outputId": "c198ae3d-8d70-4263-bfdc-4a642718b89f"
      },
      "execution_count": null,
      "outputs": [
        {
          "output_type": "stream",
          "name": "stdout",
          "text": [
            "216\n"
          ]
        }
      ]
    },
    {
      "cell_type": "code",
      "source": [
        "from joblib import dump, load\n",
        "\n",
        "sample_str = \"jfkds fjkdsj dkslj kdsl j;alksufpdsuiwjfwpeioiuwoek;dls fopds fods,dlpskfo[wfk ,sd;lfjdsio po[ds]]\"\n",
        "\n",
        "dump(sample_str, 'str_object.joblib')"
      ],
      "metadata": {
        "colab": {
          "base_uri": "https://localhost:8080/"
        },
        "id": "hBCeF36bedhL",
        "outputId": "0d1ffc40-579d-4054-a272-35813cd4a0b3"
      },
      "execution_count": null,
      "outputs": [
        {
          "output_type": "execute_result",
          "data": {
            "text/plain": [
              "['str_object.joblib']"
            ]
          },
          "metadata": {},
          "execution_count": 13
        }
      ]
    },
    {
      "cell_type": "code",
      "source": [
        "load('str_object.joblib')"
      ],
      "metadata": {
        "colab": {
          "base_uri": "https://localhost:8080/",
          "height": 35
        },
        "id": "oFaVKJk0e2fv",
        "outputId": "f0e8345e-0d95-4b58-d165-ac24c106cddb"
      },
      "execution_count": null,
      "outputs": [
        {
          "output_type": "execute_result",
          "data": {
            "text/plain": [
              "'jfkds fjkdsj dkslj kdsl j;alksufpdsuiwjfwpeioiuwoek;dls fopds fods,dlpskfo[wfk ,sd;lfjdsio po[ds]]'"
            ],
            "application/vnd.google.colaboratory.intrinsic+json": {
              "type": "string"
            }
          },
          "metadata": {},
          "execution_count": 14
        }
      ]
    },
    {
      "cell_type": "markdown",
      "source": [],
      "metadata": {
        "id": "DPon_Hh5fDQR"
      }
    },
    {
      "cell_type": "code",
      "source": [],
      "metadata": {
        "id": "xXiHjujXe5mM"
      },
      "execution_count": null,
      "outputs": []
    }
  ]
}