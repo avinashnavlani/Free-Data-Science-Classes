{
  "nbformat": 4,
  "nbformat_minor": 0,
  "metadata": {
    "colab": {
      "provenance": []
    },
    "kernelspec": {
      "name": "python3",
      "display_name": "Python 3"
    },
    "language_info": {
      "name": "python"
    }
  },
  "cells": [
    {
      "cell_type": "code",
      "execution_count": 1,
      "metadata": {
        "colab": {
          "base_uri": "https://localhost:8080/"
        },
        "id": "A6u5BeanA7d0",
        "outputId": "0afdb69c-a046-4c71-fd1b-d8f1b272945a"
      },
      "outputs": [
        {
          "output_type": "stream",
          "name": "stdout",
          "text": [
            "0\n",
            "1\n",
            "2\n",
            "3\n",
            "4\n"
          ]
        }
      ],
      "source": [
        "for i in range(5):\n",
        "  print(i)"
      ]
    },
    {
      "cell_type": "code",
      "source": [
        "i=0\n",
        "while i<5:\n",
        "  print(i)\n",
        "  i+=1"
      ],
      "metadata": {
        "colab": {
          "base_uri": "https://localhost:8080/"
        },
        "id": "ZX9YXXCzGSJ2",
        "outputId": "4942ecb4-e9d1-489d-9ac4-a1158f3213c4"
      },
      "execution_count": 2,
      "outputs": [
        {
          "output_type": "stream",
          "name": "stdout",
          "text": [
            "0\n",
            "1\n",
            "2\n",
            "3\n",
            "4\n"
          ]
        }
      ]
    },
    {
      "cell_type": "markdown",
      "source": [
        "#break and continue"
      ],
      "metadata": {
        "id": "5zq_ZY9IIHmn"
      }
    },
    {
      "cell_type": "code",
      "source": [],
      "metadata": {
        "id": "Dv1dgMgWGcfj"
      },
      "execution_count": null,
      "outputs": []
    },
    {
      "cell_type": "code",
      "source": [
        "i=0\n",
        "while i<5:\n",
        "  if i==3:\n",
        "    print(\"Break!\")\n",
        "    break  # stop\n",
        "  print(i)\n",
        "  i+=1\n",
        "\n",
        "print(\"Out of loop\")"
      ],
      "metadata": {
        "colab": {
          "base_uri": "https://localhost:8080/"
        },
        "id": "xAzAk3tnGwa0",
        "outputId": "95deadb6-ca8b-44f9-c120-107e6fce2802"
      },
      "execution_count": 9,
      "outputs": [
        {
          "output_type": "stream",
          "name": "stdout",
          "text": [
            "0\n",
            "1\n",
            "2\n",
            "Break!\n",
            "Out of loop\n"
          ]
        }
      ]
    },
    {
      "cell_type": "code",
      "source": [
        "i=0\n",
        "while i<5:\n",
        "  if i==3:\n",
        "    print(\"Continue!\")\n",
        "    i+=1\n",
        "    continue  # stop the current iteration and continue from next iteration\n",
        "  print(i)\n",
        "  i+=1\n",
        "\n",
        "print(\"Out of loop\")"
      ],
      "metadata": {
        "colab": {
          "base_uri": "https://localhost:8080/"
        },
        "id": "f2SSJtkvG8Wk",
        "outputId": "8ae160ea-0c76-49a9-c355-01c1eead3a39"
      },
      "execution_count": 6,
      "outputs": [
        {
          "output_type": "stream",
          "name": "stdout",
          "text": [
            "0\n",
            "1\n",
            "2\n",
            "Continue!\n",
            "4\n",
            "Out of loop\n"
          ]
        }
      ]
    },
    {
      "cell_type": "markdown",
      "source": [
        "#Nested Loop"
      ],
      "metadata": {
        "id": "aaHKyhpUIgph"
      }
    },
    {
      "cell_type": "code",
      "source": [
        "for i in range(1,6): # outer loop\n",
        "  for j in range(1,6): # inner loop\n",
        "    print(j, end=\" \")\n",
        "    if i == 3:\n",
        "      print(\"Break!\")\n",
        "      break\n",
        "  print(\"Out of inner loop\")"
      ],
      "metadata": {
        "colab": {
          "base_uri": "https://localhost:8080/"
        },
        "id": "0dfz2JGZHKu3",
        "outputId": "3b526e0b-d230-4218-c2e0-a953e06f1ce7"
      },
      "execution_count": 19,
      "outputs": [
        {
          "output_type": "stream",
          "name": "stdout",
          "text": [
            "1 2 3 4 5 Out of inner loop\n",
            "1 2 3 4 5 Out of inner loop\n",
            "1 Break!\n",
            "Out of inner loop\n",
            "1 2 3 4 5 Out of inner loop\n",
            "1 2 3 4 5 Out of inner loop\n"
          ]
        }
      ]
    },
    {
      "cell_type": "code",
      "source": [
        "for i in range(1,6): # outer loop\n",
        "  for j in range(1,6): # inner loop\n",
        "    print(j, end=\" \")\n",
        "    if j == 3:\n",
        "      print(\"Break!\")\n",
        "      break\n",
        "  if i == 3:\n",
        "      print(\"Break!\")\n",
        "      break\n",
        "  print()"
      ],
      "metadata": {
        "colab": {
          "base_uri": "https://localhost:8080/"
        },
        "id": "C9cedFNmIT5J",
        "outputId": "785894a2-7896-4f3d-a6a6-a48ee682e88a"
      },
      "execution_count": 21,
      "outputs": [
        {
          "output_type": "stream",
          "name": "stdout",
          "text": [
            "1 2 3 4 5 \n",
            "1 2 3 4 5 \n",
            "1 2 3 4 5 Break!\n"
          ]
        }
      ]
    },
    {
      "cell_type": "code",
      "source": [
        "for i in range(1,6): # outer loop\n",
        "  for j in range(1,6): # inner loop\n",
        "    print(j, end=\" \")\n",
        "    # if j == 3:\n",
        "    #   print(\"Break!\")\n",
        "    #   break\n",
        "  if i == 3:\n",
        "      print(\"Break!\")\n",
        "      break\n",
        "  print()"
      ],
      "metadata": {
        "colab": {
          "base_uri": "https://localhost:8080/"
        },
        "id": "ZfuzwsRsLWUI",
        "outputId": "62bc50d4-855b-469b-fea1-5fbe2bfa66e9"
      },
      "execution_count": 22,
      "outputs": [
        {
          "output_type": "stream",
          "name": "stdout",
          "text": [
            "1 2 3 4 5 \n",
            "1 2 3 4 5 \n",
            "1 2 3 4 5 Break!\n"
          ]
        }
      ]
    },
    {
      "cell_type": "code",
      "source": [
        "import sys\n",
        "\n",
        "for i in range(1,6): # outer loop\n",
        "  for j in range(1,6): # inner loop\n",
        "    print(j, end=\" \")\n",
        "    if j == 3:\n",
        "      print(\"Break!\")\n",
        "      sys.exit()\n",
        "    print(\"\")"
      ],
      "metadata": {
        "colab": {
          "base_uri": "https://localhost:8080/",
          "height": 176
        },
        "id": "jPr3dEwOI99O",
        "outputId": "4663d64c-ba48-4df3-d453-b8084f7f9c94"
      },
      "execution_count": 18,
      "outputs": [
        {
          "output_type": "stream",
          "name": "stdout",
          "text": [
            "1 \n",
            "2 \n",
            "3 Break!\n"
          ]
        },
        {
          "output_type": "error",
          "ename": "SystemExit",
          "evalue": "",
          "traceback": [
            "An exception has occurred, use %tb to see the full traceback.\n",
            "\u001b[0;31mSystemExit\u001b[0m\n"
          ]
        },
        {
          "output_type": "stream",
          "name": "stderr",
          "text": [
            "/usr/local/lib/python3.11/dist-packages/IPython/core/interactiveshell.py:3561: UserWarning: To exit: use 'exit', 'quit', or Ctrl-D.\n",
            "  warn(\"To exit: use 'exit', 'quit', or Ctrl-D.\", stacklevel=1)\n"
          ]
        }
      ]
    },
    {
      "cell_type": "markdown",
      "source": [
        "#do-while"
      ],
      "metadata": {
        "id": "4OWU4KoiM03Y"
      }
    },
    {
      "cell_type": "code",
      "source": [
        "while True:\n",
        "  num = int(input(\"Eneter a number greater than 100:\"))\n",
        "\n",
        "  if num>100:\n",
        "    print(\"Break!\")\n",
        "    break"
      ],
      "metadata": {
        "colab": {
          "base_uri": "https://localhost:8080/"
        },
        "id": "H3vOWPBNJItj",
        "outputId": "95714a5f-3dd2-41ad-a24f-a98d69967d63"
      },
      "execution_count": 23,
      "outputs": [
        {
          "output_type": "stream",
          "name": "stdout",
          "text": [
            "Eneter a number greater than 100:54\n",
            "Eneter a number greater than 100:55\n",
            "Eneter a number greater than 100:78\n",
            "Eneter a number greater than 100:33\n",
            "Eneter a number greater than 100:153\n",
            "Break!\n"
          ]
        }
      ]
    },
    {
      "cell_type": "code",
      "source": [
        "dynamnically typed"
      ],
      "metadata": {
        "id": "QO7b05UTRn2S"
      },
      "execution_count": null,
      "outputs": []
    }
  ]
}