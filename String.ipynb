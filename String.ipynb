{
  "nbformat": 4,
  "nbformat_minor": 0,
  "metadata": {
    "colab": {
      "provenance": [],
      "collapsed_sections": [
        "HaPKCMv3Y5ad"
      ]
    },
    "kernelspec": {
      "name": "python3",
      "display_name": "Python 3"
    },
    "language_info": {
      "name": "python"
    }
  },
  "cells": [
    {
      "cell_type": "markdown",
      "source": [
        "# String"
      ],
      "metadata": {
        "id": "4zyggxxoYHs3"
      }
    },
    {
      "cell_type": "code",
      "execution_count": 1,
      "metadata": {
        "id": "bdEqTqEoYGmU",
        "colab": {
          "base_uri": "https://localhost:8080/"
        },
        "outputId": "ad296d5a-c3a4-4b83-9f1f-fa5dc046a587"
      },
      "outputs": [
        {
          "output_type": "stream",
          "name": "stdout",
          "text": [
            "avinash\n"
          ]
        }
      ],
      "source": [
        "name = \"avinash\"\n",
        "\n",
        "print(name)"
      ]
    },
    {
      "cell_type": "code",
      "source": [
        "name[4] = 'e' # because strings are immutable"
      ],
      "metadata": {
        "colab": {
          "base_uri": "https://localhost:8080/",
          "height": 141
        },
        "id": "93ghHv6RYNjK",
        "outputId": "fe68b149-2753-4200-b0b8-2a44da621d0e"
      },
      "execution_count": 2,
      "outputs": [
        {
          "output_type": "error",
          "ename": "TypeError",
          "evalue": "'str' object does not support item assignment",
          "traceback": [
            "\u001b[0;31m---------------------------------------------------------------------------\u001b[0m",
            "\u001b[0;31mTypeError\u001b[0m                                 Traceback (most recent call last)",
            "\u001b[0;32m<ipython-input-2-dff2537a88da>\u001b[0m in \u001b[0;36m<cell line: 0>\u001b[0;34m()\u001b[0m\n\u001b[0;32m----> 1\u001b[0;31m \u001b[0mname\u001b[0m\u001b[0;34m[\u001b[0m\u001b[0;36m4\u001b[0m\u001b[0;34m]\u001b[0m \u001b[0;34m=\u001b[0m \u001b[0;34m'e'\u001b[0m\u001b[0;34m\u001b[0m\u001b[0;34m\u001b[0m\u001b[0m\n\u001b[0m",
            "\u001b[0;31mTypeError\u001b[0m: 'str' object does not support item assignment"
          ]
        }
      ]
    },
    {
      "cell_type": "code",
      "source": [
        "name2 = \"Mr.\" + name\n",
        "\n",
        "print(name2)"
      ],
      "metadata": {
        "colab": {
          "base_uri": "https://localhost:8080/"
        },
        "id": "fZNqDa5fYYQe",
        "outputId": "87d0223d-f6a1-4ad4-cc06-ac8552682fef"
      },
      "execution_count": 4,
      "outputs": [
        {
          "output_type": "stream",
          "name": "stdout",
          "text": [
            "Mr.avinash\n"
          ]
        }
      ]
    },
    {
      "cell_type": "code",
      "source": [
        "id(name), id(name2)"
      ],
      "metadata": {
        "colab": {
          "base_uri": "https://localhost:8080/"
        },
        "id": "Zi7V2_Z9YiJO",
        "outputId": "d76d449f-87b7-492b-8183-60044e417686"
      },
      "execution_count": 6,
      "outputs": [
        {
          "output_type": "execute_result",
          "data": {
            "text/plain": [
              "(137516914066096, 137516023593200)"
            ]
          },
          "metadata": {},
          "execution_count": 6
        }
      ]
    },
    {
      "cell_type": "markdown",
      "source": [
        "# String Slicing"
      ],
      "metadata": {
        "id": "Wj4A7n_QYv1u"
      }
    },
    {
      "cell_type": "code",
      "source": [
        "s = \"SACHIN\""
      ],
      "metadata": {
        "id": "mgAvoJcfYxG9"
      },
      "execution_count": 16,
      "outputs": []
    },
    {
      "cell_type": "code",
      "source": [
        "s[0], s[-1]"
      ],
      "metadata": {
        "colab": {
          "base_uri": "https://localhost:8080/"
        },
        "id": "433M1BIgbT1-",
        "outputId": "c794ac13-ba16-4b83-9e8d-06d00e13987b"
      },
      "execution_count": 17,
      "outputs": [
        {
          "output_type": "execute_result",
          "data": {
            "text/plain": [
              "('S', 'N')"
            ]
          },
          "metadata": {},
          "execution_count": 17
        }
      ]
    },
    {
      "cell_type": "code",
      "source": [
        "s[1:4]"
      ],
      "metadata": {
        "colab": {
          "base_uri": "https://localhost:8080/",
          "height": 35
        },
        "id": "pMvaoQZ1bZ8e",
        "outputId": "c6195336-f18a-4f90-851b-ad7cddba8154"
      },
      "execution_count": 18,
      "outputs": [
        {
          "output_type": "execute_result",
          "data": {
            "text/plain": [
              "'ACH'"
            ],
            "application/vnd.google.colaboratory.intrinsic+json": {
              "type": "string"
            }
          },
          "metadata": {},
          "execution_count": 18
        }
      ]
    },
    {
      "cell_type": "code",
      "source": [
        "s[1:]"
      ],
      "metadata": {
        "colab": {
          "base_uri": "https://localhost:8080/",
          "height": 35
        },
        "id": "KBeI-ZqQbhes",
        "outputId": "c3e46ce7-b5d2-44db-c015-e872da229114"
      },
      "execution_count": 19,
      "outputs": [
        {
          "output_type": "execute_result",
          "data": {
            "text/plain": [
              "'ACHIN'"
            ],
            "application/vnd.google.colaboratory.intrinsic+json": {
              "type": "string"
            }
          },
          "metadata": {},
          "execution_count": 19
        }
      ]
    },
    {
      "cell_type": "code",
      "source": [
        "s[:5]"
      ],
      "metadata": {
        "colab": {
          "base_uri": "https://localhost:8080/",
          "height": 35
        },
        "id": "1TzFs8Mpbp-X",
        "outputId": "301b38a2-7d2d-471b-84be-4adcecc89675"
      },
      "execution_count": 20,
      "outputs": [
        {
          "output_type": "execute_result",
          "data": {
            "text/plain": [
              "'SACHI'"
            ],
            "application/vnd.google.colaboratory.intrinsic+json": {
              "type": "string"
            }
          },
          "metadata": {},
          "execution_count": 20
        }
      ]
    },
    {
      "cell_type": "code",
      "source": [
        "s[-4:-2]"
      ],
      "metadata": {
        "colab": {
          "base_uri": "https://localhost:8080/",
          "height": 35
        },
        "id": "RP1hVr3vcEt0",
        "outputId": "331906b7-0879-403b-e3e5-2686d70d1b59"
      },
      "execution_count": 22,
      "outputs": [
        {
          "output_type": "execute_result",
          "data": {
            "text/plain": [
              "'CH'"
            ],
            "application/vnd.google.colaboratory.intrinsic+json": {
              "type": "string"
            }
          },
          "metadata": {},
          "execution_count": 22
        }
      ]
    },
    {
      "cell_type": "code",
      "source": [
        "s[::-1] # minus means start from end and move with 1 step(jump) in backward direction."
      ],
      "metadata": {
        "colab": {
          "base_uri": "https://localhost:8080/",
          "height": 35
        },
        "id": "nzHr98-_cUU_",
        "outputId": "900e06f6-9a86-41cf-e7de-3a71daef037a"
      },
      "execution_count": 23,
      "outputs": [
        {
          "output_type": "execute_result",
          "data": {
            "text/plain": [
              "'NIHCAS'"
            ],
            "application/vnd.google.colaboratory.intrinsic+json": {
              "type": "string"
            }
          },
          "metadata": {},
          "execution_count": 23
        }
      ]
    },
    {
      "cell_type": "code",
      "source": [
        "s[:]"
      ],
      "metadata": {
        "colab": {
          "base_uri": "https://localhost:8080/",
          "height": 35
        },
        "id": "0360yDkMdCF8",
        "outputId": "3ce01c78-6347-4695-aca9-1498e59a4b94"
      },
      "execution_count": 24,
      "outputs": [
        {
          "output_type": "execute_result",
          "data": {
            "text/plain": [
              "'SACHIN'"
            ],
            "application/vnd.google.colaboratory.intrinsic+json": {
              "type": "string"
            }
          },
          "metadata": {},
          "execution_count": 24
        }
      ]
    },
    {
      "cell_type": "code",
      "source": [
        "s[::-2] # minus means start from end and move with 2 step(jump) in backward direction."
      ],
      "metadata": {
        "colab": {
          "base_uri": "https://localhost:8080/",
          "height": 35
        },
        "id": "hzL2Hb5YdByM",
        "outputId": "55dba63e-2a80-437d-e1af-d715fd1e613e"
      },
      "execution_count": 26,
      "outputs": [
        {
          "output_type": "execute_result",
          "data": {
            "text/plain": [
              "'NHA'"
            ],
            "application/vnd.google.colaboratory.intrinsic+json": {
              "type": "string"
            }
          },
          "metadata": {},
          "execution_count": 26
        }
      ]
    },
    {
      "cell_type": "code",
      "source": [
        "s[::2] # move with 2 step(jump) n forward direction"
      ],
      "metadata": {
        "colab": {
          "base_uri": "https://localhost:8080/",
          "height": 35
        },
        "id": "ruMxNW_KdiUH",
        "outputId": "b7d3c619-21d6-44f3-b2dc-68f07b1ef9e4"
      },
      "execution_count": 27,
      "outputs": [
        {
          "output_type": "execute_result",
          "data": {
            "text/plain": [
              "'SCI'"
            ],
            "application/vnd.google.colaboratory.intrinsic+json": {
              "type": "string"
            }
          },
          "metadata": {},
          "execution_count": 27
        }
      ]
    },
    {
      "cell_type": "markdown",
      "source": [
        "# String Opertions"
      ],
      "metadata": {
        "id": "HaPKCMv3Y5ad"
      }
    },
    {
      "cell_type": "code",
      "source": [
        "name = 'avinash'\n",
        "surname = 'navlani'\n",
        "\n",
        "name + surname # concatenation"
      ],
      "metadata": {
        "id": "HEkQ8FhIY_al",
        "colab": {
          "base_uri": "https://localhost:8080/",
          "height": 35
        },
        "outputId": "1ba381b0-5f6c-4b50-da7f-f64b58d301f9"
      },
      "execution_count": 8,
      "outputs": [
        {
          "output_type": "execute_result",
          "data": {
            "text/plain": [
              "'avinashnavlani'"
            ],
            "application/vnd.google.colaboratory.intrinsic+json": {
              "type": "string"
            }
          },
          "metadata": {},
          "execution_count": 8
        }
      ]
    },
    {
      "cell_type": "code",
      "source": [
        "name * 5 # repeatation"
      ],
      "metadata": {
        "colab": {
          "base_uri": "https://localhost:8080/",
          "height": 35
        },
        "id": "9XIAMPtdZLPy",
        "outputId": "06819d4c-e89e-4947-83ff-755955f26fc4"
      },
      "execution_count": 10,
      "outputs": [
        {
          "output_type": "execute_result",
          "data": {
            "text/plain": [
              "'avinashavinashavinashavinashavinash'"
            ],
            "application/vnd.google.colaboratory.intrinsic+json": {
              "type": "string"
            }
          },
          "metadata": {},
          "execution_count": 10
        }
      ]
    },
    {
      "cell_type": "code",
      "source": [
        "# in - membership operator\n",
        "\n",
        "'avi' in name"
      ],
      "metadata": {
        "colab": {
          "base_uri": "https://localhost:8080/"
        },
        "id": "X4puhV7sZc-G",
        "outputId": "99695713-7b77-478b-d506-68453d59dc40"
      },
      "execution_count": 14,
      "outputs": [
        {
          "output_type": "execute_result",
          "data": {
            "text/plain": [
              "True"
            ]
          },
          "metadata": {},
          "execution_count": 14
        }
      ]
    },
    {
      "cell_type": "code",
      "source": [
        "'avi' not in name\n"
      ],
      "metadata": {
        "colab": {
          "base_uri": "https://localhost:8080/"
        },
        "id": "1O4rqTYbZcq-",
        "outputId": "97809f5f-0634-4a34-b58a-c853d4959b92"
      },
      "execution_count": 13,
      "outputs": [
        {
          "output_type": "execute_result",
          "data": {
            "text/plain": [
              "False"
            ]
          },
          "metadata": {},
          "execution_count": 13
        }
      ]
    },
    {
      "cell_type": "code",
      "source": [
        "\"Rupee\" in \"Rupee Five thousand only\""
      ],
      "metadata": {
        "colab": {
          "base_uri": "https://localhost:8080/"
        },
        "id": "ZaNZlRZBZ0pO",
        "outputId": "bf4ef30e-cd1a-4192-eac6-5948a7a56bd5"
      },
      "execution_count": 15,
      "outputs": [
        {
          "output_type": "execute_result",
          "data": {
            "text/plain": [
              "True"
            ]
          },
          "metadata": {},
          "execution_count": 15
        }
      ]
    },
    {
      "cell_type": "markdown",
      "source": [
        "# Comments in Python - Single and Triple Quotes"
      ],
      "metadata": {
        "id": "lSxXq-hsZEzg"
      }
    },
    {
      "cell_type": "code",
      "source": [
        "# hello\n",
        "\n",
        "\n",
        "# multiple line comment\n",
        "\"\"\"\n",
        "   input:\n",
        "   purpose:\n",
        "   output:\n",
        "\n",
        "\"\"\"\n",
        "\n",
        "# single line comment\n",
        "'dsfjdf kdfjd kdkds kd'\n",
        "\" sdfdsf dsjfdsk ds dks jdkls dksl jfd\""
      ],
      "metadata": {
        "id": "4EQ97NQXZd7R"
      },
      "execution_count": null,
      "outputs": []
    },
    {
      "cell_type": "markdown",
      "source": [
        "# String Methods"
      ],
      "metadata": {
        "id": "tXJqWoHmZcmt"
      }
    },
    {
      "cell_type": "code",
      "source": [],
      "metadata": {
        "id": "f1iScpyZfHXY"
      },
      "execution_count": null,
      "outputs": []
    },
    {
      "cell_type": "markdown",
      "source": [
        "# f-string"
      ],
      "metadata": {
        "id": "J0DmJdEkZBau"
      }
    },
    {
      "cell_type": "code",
      "source": [],
      "metadata": {
        "id": "mxiRSNy4LbpJ"
      },
      "execution_count": null,
      "outputs": []
    },
    {
      "cell_type": "code",
      "source": [],
      "metadata": {
        "id": "FCBnV3GWLcGD"
      },
      "execution_count": null,
      "outputs": []
    },
    {
      "cell_type": "code",
      "source": [
        "tech_languages = [\"Python\", \"R\", \"SQL\"]\n",
        "performance_scores = [85, 92, 78]\n",
        "\n",
        "print(\"Technology Skill Assessment\")\n",
        "print(\"=\" * 30)\n",
        "\n",
        "for language, score in zip(tech_languages, performance_scores):\n",
        "    print(f\"{language:<12} | {score:>4}\")"
      ],
      "metadata": {
        "id": "sP0v6V_mfJkO",
        "colab": {
          "base_uri": "https://localhost:8080/"
        },
        "outputId": "d7d63371-39a4-4173-a545-d7bc370b0706"
      },
      "execution_count": 28,
      "outputs": [
        {
          "output_type": "stream",
          "name": "stdout",
          "text": [
            "Technology Skill Assessment\n",
            "==============================\n",
            "Python       |   85\n",
            "R            |   92\n",
            "SQL          |   78\n"
          ]
        }
      ]
    },
    {
      "cell_type": "markdown",
      "source": [
        "# Exercise"
      ],
      "metadata": {
        "id": "xRtzy9ZPFFiN"
      }
    },
    {
      "cell_type": "markdown",
      "source": [
        "1. Given a string s = \"The quick brown fox jumps over the lazy dog\", extract the following using slicing: \"quick\", \"fox\",\"lazy dog\""
      ],
      "metadata": {
        "id": "___KTAMWD-4s"
      }
    },
    {
      "cell_type": "code",
      "source": [],
      "metadata": {
        "id": "BOcxkEvYD98m"
      },
      "execution_count": null,
      "outputs": []
    },
    {
      "cell_type": "markdown",
      "source": [
        "2. Write a program that: Asks the user for their first and last name and Concatenates them to form a full name."
      ],
      "metadata": {
        "id": "w9i3E1NPEKIf"
      }
    },
    {
      "cell_type": "code",
      "source": [],
      "metadata": {
        "id": "NyxO9cb8EJoS"
      },
      "execution_count": null,
      "outputs": []
    },
    {
      "cell_type": "markdown",
      "source": [
        "3. Write a function that takes a string and: 1) Converts it to uppercase, 2) Converts it to lowercase, and 3) Capitalizes the first letter"
      ],
      "metadata": {
        "id": "37qjdrJlEYOx"
      }
    },
    {
      "cell_type": "code",
      "source": [],
      "metadata": {
        "id": "D-_mvIpuEX_b"
      },
      "execution_count": null,
      "outputs": []
    },
    {
      "cell_type": "markdown",
      "source": [
        "4. Write a Python program that checks whether a given string:\n",
        "\n",
        "- Contains only digits\n",
        "- Contains only alphabets\n",
        "- Contains alphanumeric characters\n",
        "- Starts with \"Hello\""
      ],
      "metadata": {
        "id": "0xMa-jbTElN2"
      }
    },
    {
      "cell_type": "code",
      "source": [],
      "metadata": {
        "id": "VtpcbTGmEkzb"
      },
      "execution_count": null,
      "outputs": []
    },
    {
      "cell_type": "markdown",
      "source": [
        "5. Write a program that asks for a user's name and age, then prints:\n",
        "   **\"Hello [Name], you are [Age] years old!\"**"
      ],
      "metadata": {
        "id": "8WwuUOVrE23W"
      }
    },
    {
      "cell_type": "code",
      "source": [],
      "metadata": {
        "id": "n4yFh8SIEET2"
      },
      "execution_count": null,
      "outputs": []
    },
    {
      "cell_type": "markdown",
      "source": [
        "6. Write a function that checks if a given string is a palindrome (reads the same forward and backward)."
      ],
      "metadata": {
        "id": "puqGphTjFBsK"
      }
    },
    {
      "cell_type": "code",
      "source": [],
      "metadata": {
        "id": "0qkMd4UYD-TY"
      },
      "execution_count": null,
      "outputs": []
    },
    {
      "cell_type": "markdown",
      "source": [
        "\n",
        "7. Print a formatted table using f-strings:\n",
        "\n",
        "![image.png](data:image/png;base64,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)|"
      ],
      "metadata": {
        "id": "-TYJwTdMG5jJ"
      }
    },
    {
      "cell_type": "code",
      "source": [],
      "metadata": {
        "id": "G7oC0fZVG6dP"
      },
      "execution_count": null,
      "outputs": []
    }
  ]
}