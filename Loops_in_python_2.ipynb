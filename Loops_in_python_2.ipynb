{
  "nbformat": 4,
  "nbformat_minor": 0,
  "metadata": {
    "colab": {
      "provenance": []
    },
    "kernelspec": {
      "name": "python3",
      "display_name": "Python 3"
    },
    "language_info": {
      "name": "python"
    }
  },
  "cells": [
    {
      "cell_type": "code",
      "execution_count": null,
      "metadata": {
        "id": "wNt6joW57dQI",
        "colab": {
          "base_uri": "https://localhost:8080/"
        },
        "outputId": "c1298e54-4c96-466e-95fb-0c76ecf311ce"
      },
      "outputs": [
        {
          "output_type": "stream",
          "name": "stdout",
          "text": [
            "1\n",
            "2\n",
            "3\n",
            "4\n",
            "5\n",
            "6\n",
            "7\n",
            "8\n",
            "9\n",
            "10\n"
          ]
        }
      ],
      "source": [
        "for i in range(1,11):\n",
        "  print(i)"
      ]
    },
    {
      "cell_type": "code",
      "source": [
        "list1 = [2,3,1,\"avinash\", 'python', 'data engineering']\n",
        "for i in list1:\n",
        "  print(i + 1)"
      ],
      "metadata": {
        "id": "KxTExSwY7mqG",
        "colab": {
          "base_uri": "https://localhost:8080/",
          "height": 228
        },
        "outputId": "6a4cc6be-6ce9-4cea-c9c0-26775f6f7205"
      },
      "execution_count": null,
      "outputs": [
        {
          "output_type": "stream",
          "name": "stdout",
          "text": [
            "3\n",
            "4\n",
            "2\n"
          ]
        },
        {
          "output_type": "error",
          "ename": "TypeError",
          "evalue": "can only concatenate str (not \"int\") to str",
          "traceback": [
            "\u001b[0;31m---------------------------------------------------------------------------\u001b[0m",
            "\u001b[0;31mTypeError\u001b[0m                                 Traceback (most recent call last)",
            "\u001b[0;32m<ipython-input-6-20b411b10fe8>\u001b[0m in \u001b[0;36m<cell line: 0>\u001b[0;34m()\u001b[0m\n\u001b[1;32m      1\u001b[0m \u001b[0mlist1\u001b[0m\u001b[0;34m=\u001b[0m\u001b[0;34m[\u001b[0m\u001b[0;36m2\u001b[0m\u001b[0;34m,\u001b[0m\u001b[0;36m3\u001b[0m\u001b[0;34m,\u001b[0m\u001b[0;36m1\u001b[0m\u001b[0;34m,\u001b[0m\u001b[0;34m\"avinash\"\u001b[0m\u001b[0;34m,\u001b[0m \u001b[0;34m'python'\u001b[0m\u001b[0;34m,\u001b[0m \u001b[0;34m'data engineering'\u001b[0m\u001b[0;34m]\u001b[0m\u001b[0;34m\u001b[0m\u001b[0;34m\u001b[0m\u001b[0m\n\u001b[1;32m      2\u001b[0m \u001b[0;32mfor\u001b[0m \u001b[0mi\u001b[0m \u001b[0;32min\u001b[0m \u001b[0mlist1\u001b[0m\u001b[0;34m:\u001b[0m\u001b[0;34m\u001b[0m\u001b[0;34m\u001b[0m\u001b[0m\n\u001b[0;32m----> 3\u001b[0;31m   \u001b[0mprint\u001b[0m\u001b[0;34m(\u001b[0m\u001b[0mi\u001b[0m \u001b[0;34m+\u001b[0m \u001b[0;36m1\u001b[0m\u001b[0;34m)\u001b[0m\u001b[0;34m\u001b[0m\u001b[0;34m\u001b[0m\u001b[0m\n\u001b[0m",
            "\u001b[0;31mTypeError\u001b[0m: can only concatenate str (not \"int\") to str"
          ]
        }
      ]
    },
    {
      "cell_type": "code",
      "source": [
        "for i in (2,3,1,\"avinash\", 'python', 'data engineering'):\n",
        "  print(i)"
      ],
      "metadata": {
        "colab": {
          "base_uri": "https://localhost:8080/"
        },
        "id": "AozwCmWx4835",
        "outputId": "c00b125a-2efd-4c31-e336-c4db08d758fd"
      },
      "execution_count": null,
      "outputs": [
        {
          "output_type": "stream",
          "name": "stdout",
          "text": [
            "2\n",
            "3\n",
            "1\n",
            "avinash\n",
            "python\n",
            "data engineering\n"
          ]
        }
      ]
    },
    {
      "cell_type": "code",
      "source": [
        "dict1 = {1:'A', 2:'B', 3:'C'}\n",
        "\n",
        "for i,j in dict1.items():\n",
        "  print(i,j)"
      ],
      "metadata": {
        "colab": {
          "base_uri": "https://localhost:8080/"
        },
        "id": "W39Y1_fb5HZV",
        "outputId": "9eab8d71-3afc-45a5-8de5-5fac8e3c29b0"
      },
      "execution_count": null,
      "outputs": [
        {
          "output_type": "stream",
          "name": "stdout",
          "text": [
            "1 A\n",
            "2 B\n",
            "3 C\n"
          ]
        }
      ]
    },
    {
      "cell_type": "code",
      "source": [
        "dict1.items()"
      ],
      "metadata": {
        "colab": {
          "base_uri": "https://localhost:8080/"
        },
        "id": "kr60uHk35ZLK",
        "outputId": "b2ce9fb2-5b9d-44c1-a984-a8d0af84ff9c"
      },
      "execution_count": null,
      "outputs": [
        {
          "output_type": "execute_result",
          "data": {
            "text/plain": [
              "dict_items([(1, 'A'), (2, 'B'), (3, 'C')])"
            ]
          },
          "metadata": {},
          "execution_count": 11
        }
      ]
    },
    {
      "cell_type": "code",
      "source": [
        "dict1.keys(), dict1.values()"
      ],
      "metadata": {
        "colab": {
          "base_uri": "https://localhost:8080/"
        },
        "id": "Tit_pHd15mKK",
        "outputId": "c9a31e66-9c74-406d-a133-effb75a3d16b"
      },
      "execution_count": null,
      "outputs": [
        {
          "output_type": "execute_result",
          "data": {
            "text/plain": [
              "(dict_keys([1, 2, 3]), dict_values(['A', 'B', 'C']))"
            ]
          },
          "metadata": {},
          "execution_count": 15
        }
      ]
    },
    {
      "cell_type": "code",
      "source": [
        "for i in dict1.values():\n",
        "  print(i)"
      ],
      "metadata": {
        "colab": {
          "base_uri": "https://localhost:8080/"
        },
        "id": "DMwE11vh5sZE",
        "outputId": "6791a9e3-d1c7-4968-d78b-505aeb943ab4"
      },
      "execution_count": null,
      "outputs": [
        {
          "output_type": "stream",
          "name": "stdout",
          "text": [
            "A\n",
            "B\n",
            "C\n"
          ]
        }
      ]
    },
    {
      "cell_type": "code",
      "source": [
        "list(enumerate(list1))"
      ],
      "metadata": {
        "colab": {
          "base_uri": "https://localhost:8080/"
        },
        "id": "sl0oRfJp53xb",
        "outputId": "35cf7ed8-9659-4535-ea64-06868c790d44"
      },
      "execution_count": null,
      "outputs": [
        {
          "output_type": "execute_result",
          "data": {
            "text/plain": [
              "[(0, 2),\n",
              " (1, 3),\n",
              " (2, 1),\n",
              " (3, 'avinash'),\n",
              " (4, 'python'),\n",
              " (5, 'data engineering')]"
            ]
          },
          "metadata": {},
          "execution_count": 18
        }
      ]
    },
    {
      "cell_type": "code",
      "source": [
        "for index, value in enumerate(list1):\n",
        "  print(list1[index])"
      ],
      "metadata": {
        "colab": {
          "base_uri": "https://localhost:8080/"
        },
        "id": "q5RenCmm6Etb",
        "outputId": "13743939-1d51-4134-9165-30f30d757a5b"
      },
      "execution_count": null,
      "outputs": [
        {
          "output_type": "stream",
          "name": "stdout",
          "text": [
            "2\n",
            "3\n",
            "1\n",
            "avinash\n",
            "python\n",
            "data engineering\n"
          ]
        }
      ]
    },
    {
      "cell_type": "code",
      "source": [],
      "metadata": {
        "id": "xBrMkn5P6XxB"
      },
      "execution_count": null,
      "outputs": []
    },
    {
      "cell_type": "markdown",
      "source": [
        "#Exercise"
      ],
      "metadata": {
        "id": "YbRFjQCL77Kv"
      }
    },
    {
      "cell_type": "markdown",
      "source": [
        "1. Write a program to print table of any number.​"
      ],
      "metadata": {
        "id": "L_vUmz1a7nA0"
      }
    },
    {
      "cell_type": "code",
      "source": [
        "num = int(input(\"Enter a number:\"))\n",
        "\n",
        "for i in range(1,11):\n",
        "  print(num*i)"
      ],
      "metadata": {
        "id": "Sa9XFsfY7pEi",
        "colab": {
          "base_uri": "https://localhost:8080/"
        },
        "outputId": "2d96bfbe-d0f3-494a-b9d9-79d950ee92fa"
      },
      "execution_count": null,
      "outputs": [
        {
          "output_type": "stream",
          "name": "stdout",
          "text": [
            "Enter a number:23\n",
            "23\n",
            "46\n",
            "69\n",
            "92\n",
            "115\n",
            "138\n",
            "161\n",
            "184\n",
            "207\n",
            "230\n"
          ]
        }
      ]
    },
    {
      "cell_type": "markdown",
      "source": [
        "2. Write a program which can compute the factorial of a given numbers.​"
      ],
      "metadata": {
        "id": "WmNW7dhB7pci"
      }
    },
    {
      "cell_type": "code",
      "source": [
        "num = int(input(\"Enter a number:\"))\n",
        "fact = 1\n",
        "for i in range(2,num+1):\n",
        "  fact = fact*i  # 1* 2 = 2 => 2*3 = 6 => 6*4 = 24 => 24 * 5 => 120 *6 => 720\n",
        "  # indentation\n",
        "\n",
        "print(\"Factorial:\",fact)"
      ],
      "metadata": {
        "id": "I6YrBTT_7pxS",
        "colab": {
          "base_uri": "https://localhost:8080/"
        },
        "outputId": "3e4c845b-d2f5-46be-da6e-c989bf7bb908"
      },
      "execution_count": null,
      "outputs": [
        {
          "output_type": "stream",
          "name": "stdout",
          "text": [
            "Enter a number:6\n",
            "Factorial: 720\n"
          ]
        }
      ]
    },
    {
      "cell_type": "markdown",
      "source": [
        "3. Write a program to find sum of natural numbers.​"
      ],
      "metadata": {
        "id": "SbLnmRGt7qBg"
      }
    },
    {
      "cell_type": "code",
      "source": [
        "num = int(input(\"Enter a number:\"))\n",
        "\n",
        "s=0\n",
        "\n",
        "for i in range(1,num+1):\n",
        "  s=s+i\n",
        "\n",
        "print(\"Sum of N natural number is:\", s)"
      ],
      "metadata": {
        "id": "vLDIpxse7qUo",
        "colab": {
          "base_uri": "https://localhost:8080/"
        },
        "outputId": "30b6d42f-0161-45bc-9e95-67621df40f24"
      },
      "execution_count": null,
      "outputs": [
        {
          "output_type": "stream",
          "name": "stdout",
          "text": [
            "Enter a number:5\n",
            "Sum of N natural number is: 15\n"
          ]
        }
      ]
    },
    {
      "cell_type": "markdown",
      "source": [
        "4. Write a program to print all even numbers between 1 to 100. ​"
      ],
      "metadata": {
        "id": "cboDUTcE7wCH"
      }
    },
    {
      "cell_type": "code",
      "source": [],
      "metadata": {
        "id": "XEJBA_2c7x3c"
      },
      "execution_count": null,
      "outputs": []
    },
    {
      "cell_type": "markdown",
      "source": [
        "5. Write a program to enter any number and calculate sum of its digits.​"
      ],
      "metadata": {
        "id": "5o4MEOBo7yL_"
      }
    },
    {
      "cell_type": "code",
      "source": [
        "num = int(input(\"Enter a number:\"))\n",
        "\n",
        "s = 0\n",
        "for i in range(len(str(num))):\n",
        "  r = num%10\n",
        "  s = s+r\n",
        "  num = num//10\n",
        "\n",
        "print(s)"
      ],
      "metadata": {
        "id": "1UJRTYH170Y-",
        "colab": {
          "base_uri": "https://localhost:8080/"
        },
        "outputId": "5625306a-9d1e-4385-fd2f-7f4e1474d55f"
      },
      "execution_count": null,
      "outputs": [
        {
          "output_type": "stream",
          "name": "stdout",
          "text": [
            "Enter a number:15\n",
            "6\n"
          ]
        }
      ]
    },
    {
      "cell_type": "code",
      "source": [
        "num = input(\"enter a number\")\n",
        "\n",
        "l = list(num)\n",
        "sum([int(i) for i in l])"
      ],
      "metadata": {
        "colab": {
          "base_uri": "https://localhost:8080/"
        },
        "id": "ZOIo3n9cA0Ay",
        "outputId": "1655678e-25e4-469f-b48d-6d582971050c"
      },
      "execution_count": null,
      "outputs": [
        {
          "name": "stdout",
          "output_type": "stream",
          "text": [
            "enter a number234\n"
          ]
        }
      ]
    },
    {
      "cell_type": "code",
      "source": [
        "int(num[::-1])"
      ],
      "metadata": {
        "colab": {
          "base_uri": "https://localhost:8080/"
        },
        "id": "ECbC3N0jBpM0",
        "outputId": "adf9a483-aed0-414b-869d-9a181f0e6289"
      },
      "execution_count": null,
      "outputs": [
        {
          "output_type": "execute_result",
          "data": {
            "text/plain": [
              "432"
            ]
          },
          "metadata": {},
          "execution_count": 31
        }
      ]
    },
    {
      "cell_type": "code",
      "source": [
        "# Time, Space, Speed"
      ],
      "metadata": {
        "colab": {
          "base_uri": "https://localhost:8080/"
        },
        "id": "xK7Loq42BAxW",
        "outputId": "5178efe3-88eb-48ab-e4f2-77d76ce72936"
      },
      "execution_count": null,
      "outputs": [
        {
          "output_type": "execute_result",
          "data": {
            "text/plain": [
              "9"
            ]
          },
          "metadata": {},
          "execution_count": 28
        }
      ]
    },
    {
      "cell_type": "markdown",
      "source": [
        "6. Write a program to enter any number and calculate product of its digits.​"
      ],
      "metadata": {
        "id": "DjdhL3KI704X"
      }
    },
    {
      "cell_type": "code",
      "source": [
        "123 -> 1*2*3 -> 6"
      ],
      "metadata": {
        "id": "vO_W8Fis73st"
      },
      "execution_count": null,
      "outputs": []
    },
    {
      "cell_type": "code",
      "source": [
        "num = int(input('Enter a number:'))\n",
        "\n",
        "product = 1\n",
        "while num>0:\n",
        "  rem = num%10\n",
        "  product = product*rem\n",
        "  num = num//10\n",
        "\n",
        "print(\"Product:\", product)"
      ],
      "metadata": {
        "colab": {
          "base_uri": "https://localhost:8080/"
        },
        "id": "bkNs8ZYTEVCM",
        "outputId": "042e228c-43d4-4a1c-f5ef-ca4feae6297f"
      },
      "execution_count": 4,
      "outputs": [
        {
          "output_type": "stream",
          "name": "stdout",
          "text": [
            "Enter a number:12301\n",
            "Product: 0\n"
          ]
        }
      ]
    },
    {
      "cell_type": "markdown",
      "source": [
        "7. Write a program to enter any number and print reverse of that number."
      ],
      "metadata": {
        "id": "pQ0Hu9Mz74Bt"
      }
    },
    {
      "cell_type": "code",
      "source": [
        "123 -> 321\n",
        "12421 -> 12421 palindrome"
      ],
      "metadata": {
        "id": "smf95mtx75Yx"
      },
      "execution_count": null,
      "outputs": []
    },
    {
      "cell_type": "code",
      "source": [
        "num = int(input('Enter a number:'))\n",
        "\n",
        "s = 0\n",
        "while num>0:\n",
        "  rem = num%10\n",
        "  s = s*10+rem\n",
        "  num = num//10\n",
        "\n",
        "print(\"Reversed Number:\", s)"
      ],
      "metadata": {
        "colab": {
          "base_uri": "https://localhost:8080/"
        },
        "id": "bMqwAvVfNpPt",
        "outputId": "b30553fc-efe2-4897-d3c0-d721c346674c"
      },
      "execution_count": 6,
      "outputs": [
        {
          "output_type": "stream",
          "name": "stdout",
          "text": [
            "Enter a number:153\n",
            "Reversed Number: 351\n"
          ]
        }
      ]
    },
    {
      "cell_type": "markdown",
      "source": [
        "8. Write a Python script that checks if a string is a Palindrome.\n"
      ],
      "metadata": {
        "id": "RjFUYEDtBd2R"
      }
    },
    {
      "cell_type": "code",
      "source": [
        "NITIN -> NITIN # palindrome\n",
        "AVINASH -> HSANIVA not palindrome"
      ],
      "metadata": {
        "id": "ymxzwAQkBroE"
      },
      "execution_count": null,
      "outputs": []
    },
    {
      "cell_type": "code",
      "source": [
        "s = input(\"Enter a string:\")\n",
        "\n",
        "\"\".join(list(s)[::-1])"
      ],
      "metadata": {
        "colab": {
          "base_uri": "https://localhost:8080/",
          "height": 53
        },
        "id": "mapknoEvPCr_",
        "outputId": "1ce14ef8-bd52-4952-ec21-5ee98d78839f"
      },
      "execution_count": 8,
      "outputs": [
        {
          "name": "stdout",
          "output_type": "stream",
          "text": [
            "Enter a string:avinash\n"
          ]
        },
        {
          "output_type": "execute_result",
          "data": {
            "text/plain": [
              "'hsaniva'"
            ],
            "application/vnd.google.colaboratory.intrinsic+json": {
              "type": "string"
            }
          },
          "metadata": {},
          "execution_count": 8
        }
      ]
    },
    {
      "cell_type": "code",
      "source": [
        "s = input(\"Enter a string:\")\n",
        "\n",
        "temp =\"\"\n",
        "for i in range(1,len(s)+1):\n",
        "  temp += s[-i]\n",
        "\n",
        "print(temp)\n",
        "\n",
        "if s==temp:\n",
        "  print(\"Palindrome\")\n",
        "else:\n",
        "  print(\"Not Palindrome\")"
      ],
      "metadata": {
        "colab": {
          "base_uri": "https://localhost:8080/"
        },
        "id": "SBn8F_T3PmRW",
        "outputId": "ec619aaa-2a44-4f2b-951c-12717032868b"
      },
      "execution_count": 16,
      "outputs": [
        {
          "output_type": "stream",
          "name": "stdout",
          "text": [
            "Enter a string:Icecream\n",
            "maercecI\n",
            "Not Palindrome\n"
          ]
        }
      ]
    },
    {
      "cell_type": "code",
      "source": [
        "s = 'Sachin'\n",
        "s1 = s\n",
        "s = 'Rachin'\n",
        "if s==s1:\n",
        "  print(\"equal\")\n",
        "else:\n",
        "  print(\"not equal\")"
      ],
      "metadata": {
        "colab": {
          "base_uri": "https://localhost:8080/"
        },
        "id": "6DBI4Vk7P8sf",
        "outputId": "6e045db5-6cef-4d97-bcd3-011fc23e3d3f"
      },
      "execution_count": 23,
      "outputs": [
        {
          "output_type": "stream",
          "name": "stdout",
          "text": [
            "not equal\n"
          ]
        }
      ]
    },
    {
      "cell_type": "code",
      "source": [
        "s, s1"
      ],
      "metadata": {
        "colab": {
          "base_uri": "https://localhost:8080/"
        },
        "id": "TGKVO6VzRKe_",
        "outputId": "6813a0be-8dfa-46d5-9faf-5e9908920343"
      },
      "execution_count": 24,
      "outputs": [
        {
          "output_type": "execute_result",
          "data": {
            "text/plain": [
              "('Rachin', 'Sachin')"
            ]
          },
          "metadata": {},
          "execution_count": 24
        }
      ]
    },
    {
      "cell_type": "markdown",
      "source": [],
      "metadata": {
        "id": "Ei4y5HX0BsHg"
      }
    }
  ]
}