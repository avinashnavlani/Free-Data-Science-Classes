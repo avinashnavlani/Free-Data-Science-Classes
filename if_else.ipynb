{
  "nbformat": 4,
  "nbformat_minor": 0,
  "metadata": {
    "colab": {
      "provenance": []
    },
    "kernelspec": {
      "name": "python3",
      "display_name": "Python 3"
    },
    "language_info": {
      "name": "python"
    }
  },
  "cells": [
    {
      "cell_type": "code",
      "execution_count": null,
      "metadata": {
        "colab": {
          "base_uri": "https://localhost:8080/"
        },
        "id": "IftF6JcPVZ_W",
        "outputId": "7c11cd09-7203-451a-b7da-650157a325da"
      },
      "outputs": [
        {
          "output_type": "execute_result",
          "data": {
            "text/plain": [
              "2.0"
            ]
          },
          "metadata": {},
          "execution_count": 1
        }
      ],
      "source": [
        "# even or odd\n",
        "\n",
        "4/2"
      ]
    },
    {
      "cell_type": "code",
      "source": [
        "4%2, 5%2 # modulo operator"
      ],
      "metadata": {
        "colab": {
          "base_uri": "https://localhost:8080/"
        },
        "id": "EThAYFe6V76i",
        "outputId": "3d9b3601-f673-42c4-8d70-e548270db6d6"
      },
      "execution_count": null,
      "outputs": [
        {
          "output_type": "execute_result",
          "data": {
            "text/plain": [
              "(0, 1)"
            ]
          },
          "metadata": {},
          "execution_count": 3
        }
      ]
    },
    {
      "cell_type": "code",
      "source": [
        "num = int(input(\"Enter a number\"))\n",
        "\n",
        "if num%2==0:\n",
        "  print(\"Even Number\")\n",
        "else:\n",
        "  print(\"Odd Number\")"
      ],
      "metadata": {
        "colab": {
          "base_uri": "https://localhost:8080/"
        },
        "id": "SRFxh1y_VtdJ",
        "outputId": "d5643374-9b60-4369-ec4f-e211afbcaff1"
      },
      "execution_count": null,
      "outputs": [
        {
          "output_type": "stream",
          "name": "stdout",
          "text": [
            "Enter a number47\n",
            "Odd Number\n"
          ]
        }
      ]
    },
    {
      "cell_type": "code",
      "source": [
        "num = int(input(\"Enter a number\"))\n",
        "\n",
        "print(f\"The given number is: {'Even' if num%2==0 else 'Odd'}\")"
      ],
      "metadata": {
        "colab": {
          "base_uri": "https://localhost:8080/"
        },
        "id": "8o6-_GYFWo9W",
        "outputId": "16a0cf0f-66a7-42d8-ffd8-551fb1fe0b8a"
      },
      "execution_count": null,
      "outputs": [
        {
          "output_type": "stream",
          "name": "stdout",
          "text": [
            "Enter a number96\n",
            "The given number is: Even\n"
          ]
        }
      ]
    },
    {
      "cell_type": "code",
      "source": [
        "even = 'Even' if num%2==0 else 'Odd'"
      ],
      "metadata": {
        "id": "HTOUV-KrWQHS"
      },
      "execution_count": null,
      "outputs": []
    },
    {
      "cell_type": "code",
      "source": [
        "even"
      ],
      "metadata": {
        "colab": {
          "base_uri": "https://localhost:8080/",
          "height": 35
        },
        "id": "BbJY4okiWcYI",
        "outputId": "8000b2e4-a424-4cf0-93c8-39cd71b07d03"
      },
      "execution_count": null,
      "outputs": [
        {
          "output_type": "execute_result",
          "data": {
            "text/plain": [
              "'Even'"
            ],
            "application/vnd.google.colaboratory.intrinsic+json": {
              "type": "string"
            }
          },
          "metadata": {},
          "execution_count": 5
        }
      ]
    },
    {
      "cell_type": "code",
      "source": [
        "num1 = int(input(\"Enter a number\"))\n",
        "num2 = int(input(\"Enter a number\"))\n",
        "\n",
        "if num1 > num2:\n",
        "  print(\"Num-1 is greater\")\n",
        "elif num1 == num2:\n",
        "  print(\"Equal number\")\n",
        "else:\n",
        "  print(\"Num-2 is greater\")\n"
      ],
      "metadata": {
        "colab": {
          "base_uri": "https://localhost:8080/"
        },
        "id": "9gwVc8gEWdNp",
        "outputId": "9c0df2d9-dfe7-41ea-dc48-4db60de8bc72"
      },
      "execution_count": null,
      "outputs": [
        {
          "output_type": "stream",
          "name": "stdout",
          "text": [
            "Enter a number15\n",
            "Enter a number15\n",
            "Equal number\n"
          ]
        }
      ]
    },
    {
      "cell_type": "code",
      "source": [],
      "metadata": {
        "id": "4PdGmbgG2taK"
      },
      "execution_count": null,
      "outputs": []
    },
    {
      "cell_type": "markdown",
      "source": [
        "1. Write a program that takes two numbers as input and returns the largest of them.​"
      ],
      "metadata": {
        "id": "KiySBbdN2USE"
      }
    },
    {
      "cell_type": "code",
      "source": [
        "x = int(input(\"Enter a number: \"))\n",
        "y = int(input(\"Enter another number:\"))\n",
        "\n",
        "if x>y:\n",
        "  print(\"x is greather than y\")\n",
        "elif x<y:\n",
        "  print(\"y is greater than x\")\n",
        "else:\n",
        "  print(\"x and y both are equal.\")\n"
      ],
      "metadata": {
        "colab": {
          "base_uri": "https://localhost:8080/"
        },
        "id": "hfR_ta5M2XtZ",
        "outputId": "65dc95db-2238-4ec1-93b6-fdc37634d27e"
      },
      "execution_count": null,
      "outputs": [
        {
          "output_type": "stream",
          "name": "stdout",
          "text": [
            "Enter a number: 23\n",
            "Enter another number:12\n",
            "x is greather than y\n"
          ]
        }
      ]
    },
    {
      "cell_type": "markdown",
      "source": [
        "2. Write a program to input any number and check whether it is even or odd.​"
      ],
      "metadata": {
        "id": "3Vpr6YiE2YFs"
      }
    },
    {
      "cell_type": "code",
      "source": [
        "num = int(input(\"Enter a number\"))\n",
        "\n",
        "if num%2==0:\n",
        "  print(\"Even Number\")\n",
        "else:\n",
        "  print(\"Odd Number\")"
      ],
      "metadata": {
        "id": "IIWuWtA72YcE"
      },
      "execution_count": null,
      "outputs": []
    },
    {
      "cell_type": "markdown",
      "source": [
        "3. Write a program to input angles of a triangle and check whether triangle is valid or not.\n",
        "(A triangle is valid if the sum of all the three angles is equal to 180 degrees Or A triangle is valid if sum of its two sides is greater than the third side)"
      ],
      "metadata": {
        "id": "VucUwOl12Ys0"
      }
    },
    {
      "cell_type": "code",
      "source": [
        "angles = [45, 100, 35]\n",
        "\n",
        "if sum(angles) == 180:\n",
        "  print(\"Triangle is valid.\")\n",
        "else:\n",
        "  print(\"Triangle is invalid\")"
      ],
      "metadata": {
        "colab": {
          "base_uri": "https://localhost:8080/"
        },
        "id": "iDV9zUXq2hpD",
        "outputId": "ae10d594-5c8f-4181-87ab-b65d92197f0f"
      },
      "execution_count": null,
      "outputs": [
        {
          "output_type": "stream",
          "name": "stdout",
          "text": [
            "Triangle is valid.\n"
          ]
        }
      ]
    },
    {
      "cell_type": "code",
      "source": [
        "angles = input(\"Enter three angles seperated by comma\").split(',')\n",
        "\n",
        "print(angles)\n",
        "\n",
        "sum_angles = sum([int(i) for i in angles])\n",
        "\n",
        "if sum_angles == 180:\n",
        "  print(\"Triangle is valid.\")\n",
        "else:\n",
        "  print(\"Triangle is invalid\")"
      ],
      "metadata": {
        "colab": {
          "base_uri": "https://localhost:8080/"
        },
        "id": "bW0N1GhQZcik",
        "outputId": "913e3900-b76b-4d65-93fa-b9331f9045de"
      },
      "execution_count": null,
      "outputs": [
        {
          "output_type": "stream",
          "name": "stdout",
          "text": [
            "Enter three angles seperated by comma45,45,90\n",
            "['45', '45', '90']\n",
            "Triangle is valid.\n"
          ]
        }
      ]
    },
    {
      "cell_type": "markdown",
      "source": [
        "4. Write a program to input any alphabet and check whether it is vowel or consonant.​"
      ],
      "metadata": {
        "id": "76uK_5Am2hM1"
      }
    },
    {
      "cell_type": "code",
      "source": [
        "char = input(\"Enter a character: \")\n",
        "\n",
        "if char.lower() in \"aeiou\":\n",
        "  print('Vowel')\n",
        "else:\n",
        "  print(\"Consonant\")"
      ],
      "metadata": {
        "colab": {
          "base_uri": "https://localhost:8080/"
        },
        "id": "jQGCF3rm2pWT",
        "outputId": "e15a61f3-eae3-4fdc-b0a4-7e23c9dc2914"
      },
      "execution_count": null,
      "outputs": [
        {
          "output_type": "stream",
          "name": "stdout",
          "text": [
            "Enter a character: E\n",
            "Vowel\n"
          ]
        }
      ]
    },
    {
      "cell_type": "code",
      "source": [
        "char = input(\"Enter a character: \")\n",
        "\n",
        "if char in \"aeiou\" or char in \"AEIOU\":\n",
        "  print('Vowel')\n",
        "else:\n",
        "  print(\"Consonant\")"
      ],
      "metadata": {
        "id": "8DOP0U2HY2og"
      },
      "execution_count": null,
      "outputs": []
    },
    {
      "cell_type": "code",
      "source": [
        "char = input(\"Enter a character: \")\n",
        "\n",
        "if char.upper() in \"AEIOU\":\n",
        "  print('Vowel')\n",
        "else:\n",
        "  print(\"Consonant\")"
      ],
      "metadata": {
        "id": "O-i4BFSoZAou"
      },
      "execution_count": null,
      "outputs": []
    },
    {
      "cell_type": "code",
      "source": [
        "char = input(\"Enter a character: \")\n",
        "\n",
        "if char.lower() in ['a', 'e', 'i', 'o', 'u']:\n",
        "  print('Vowel')\n",
        "else:\n",
        "  print(\"Consonant\")"
      ],
      "metadata": {
        "colab": {
          "base_uri": "https://localhost:8080/"
        },
        "id": "E_VTCZEEZFgW",
        "outputId": "ff8b7e66-4485-4fd2-a3d8-2289c292980f"
      },
      "execution_count": null,
      "outputs": [
        {
          "output_type": "stream",
          "name": "stdout",
          "text": [
            "Vowel\n"
          ]
        }
      ]
    },
    {
      "cell_type": "markdown",
      "source": [
        "5. Write a program to input any year and check whether it is leap year or not."
      ],
      "metadata": {
        "id": "g6W_zr1X2pm3"
      }
    },
    {
      "cell_type": "code",
      "source": [
        "2024 => Leap year => divisible by 4\n",
        "\n",
        "2000 => Leap year => divisible by 400\n",
        "\n",
        "1900 => No leap year => not divisible by 100\n",
        "\n",
        "Leap year\n",
        "Divisible by 4 → If the year is divisible by 4, it might be a leap year.\n",
        "Not divisible by 100 → However, if the year is divisible by 100, it is NOT a leap year.\n",
        "Divisible by 400 → If the year is also divisible by 400, then it is a leap year."
      ],
      "metadata": {
        "id": "xEEm4qxg2rYQ"
      },
      "execution_count": null,
      "outputs": []
    },
    {
      "cell_type": "code",
      "source": [
        "year = int(input(\"Enter a year: \"))\n",
        "\n",
        "if (year%4==0) and ((year%400==0)  or (year%100!= 0)):\n",
        "  print(\"Leap Year\")\n",
        "else:\n",
        "  print(\"Not a Leap Year\")"
      ],
      "metadata": {
        "colab": {
          "base_uri": "https://localhost:8080/"
        },
        "id": "O8jrH45gacpR",
        "outputId": "29ceb926-6c87-4f08-c7cf-4393c3ecf227"
      },
      "execution_count": null,
      "outputs": [
        {
          "output_type": "stream",
          "name": "stdout",
          "text": [
            "Enter a year: 2100\n",
            "Not a Leap Year\n"
          ]
        }
      ]
    },
    {
      "cell_type": "markdown",
      "source": [
        "Write a program to input electricity unit charges and calculate total electricity bill according to the given condition: ​\n",
        "\n",
        "- For first 50 units Rs. 0.50/unit​\n",
        "- For next 100 units Rs. 0.75/unit​\n",
        "- For next 100 units Rs. 1.20/unit​\n",
        "- For unit above 250 Rs. 1.50/unit​\n",
        "\n",
        "An additional surcharge of 20% is added to the bill"
      ],
      "metadata": {
        "id": "9yVZwIZqdpQH"
      }
    },
    {
      "cell_type": "code",
      "source": [
        "units = int(input('Enter electricity units:'))\n",
        "\n",
        "if units<=50:\n",
        "  bill = units*0.5\n",
        "elif units > 50 and units <= 150:\n",
        "  bill = 50*0.5 + (units-50)*0.75\n",
        "elif units>150 and units <= 250:\n",
        "  bill = 50*0.5 + 100*0.75 + (units-150)*1.2\n",
        "elif units>250:\n",
        "  bill = 50*0.5 + 100*0.75 + 100*1.2 + (units-250)*1.5\n",
        "\n",
        "bill *= 1.2\n",
        "\n",
        "print(\"Bill Amount:\", bill)"
      ],
      "metadata": {
        "colab": {
          "base_uri": "https://localhost:8080/"
        },
        "id": "VHQi6g8Aa2Em",
        "outputId": "15be0763-05ac-4876-f221-a0b5c478d018"
      },
      "execution_count": null,
      "outputs": [
        {
          "output_type": "stream",
          "name": "stdout",
          "text": [
            "Enter electricity units:80\n",
            "Bill Amount: 57.0\n"
          ]
        }
      ]
    },
    {
      "cell_type": "code",
      "source": [
        "bill == 57 #unit test"
      ],
      "metadata": {
        "colab": {
          "base_uri": "https://localhost:8080/"
        },
        "id": "MORI94JfeyD4",
        "outputId": "9364923b-2da3-46e5-97d3-dac4aee066cb"
      },
      "execution_count": null,
      "outputs": [
        {
          "output_type": "execute_result",
          "data": {
            "text/plain": [
              "True"
            ]
          },
          "metadata": {},
          "execution_count": 38
        }
      ]
    },
    {
      "cell_type": "code",
      "source": [
        "units = int(input('Enter electricity units:'))\n",
        "\n",
        "match units:\n",
        "  case units <= 50:\n",
        "    print(\"less than 50\")\n",
        "  case units > 50 and units <= 150:\n",
        "    print(\"Between 50-150\")"
      ],
      "metadata": {
        "colab": {
          "base_uri": "https://localhost:8080/",
          "height": 106
        },
        "id": "VLW2ePJQfVZX",
        "outputId": "f3ede1d7-cb3f-4d85-b08e-7cbec0e61d12"
      },
      "execution_count": null,
      "outputs": [
        {
          "output_type": "error",
          "ename": "SyntaxError",
          "evalue": "invalid syntax (<ipython-input-40-5edc433c74ff>, line 4)",
          "traceback": [
            "\u001b[0;36m  File \u001b[0;32m\"<ipython-input-40-5edc433c74ff>\"\u001b[0;36m, line \u001b[0;32m4\u001b[0m\n\u001b[0;31m    case units <= 50:\u001b[0m\n\u001b[0m               ^\u001b[0m\n\u001b[0;31mSyntaxError\u001b[0m\u001b[0;31m:\u001b[0m invalid syntax\n"
          ]
        }
      ]
    },
    {
      "cell_type": "code",
      "source": [
        "day = int(input(\"Enter a day between 1-7\"))\n",
        "\n",
        "match day:\n",
        "  case 1:\n",
        "    print(\"Monday\")\n",
        "  case 2:\n",
        "    print(\"Tuesday\")\n",
        "  case _:\n",
        "    print(\"Not defined\")"
      ],
      "metadata": {
        "id": "dY-gFeK7hrht"
      },
      "execution_count": null,
      "outputs": []
    },
    {
      "cell_type": "code",
      "source": [
        "day = int(input(\"Enter a day between 1-7\"))\n",
        "\n",
        "match day:\n",
        "  case 1 | 2:\n",
        "    print(\"Monday\")\n",
        "  case 3 | 4:\n",
        "    print(\"Tuesday\")\n",
        "  case _:\n",
        "    print(\"Not defined\")\n"
      ],
      "metadata": {
        "colab": {
          "base_uri": "https://localhost:8080/"
        },
        "id": "9TMY-KBpghd1",
        "outputId": "72d0bc04-50d1-4969-d32f-aef8b4d4cbb3"
      },
      "execution_count": null,
      "outputs": [
        {
          "output_type": "stream",
          "name": "stdout",
          "text": [
            "Enter a day between 1-75\n",
            "Not defined\n"
          ]
        }
      ]
    },
    {
      "cell_type": "code",
      "source": [
        "day = int(input(\"Enter a day between 1-7\"))\n",
        "\n",
        "dict_example = {1: \"Monday\", 2:\"Tuesday\", 3: \"Wednesday\"}\n",
        "\n",
        "dict_example[day]"
      ],
      "metadata": {
        "colab": {
          "base_uri": "https://localhost:8080/",
          "height": 53
        },
        "id": "pOzTHjvUg-YU",
        "outputId": "51e503b1-8ec4-49c0-b337-1f689e0aacc3"
      },
      "execution_count": null,
      "outputs": [
        {
          "name": "stdout",
          "output_type": "stream",
          "text": [
            "Enter a day between 1-72\n"
          ]
        },
        {
          "output_type": "execute_result",
          "data": {
            "text/plain": [
              "'Tuesday'"
            ],
            "application/vnd.google.colaboratory.intrinsic+json": {
              "type": "string"
            }
          },
          "metadata": {},
          "execution_count": 44
        }
      ]
    },
    {
      "cell_type": "code",
      "source": [
        "dict_example.get(day)"
      ],
      "metadata": {
        "colab": {
          "base_uri": "https://localhost:8080/",
          "height": 35
        },
        "id": "MXP8ft3khedF",
        "outputId": "6dc12566-6d86-4789-a4ed-dc8228bf5404"
      },
      "execution_count": null,
      "outputs": [
        {
          "output_type": "execute_result",
          "data": {
            "text/plain": [
              "'Tuesday'"
            ],
            "application/vnd.google.colaboratory.intrinsic+json": {
              "type": "string"
            }
          },
          "metadata": {},
          "execution_count": 45
        }
      ]
    },
    {
      "cell_type": "code",
      "source": [],
      "metadata": {
        "id": "6ZRMs7AdiEcJ"
      },
      "execution_count": null,
      "outputs": []
    }
  ]
}