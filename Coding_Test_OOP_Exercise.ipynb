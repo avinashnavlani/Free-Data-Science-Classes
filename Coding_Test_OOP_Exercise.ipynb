{
  "cells": [
    {
      "cell_type": "markdown",
      "id": "95d0eb1f-6eb4-4f6d-8a68-c00e69c69dfd",
      "metadata": {
        "id": "95d0eb1f-6eb4-4f6d-8a68-c00e69c69dfd"
      },
      "source": [
        "## Problem Statement\n",
        "\n",
        "Design and implement a simple digital library system that allows users to manage multiple books and navigate through their content as if they were reading physical books. Each book should have:\n",
        "\n",
        "- Unique Identifier: Can be a string or an integer (e.g., book_id).\n",
        "- Title: A descriptive title (str).\n",
        "- Pages: A list of strings, each element representing the content of one page.\n",
        "- Last Page Marker: An integer (current_page) indicating which page the reader is currently viewing.\n",
        "\n",
        "- Turn to the next page (turn_next_page) if available, or return a message when on the last page.\n",
        "- Turn to the previous page (turn_prev_page) if available, or return a message when on the first page.\n",
        "\n",
        "A Library should serve as a collection of these books, where each book is stored by its unique identifier. The library must provide functionality to:\n",
        "- List of books\n",
        "- List of active books. active books track the currently selected book.\n",
        "\n",
        "- Add new books to the collection.\n",
        "- Remove existing books by their identifier.\n",
        "- Select (activate) one book at a time for reading.\n",
        "- Display the currently active page of the selected book.\n",
        "- Turn pages forward and backward, with checks to ensure the reader does not move beyond the first or last page of the active book."
      ]
    },
    {
      "cell_type": "code",
      "source": [
        "class Book:\n",
        "  # Constructor\n",
        "  def __init__(self, book_id, title, pages):\n",
        "    self.book_id = book_id\n",
        "    self.title = title\n",
        "    self.pages = pages\n",
        "    self.current_page = 0\n",
        "\n",
        "  def next_page(self):\n",
        "    if self.current_page < len(self.pages)+1:\n",
        "      self.current_page +=1 # increment\n",
        "    else:\n",
        "      return \"You are on last page.\"\n",
        "\n",
        "  def prev_page(self):\n",
        "    if self.current_page > 0:\n",
        "      self.current_page -=1 # decrement\n",
        "    else:\n",
        "      return \"You are on cover page\""
      ],
      "metadata": {
        "id": "kVf_PFAlwogM"
      },
      "id": "kVf_PFAlwogM",
      "execution_count": 1,
      "outputs": []
    },
    {
      "cell_type": "code",
      "source": [
        "class Library:\n",
        "  def __init__(self):\n",
        "    self.books = {}\n",
        "    self.active_books = []\n",
        "\n",
        "  def add_new_book(self, book):\n",
        "    self.books[book.book_id] = book\n",
        "\n",
        "  def remove_book(self, book_id):\n",
        "    if book_id in self.books:\n",
        "      del self.books[book_id]\n",
        "    if book_id in self.active_books:\n",
        "      self.active_books.remove(book_id)\n",
        "\n",
        "  def select_book(self, book_id):\n",
        "    self.active_books.append(book_id)\n",
        "\n",
        "  def display_page(self, book_id):\n",
        "    print(self.books[book_id].pages[self.books[book_id].current_page])\n",
        "\n",
        "  def turn_next_page(self, book_id):\n",
        "    self.books[book_id].next_page()\n",
        "    print(\"Next Page\", self.books[book_id].pages[self.books[book_id].current_page])\n",
        "\n",
        "  def turn_prev_page(self, book_id):\n",
        "    self.books[book_id].prev_page()\n",
        "    print(\"Previous Page\", self.books[book_id].pages[self.books[book_id].current_page])\n"
      ],
      "metadata": {
        "id": "mnxfjOm7_j3Z"
      },
      "id": "mnxfjOm7_j3Z",
      "execution_count": 43,
      "outputs": []
    },
    {
      "cell_type": "code",
      "source": [
        "b = Book(\"123\",\n",
        "         \"Python data analysis\",\n",
        "          [\n",
        "    \"Page 1: Cover Page\",\n",
        "    \"Page 2: ToC\",\n",
        "    \"Page 3: Introduction\",\n",
        "    \"Page 4: Pandas\",\n",
        "    \"Page 5: NumPy\"]\n",
        "         )"
      ],
      "metadata": {
        "id": "1vouo-t0-ahw"
      },
      "id": "1vouo-t0-ahw",
      "execution_count": 44,
      "outputs": []
    },
    {
      "cell_type": "code",
      "source": [
        "lib = Library()\n",
        "lib.add_new_book(b)"
      ],
      "metadata": {
        "id": "eJbK99RICur3"
      },
      "id": "eJbK99RICur3",
      "execution_count": 45,
      "outputs": []
    },
    {
      "cell_type": "code",
      "source": [
        "lib.books"
      ],
      "metadata": {
        "colab": {
          "base_uri": "https://localhost:8080/"
        },
        "id": "26rxXLC1C3Mn",
        "outputId": "3d2afac5-1863-4d27-fb63-67585ac666f4"
      },
      "id": "26rxXLC1C3Mn",
      "execution_count": 46,
      "outputs": [
        {
          "output_type": "execute_result",
          "data": {
            "text/plain": [
              "{'123': <__main__.Book at 0x7961448e9ed0>}"
            ]
          },
          "metadata": {},
          "execution_count": 46
        }
      ]
    },
    {
      "cell_type": "code",
      "source": [
        "lib.active_books"
      ],
      "metadata": {
        "colab": {
          "base_uri": "https://localhost:8080/"
        },
        "id": "uCql3eB0C9Vq",
        "outputId": "222f3bed-12ba-41a1-fc94-faefe2dab0c3"
      },
      "id": "uCql3eB0C9Vq",
      "execution_count": 47,
      "outputs": [
        {
          "output_type": "execute_result",
          "data": {
            "text/plain": [
              "[]"
            ]
          },
          "metadata": {},
          "execution_count": 47
        }
      ]
    },
    {
      "cell_type": "code",
      "source": [
        "lib.select_book(\"123\")"
      ],
      "metadata": {
        "id": "srTVEK5UC9Sw"
      },
      "id": "srTVEK5UC9Sw",
      "execution_count": 48,
      "outputs": []
    },
    {
      "cell_type": "code",
      "source": [
        "lib.active_books"
      ],
      "metadata": {
        "colab": {
          "base_uri": "https://localhost:8080/"
        },
        "id": "Dt6aPD_uC9QA",
        "outputId": "05c27cd7-c7d9-4efd-d033-07414f7a04aa"
      },
      "id": "Dt6aPD_uC9QA",
      "execution_count": 49,
      "outputs": [
        {
          "output_type": "execute_result",
          "data": {
            "text/plain": [
              "['123']"
            ]
          },
          "metadata": {},
          "execution_count": 49
        }
      ]
    },
    {
      "cell_type": "code",
      "source": [
        "lib.display_page(\"123\")"
      ],
      "metadata": {
        "colab": {
          "base_uri": "https://localhost:8080/"
        },
        "id": "74aH8YYNDJh-",
        "outputId": "378ad15e-b888-4328-b2af-4739c72c1267"
      },
      "id": "74aH8YYNDJh-",
      "execution_count": 50,
      "outputs": [
        {
          "output_type": "stream",
          "name": "stdout",
          "text": [
            "Page 1: Cover Page\n"
          ]
        }
      ]
    },
    {
      "cell_type": "code",
      "source": [
        "lib.turn_next_page(\n",
        "    \"123\"\n",
        ")"
      ],
      "metadata": {
        "colab": {
          "base_uri": "https://localhost:8080/"
        },
        "id": "PoCpnVqgDJfF",
        "outputId": "8fc9bb1a-4d9f-4953-f18e-6eddbe18c0ee"
      },
      "id": "PoCpnVqgDJfF",
      "execution_count": 51,
      "outputs": [
        {
          "output_type": "stream",
          "name": "stdout",
          "text": [
            "Next Page Page 2: ToC\n"
          ]
        }
      ]
    },
    {
      "cell_type": "code",
      "source": [
        "lib.turn_next_page(\"123\")"
      ],
      "metadata": {
        "colab": {
          "base_uri": "https://localhost:8080/"
        },
        "id": "wxMcJr4PDJb7",
        "outputId": "b98e535a-e650-40fa-da67-ecc7c2a22772"
      },
      "id": "wxMcJr4PDJb7",
      "execution_count": 52,
      "outputs": [
        {
          "output_type": "stream",
          "name": "stdout",
          "text": [
            "Next Page Page 3: Introduction\n"
          ]
        }
      ]
    },
    {
      "cell_type": "code",
      "source": [
        "lib.turn_prev_page(\"123\")"
      ],
      "metadata": {
        "colab": {
          "base_uri": "https://localhost:8080/"
        },
        "id": "zou3aAMoDXao",
        "outputId": "4b78a085-44e8-445b-b795-354fc1053dd7"
      },
      "id": "zou3aAMoDXao",
      "execution_count": 53,
      "outputs": [
        {
          "output_type": "stream",
          "name": "stdout",
          "text": [
            "Previous Page Page 2: ToC\n"
          ]
        }
      ]
    },
    {
      "cell_type": "code",
      "source": [
        "b.current_page"
      ],
      "metadata": {
        "colab": {
          "base_uri": "https://localhost:8080/"
        },
        "id": "Va_zFvRK-8Y8",
        "outputId": "a9b07599-bf41-45b2-af7d-dbcda65aabfc"
      },
      "id": "Va_zFvRK-8Y8",
      "execution_count": 54,
      "outputs": [
        {
          "output_type": "execute_result",
          "data": {
            "text/plain": [
              "1"
            ]
          },
          "metadata": {},
          "execution_count": 54
        }
      ]
    },
    {
      "cell_type": "code",
      "source": [
        "b.pages[b.current_page]"
      ],
      "metadata": {
        "colab": {
          "base_uri": "https://localhost:8080/",
          "height": 35
        },
        "id": "dF2baiEk-8_q",
        "outputId": "488115f8-7113-4f34-b013-8dc1e733eec2"
      },
      "id": "dF2baiEk-8_q",
      "execution_count": 5,
      "outputs": [
        {
          "output_type": "execute_result",
          "data": {
            "text/plain": [
              "'Page 1: Cover Page'"
            ],
            "application/vnd.google.colaboratory.intrinsic+json": {
              "type": "string"
            }
          },
          "metadata": {},
          "execution_count": 5
        }
      ]
    },
    {
      "cell_type": "code",
      "source": [
        "b.next_page()"
      ],
      "metadata": {
        "id": "nvFd2i70_DpS"
      },
      "id": "nvFd2i70_DpS",
      "execution_count": 6,
      "outputs": []
    },
    {
      "cell_type": "code",
      "source": [
        "b.pages[b.current_page]"
      ],
      "metadata": {
        "colab": {
          "base_uri": "https://localhost:8080/",
          "height": 35
        },
        "id": "h7r9vFjv_G63",
        "outputId": "627d12cf-5349-41fe-85e8-9de2d7915a6b"
      },
      "id": "h7r9vFjv_G63",
      "execution_count": 7,
      "outputs": [
        {
          "output_type": "execute_result",
          "data": {
            "text/plain": [
              "'Page 2: ToC'"
            ],
            "application/vnd.google.colaboratory.intrinsic+json": {
              "type": "string"
            }
          },
          "metadata": {},
          "execution_count": 7
        }
      ]
    },
    {
      "cell_type": "code",
      "source": [
        "b.next_page()\n",
        "b.pages[b.current_page]"
      ],
      "metadata": {
        "colab": {
          "base_uri": "https://localhost:8080/",
          "height": 35
        },
        "id": "FgaBheJW_H_o",
        "outputId": "57c1bda9-33e2-472f-ad82-5f1adf44bc79"
      },
      "id": "FgaBheJW_H_o",
      "execution_count": 8,
      "outputs": [
        {
          "output_type": "execute_result",
          "data": {
            "text/plain": [
              "'Page 3: Introduction'"
            ],
            "application/vnd.google.colaboratory.intrinsic+json": {
              "type": "string"
            }
          },
          "metadata": {},
          "execution_count": 8
        }
      ]
    },
    {
      "cell_type": "code",
      "source": [
        "b.prev_page()\n",
        "b.pages[b.current_page]"
      ],
      "metadata": {
        "colab": {
          "base_uri": "https://localhost:8080/",
          "height": 35
        },
        "id": "k1ZRtEsM_LS8",
        "outputId": "3842fb48-edf5-4934-81fe-78d7b7a482cb"
      },
      "id": "k1ZRtEsM_LS8",
      "execution_count": 9,
      "outputs": [
        {
          "output_type": "execute_result",
          "data": {
            "text/plain": [
              "'Page 2: ToC'"
            ],
            "application/vnd.google.colaboratory.intrinsic+json": {
              "type": "string"
            }
          },
          "metadata": {},
          "execution_count": 9
        }
      ]
    },
    {
      "cell_type": "code",
      "source": [],
      "metadata": {
        "id": "_w1iQZ7S_NzC"
      },
      "id": "_w1iQZ7S_NzC",
      "execution_count": null,
      "outputs": []
    }
  ],
  "metadata": {
    "kernelspec": {
      "display_name": "Python 3 (ipykernel)",
      "language": "python",
      "name": "python3"
    },
    "language_info": {
      "codemirror_mode": {
        "name": "ipython",
        "version": 3
      },
      "file_extension": ".py",
      "mimetype": "text/x-python",
      "name": "python",
      "nbconvert_exporter": "python",
      "pygments_lexer": "ipython3",
      "version": "3.11.7"
    },
    "colab": {
      "provenance": []
    }
  },
  "nbformat": 4,
  "nbformat_minor": 5
}