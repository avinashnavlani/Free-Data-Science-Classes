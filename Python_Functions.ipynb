{
  "nbformat": 4,
  "nbformat_minor": 0,
  "metadata": {
    "colab": {
      "provenance": []
    },
    "kernelspec": {
      "name": "python3",
      "display_name": "Python 3"
    },
    "language_info": {
      "name": "python"
    }
  },
  "cells": [
    {
      "cell_type": "code",
      "execution_count": null,
      "metadata": {
        "id": "EB-GspGYUj_C"
      },
      "outputs": [],
      "source": [
        "# Prime Number\n",
        "\n",
        "\n",
        "# Definition\n",
        "def check_prime_number():\n",
        "  num = int(input(\"Enter a number\"))\n",
        "\n",
        "  is_prime = True\n",
        "\n",
        "  for i in range(2,num):\n",
        "    print(i)\n",
        "    if num%i == 0:\n",
        "      is_prime = False\n",
        "      break\n",
        "\n",
        "  if is_prime:\n",
        "    print(\"Prime Number\")\n",
        "  else:\n",
        "    print(\"Not a Prime Number.\")"
      ]
    },
    {
      "cell_type": "code",
      "source": [
        "check_prime_number() # Calling function"
      ],
      "metadata": {
        "colab": {
          "base_uri": "https://localhost:8080/"
        },
        "id": "Kh3Oiei3XnIP",
        "outputId": "c00df250-aac8-4c27-c891-eea7e5370a8e"
      },
      "execution_count": null,
      "outputs": [
        {
          "output_type": "stream",
          "name": "stdout",
          "text": [
            "Enter a number35\n",
            "2\n",
            "3\n",
            "4\n",
            "5\n",
            "Not a Prime Number.\n"
          ]
        }
      ]
    },
    {
      "cell_type": "code",
      "source": [
        "# Definition\n",
        "def check_prime_number(num):\n",
        "  is_prime = True\n",
        "\n",
        "  for i in range(2,num):\n",
        "    if num%i == 0:\n",
        "      is_prime = False\n",
        "      break\n",
        "\n",
        "  if is_prime:\n",
        "    return \"Prime Number\"\n",
        "  else:\n",
        "    return \"Not a Prime Number.\""
      ],
      "metadata": {
        "id": "tYTEWaQYXoVt"
      },
      "execution_count": null,
      "outputs": []
    },
    {
      "cell_type": "code",
      "source": [
        "num = int(input(\"Enter a number\"))\n",
        "result = check_prime_number(num)\n",
        "print(result)"
      ],
      "metadata": {
        "colab": {
          "base_uri": "https://localhost:8080/"
        },
        "id": "-Y-yAu8WXoIu",
        "outputId": "bdb379a3-dda1-448e-c912-3899770ce7c2"
      },
      "execution_count": null,
      "outputs": [
        {
          "output_type": "stream",
          "name": "stdout",
          "text": [
            "Enter a number41\n",
            "Prime Number\n"
          ]
        }
      ]
    },
    {
      "cell_type": "code",
      "source": [
        "check_prime_number(23), check_prime_number(34)"
      ],
      "metadata": {
        "colab": {
          "base_uri": "https://localhost:8080/"
        },
        "id": "p7DxoA1NXn8t",
        "outputId": "7e92f9ab-287a-4cca-8885-f7b517fef2f5"
      },
      "execution_count": null,
      "outputs": [
        {
          "output_type": "execute_result",
          "data": {
            "text/plain": [
              "('Prime Number', 'Not a Prime Number.')"
            ]
          },
          "metadata": {},
          "execution_count": 6
        }
      ]
    },
    {
      "cell_type": "code",
      "source": [
        "for i in range(2,101):\n",
        "  result = check_prime_number(i)\n",
        "  print(i, result)"
      ],
      "metadata": {
        "colab": {
          "base_uri": "https://localhost:8080/"
        },
        "id": "wpBp-p6VXitf",
        "outputId": "ebd1627c-9604-46ca-fe7a-2d904c30be34"
      },
      "execution_count": null,
      "outputs": [
        {
          "output_type": "stream",
          "name": "stdout",
          "text": [
            "2 Prime Number\n",
            "3 Prime Number\n",
            "4 Not a Prime Number.\n",
            "5 Prime Number\n",
            "6 Not a Prime Number.\n",
            "7 Prime Number\n",
            "8 Not a Prime Number.\n",
            "9 Not a Prime Number.\n",
            "10 Not a Prime Number.\n",
            "11 Prime Number\n",
            "12 Not a Prime Number.\n",
            "13 Prime Number\n",
            "14 Not a Prime Number.\n",
            "15 Not a Prime Number.\n",
            "16 Not a Prime Number.\n",
            "17 Prime Number\n",
            "18 Not a Prime Number.\n",
            "19 Prime Number\n",
            "20 Not a Prime Number.\n",
            "21 Not a Prime Number.\n",
            "22 Not a Prime Number.\n",
            "23 Prime Number\n",
            "24 Not a Prime Number.\n",
            "25 Not a Prime Number.\n",
            "26 Not a Prime Number.\n",
            "27 Not a Prime Number.\n",
            "28 Not a Prime Number.\n",
            "29 Prime Number\n",
            "30 Not a Prime Number.\n",
            "31 Prime Number\n",
            "32 Not a Prime Number.\n",
            "33 Not a Prime Number.\n",
            "34 Not a Prime Number.\n",
            "35 Not a Prime Number.\n",
            "36 Not a Prime Number.\n",
            "37 Prime Number\n",
            "38 Not a Prime Number.\n",
            "39 Not a Prime Number.\n",
            "40 Not a Prime Number.\n",
            "41 Prime Number\n",
            "42 Not a Prime Number.\n",
            "43 Prime Number\n",
            "44 Not a Prime Number.\n",
            "45 Not a Prime Number.\n",
            "46 Not a Prime Number.\n",
            "47 Prime Number\n",
            "48 Not a Prime Number.\n",
            "49 Not a Prime Number.\n",
            "50 Not a Prime Number.\n",
            "51 Not a Prime Number.\n",
            "52 Not a Prime Number.\n",
            "53 Prime Number\n",
            "54 Not a Prime Number.\n",
            "55 Not a Prime Number.\n",
            "56 Not a Prime Number.\n",
            "57 Not a Prime Number.\n",
            "58 Not a Prime Number.\n",
            "59 Prime Number\n",
            "60 Not a Prime Number.\n",
            "61 Prime Number\n",
            "62 Not a Prime Number.\n",
            "63 Not a Prime Number.\n",
            "64 Not a Prime Number.\n",
            "65 Not a Prime Number.\n",
            "66 Not a Prime Number.\n",
            "67 Prime Number\n",
            "68 Not a Prime Number.\n",
            "69 Not a Prime Number.\n",
            "70 Not a Prime Number.\n",
            "71 Prime Number\n",
            "72 Not a Prime Number.\n",
            "73 Prime Number\n",
            "74 Not a Prime Number.\n",
            "75 Not a Prime Number.\n",
            "76 Not a Prime Number.\n",
            "77 Not a Prime Number.\n",
            "78 Not a Prime Number.\n",
            "79 Prime Number\n",
            "80 Not a Prime Number.\n",
            "81 Not a Prime Number.\n",
            "82 Not a Prime Number.\n",
            "83 Prime Number\n",
            "84 Not a Prime Number.\n",
            "85 Not a Prime Number.\n",
            "86 Not a Prime Number.\n",
            "87 Not a Prime Number.\n",
            "88 Not a Prime Number.\n",
            "89 Prime Number\n",
            "90 Not a Prime Number.\n",
            "91 Not a Prime Number.\n",
            "92 Not a Prime Number.\n",
            "93 Not a Prime Number.\n",
            "94 Not a Prime Number.\n",
            "95 Not a Prime Number.\n",
            "96 Not a Prime Number.\n",
            "97 Prime Number\n",
            "98 Not a Prime Number.\n",
            "99 Not a Prime Number.\n",
            "100 Not a Prime Number.\n"
          ]
        }
      ]
    },
    {
      "cell_type": "code",
      "source": [
        "import math\n",
        "# from math import sqrt\n",
        "\n",
        "def heron(a,b,c):\n",
        "  \"\"\"\n",
        "  input: 3 triangle sides\n",
        "  purpose: calculate area of triangle\n",
        "  output: float-area of triangle\n",
        "  \"\"\"\n",
        "  s = (a+b+c)/2\n",
        "  area = math.sqrt(s*(s-a)*(s-b)*(s-c))\n",
        "  return area"
      ],
      "metadata": {
        "id": "o7fDt0txci3K"
      },
      "execution_count": null,
      "outputs": []
    },
    {
      "cell_type": "code",
      "source": [
        "heron(5,4,6)"
      ],
      "metadata": {
        "colab": {
          "base_uri": "https://localhost:8080/"
        },
        "id": "uRrn2PDXci79",
        "outputId": "7d3bf1df-3641-4e84-b158-92904ac26234"
      },
      "execution_count": null,
      "outputs": [
        {
          "output_type": "execute_result",
          "data": {
            "text/plain": [
              "9.921567416492215"
            ]
          },
          "metadata": {},
          "execution_count": 16
        }
      ]
    },
    {
      "cell_type": "code",
      "source": [
        "heron(15,14,16)"
      ],
      "metadata": {
        "colab": {
          "base_uri": "https://localhost:8080/"
        },
        "id": "IAi71GCCci-6",
        "outputId": "11c262c3-cc81-4120-e15d-7bf9eaef3403"
      },
      "execution_count": null,
      "outputs": [
        {
          "output_type": "execute_result",
          "data": {
            "text/plain": [
              "96.557948921878"
            ]
          },
          "metadata": {},
          "execution_count": 10
        }
      ]
    },
    {
      "cell_type": "markdown",
      "source": [
        "# Local Function"
      ],
      "metadata": {
        "id": "rDnEqsured4O"
      }
    },
    {
      "cell_type": "code",
      "source": [
        "# Global Function\n",
        "def heron(a,b,c):\n",
        "  \"\"\"\n",
        "  input: 3 triangle sides\n",
        "  purpose: calculate area of triangle\n",
        "  output: float-area of triangle\n",
        "  \"\"\"\n",
        "  # local function\n",
        "  def calculate_s(a,b,c):\n",
        "    return (a+b+c)/2\n",
        "\n",
        "  s = calculate_s(a,b,c)\n",
        "  area = math.sqrt(s*(s-a)*(s-b)*(s-c))\n",
        "\n",
        "  return area"
      ],
      "metadata": {
        "id": "hwKReyP9ehxQ"
      },
      "execution_count": null,
      "outputs": []
    },
    {
      "cell_type": "code",
      "source": [
        "heron(15,14,16)"
      ],
      "metadata": {
        "colab": {
          "base_uri": "https://localhost:8080/"
        },
        "id": "8hre1J4-ewGJ",
        "outputId": "111ce3fa-2dc8-4eda-86d8-c44aa784b960"
      },
      "execution_count": null,
      "outputs": [
        {
          "output_type": "stream",
          "name": "stdout",
          "text": [
            "7.5\n"
          ]
        },
        {
          "output_type": "execute_result",
          "data": {
            "text/plain": [
              "96.557948921878"
            ]
          },
          "metadata": {},
          "execution_count": 21
        }
      ]
    },
    {
      "cell_type": "code",
      "source": [
        "calculate_s(5,4,6) # You can't call local function outside of global function in which it is defined."
      ],
      "metadata": {
        "colab": {
          "base_uri": "https://localhost:8080/",
          "height": 141
        },
        "id": "_sGywMMUeyJe",
        "outputId": "77cd9a72-b056-4c7f-e322-4583e5b156e0"
      },
      "execution_count": null,
      "outputs": [
        {
          "output_type": "error",
          "ename": "NameError",
          "evalue": "name 'calculate_s' is not defined",
          "traceback": [
            "\u001b[0;31m---------------------------------------------------------------------------\u001b[0m",
            "\u001b[0;31mNameError\u001b[0m                                 Traceback (most recent call last)",
            "\u001b[0;32m<ipython-input-19-e1e6d338ebbc>\u001b[0m in \u001b[0;36m<cell line: 0>\u001b[0;34m()\u001b[0m\n\u001b[0;32m----> 1\u001b[0;31m \u001b[0mcalculate_s\u001b[0m\u001b[0;34m(\u001b[0m\u001b[0;36m5\u001b[0m\u001b[0;34m,\u001b[0m\u001b[0;36m4\u001b[0m\u001b[0;34m,\u001b[0m\u001b[0;36m6\u001b[0m\u001b[0;34m)\u001b[0m\u001b[0;34m\u001b[0m\u001b[0;34m\u001b[0m\u001b[0m\n\u001b[0m",
            "\u001b[0;31mNameError\u001b[0m: name 'calculate_s' is not defined"
          ]
        }
      ]
    },
    {
      "cell_type": "code",
      "source": [
        "heron().calculate_s(5,4,6)"
      ],
      "metadata": {
        "colab": {
          "base_uri": "https://localhost:8080/",
          "height": 141
        },
        "id": "mGDI_nL9fk7L",
        "outputId": "a19afb2c-5046-4557-867e-41df43806785"
      },
      "execution_count": null,
      "outputs": [
        {
          "output_type": "error",
          "ename": "TypeError",
          "evalue": "heron() missing 3 required positional arguments: 'a', 'b', and 'c'",
          "traceback": [
            "\u001b[0;31m---------------------------------------------------------------------------\u001b[0m",
            "\u001b[0;31mTypeError\u001b[0m                                 Traceback (most recent call last)",
            "\u001b[0;32m<ipython-input-23-979888f325c9>\u001b[0m in \u001b[0;36m<cell line: 0>\u001b[0;34m()\u001b[0m\n\u001b[0;32m----> 1\u001b[0;31m \u001b[0mheron\u001b[0m\u001b[0;34m(\u001b[0m\u001b[0;34m)\u001b[0m\u001b[0;34m.\u001b[0m\u001b[0mcalculate_s\u001b[0m\u001b[0;34m(\u001b[0m\u001b[0;36m5\u001b[0m\u001b[0;34m,\u001b[0m\u001b[0;36m4\u001b[0m\u001b[0;34m,\u001b[0m\u001b[0;36m6\u001b[0m\u001b[0;34m)\u001b[0m\u001b[0;34m\u001b[0m\u001b[0;34m\u001b[0m\u001b[0m\n\u001b[0m",
            "\u001b[0;31mTypeError\u001b[0m: heron() missing 3 required positional arguments: 'a', 'b', and 'c'"
          ]
        }
      ]
    },
    {
      "cell_type": "markdown",
      "source": [
        "# Lambda Functions"
      ],
      "metadata": {
        "id": "MiLWdPSRgaQQ"
      }
    },
    {
      "cell_type": "code",
      "source": [
        "def add(a,b):\n",
        "  return a+b\n",
        "\n",
        "add(4,5)"
      ],
      "metadata": {
        "colab": {
          "base_uri": "https://localhost:8080/"
        },
        "id": "4itUKADQe-st",
        "outputId": "843f0568-a0e7-4c61-bee1-8d83bc279458"
      },
      "execution_count": null,
      "outputs": [
        {
          "output_type": "execute_result",
          "data": {
            "text/plain": [
              "9"
            ]
          },
          "metadata": {},
          "execution_count": 24
        }
      ]
    },
    {
      "cell_type": "code",
      "source": [
        "add = lambda a,b: a+b\n",
        "\n",
        "add(3,4)"
      ],
      "metadata": {
        "colab": {
          "base_uri": "https://localhost:8080/"
        },
        "id": "sA1Oq0_qhayL",
        "outputId": "de9d7056-a1ea-41dc-b12e-258b01ee805c"
      },
      "execution_count": null,
      "outputs": [
        {
          "output_type": "execute_result",
          "data": {
            "text/plain": [
              "7"
            ]
          },
          "metadata": {},
          "execution_count": 25
        }
      ]
    },
    {
      "cell_type": "code",
      "source": [
        "num_items = [1,2,3,4,5,6]"
      ],
      "metadata": {
        "id": "LifddQ_Bhl4s"
      },
      "execution_count": null,
      "outputs": []
    },
    {
      "cell_type": "code",
      "source": [
        "[i**2 for i in num_items]"
      ],
      "metadata": {
        "colab": {
          "base_uri": "https://localhost:8080/"
        },
        "id": "964IiitIhwEn",
        "outputId": "f1779f3a-0ad9-4358-9e58-1f5a5f1c5dc0"
      },
      "execution_count": null,
      "outputs": [
        {
          "output_type": "execute_result",
          "data": {
            "text/plain": [
              "[1, 4, 9, 16, 25, 36]"
            ]
          },
          "metadata": {},
          "execution_count": 28
        }
      ]
    },
    {
      "cell_type": "code",
      "source": [
        "list(map(lambda x:x**2,num_items))"
      ],
      "metadata": {
        "colab": {
          "base_uri": "https://localhost:8080/"
        },
        "id": "lOhJ7mfXhiR_",
        "outputId": "fe54c4ec-930c-4c7d-eee0-e40a220cfcf5"
      },
      "execution_count": null,
      "outputs": [
        {
          "output_type": "execute_result",
          "data": {
            "text/plain": [
              "[1, 4, 9, 16, 25, 36]"
            ]
          },
          "metadata": {},
          "execution_count": 30
        }
      ]
    },
    {
      "cell_type": "code",
      "source": [
        "str_list = ['a', 'b', 'c', 'a', 'b', 'd']"
      ],
      "metadata": {
        "id": "2KJm9cyCiH8o"
      },
      "execution_count": null,
      "outputs": []
    },
    {
      "cell_type": "code",
      "source": [
        "mapped = list(map(lambda x: (x,1), str_list))\n",
        "mapped"
      ],
      "metadata": {
        "colab": {
          "base_uri": "https://localhost:8080/"
        },
        "id": "H2Pqj0huiHsL",
        "outputId": "c70d6372-029b-4dc7-9bbc-3f918266d423"
      },
      "execution_count": null,
      "outputs": [
        {
          "output_type": "execute_result",
          "data": {
            "text/plain": [
              "[('a', 1), ('b', 1), ('c', 1), ('a', 1), ('b', 1), ('d', 1)]"
            ]
          },
          "metadata": {},
          "execution_count": 33
        }
      ]
    },
    {
      "cell_type": "code",
      "source": [
        "from functools import reduce\n",
        "\n",
        "reduce(lambda a,b:a+b, num_items)"
      ],
      "metadata": {
        "colab": {
          "base_uri": "https://localhost:8080/"
        },
        "id": "y0PPU7peiYTu",
        "outputId": "322ec79c-d098-413b-ec7f-193e1322fddf"
      },
      "execution_count": null,
      "outputs": [
        {
          "output_type": "execute_result",
          "data": {
            "text/plain": [
              "21"
            ]
          },
          "metadata": {},
          "execution_count": 41
        }
      ]
    },
    {
      "cell_type": "code",
      "source": [
        "# reduce(lambda a,b:a+b, mapped)"
      ],
      "metadata": {
        "colab": {
          "base_uri": "https://localhost:8080/"
        },
        "id": "kgrC3zGCjcLE",
        "outputId": "81132653-e158-4fdb-9004-ab3c3ec816cd"
      },
      "execution_count": null,
      "outputs": [
        {
          "output_type": "execute_result",
          "data": {
            "text/plain": [
              "('a', 1, 'b', 1, 'c', 1, 'a', 1, 'b', 1, 'd', 1)"
            ]
          },
          "metadata": {},
          "execution_count": 39
        }
      ]
    },
    {
      "cell_type": "markdown",
      "source": [
        "# Variable-length Argument"
      ],
      "metadata": {
        "id": "qb8Ct61JkyAm"
      }
    },
    {
      "cell_type": "code",
      "source": [
        "def add(*values): # this argument is considered as a tuple and you can iterate and ue it as per your need\n",
        "  print(values)\n",
        "  s = 0\n",
        "  for i in values:\n",
        "    s+=i\n",
        "  return s"
      ],
      "metadata": {
        "id": "ONJRd1Frk1An"
      },
      "execution_count": null,
      "outputs": []
    },
    {
      "cell_type": "code",
      "source": [
        "add(2) # single"
      ],
      "metadata": {
        "colab": {
          "base_uri": "https://localhost:8080/"
        },
        "id": "MaC0uWgwkxUB",
        "outputId": "cc8cbf20-4401-440c-d477-acd53f6f9578"
      },
      "execution_count": null,
      "outputs": [
        {
          "output_type": "stream",
          "name": "stdout",
          "text": [
            "(2,)\n"
          ]
        },
        {
          "output_type": "execute_result",
          "data": {
            "text/plain": [
              "2"
            ]
          },
          "metadata": {},
          "execution_count": 48
        }
      ]
    },
    {
      "cell_type": "code",
      "source": [
        "add(2,3) # two arguments"
      ],
      "metadata": {
        "colab": {
          "base_uri": "https://localhost:8080/"
        },
        "id": "rUEFCEdClAut",
        "outputId": "eb3aa3a9-68ee-4233-a54e-b85d0cd79377"
      },
      "execution_count": null,
      "outputs": [
        {
          "output_type": "stream",
          "name": "stdout",
          "text": [
            "(2, 3)\n"
          ]
        },
        {
          "output_type": "execute_result",
          "data": {
            "text/plain": [
              "5"
            ]
          },
          "metadata": {},
          "execution_count": 49
        }
      ]
    },
    {
      "cell_type": "code",
      "source": [
        "add(2,3,4) # multiple arguments"
      ],
      "metadata": {
        "colab": {
          "base_uri": "https://localhost:8080/"
        },
        "id": "0jadFNHllBMn",
        "outputId": "3c324506-9889-4984-f579-3b5df05534bb"
      },
      "execution_count": null,
      "outputs": [
        {
          "output_type": "stream",
          "name": "stdout",
          "text": [
            "(2, 3, 4)\n"
          ]
        },
        {
          "output_type": "execute_result",
          "data": {
            "text/plain": [
              "9"
            ]
          },
          "metadata": {},
          "execution_count": 50
        }
      ]
    },
    {
      "cell_type": "code",
      "source": [
        "def add(**values): # this argument is considered as a dicitonary and you can iterate and ue it as per your need\n",
        "  print(values)\n",
        "  s = 0\n",
        "  for i in values.values():\n",
        "    s+=i\n",
        "  return s"
      ],
      "metadata": {
        "id": "eth-cS2olMN8"
      },
      "execution_count": null,
      "outputs": []
    },
    {
      "cell_type": "code",
      "source": [
        "add(a=2) # single"
      ],
      "metadata": {
        "colab": {
          "base_uri": "https://localhost:8080/"
        },
        "id": "58_0Yv25lL41",
        "outputId": "f0a2ba08-ac7a-4397-bc36-c91c80263b88"
      },
      "execution_count": null,
      "outputs": [
        {
          "output_type": "stream",
          "name": "stdout",
          "text": [
            "{'a': 2}\n"
          ]
        },
        {
          "output_type": "execute_result",
          "data": {
            "text/plain": [
              "2"
            ]
          },
          "metadata": {},
          "execution_count": 62
        }
      ]
    },
    {
      "cell_type": "code",
      "source": [
        "add(a=2,b=3) # two arguments"
      ],
      "metadata": {
        "colab": {
          "base_uri": "https://localhost:8080/"
        },
        "id": "0AtS4kyel3DZ",
        "outputId": "6c833564-61d6-453c-e0c4-2ff1bda9cb1b"
      },
      "execution_count": null,
      "outputs": [
        {
          "output_type": "stream",
          "name": "stdout",
          "text": [
            "{'a': 2, 'b': 3}\n"
          ]
        },
        {
          "output_type": "execute_result",
          "data": {
            "text/plain": [
              "5"
            ]
          },
          "metadata": {},
          "execution_count": 63
        }
      ]
    },
    {
      "cell_type": "code",
      "source": [
        "add(a=2,b=3,c=4) # multiple arguments"
      ],
      "metadata": {
        "colab": {
          "base_uri": "https://localhost:8080/"
        },
        "id": "qXUAot94l3a3",
        "outputId": "a0a0c1a1-a467-4a19-cb59-f28c3e78df46"
      },
      "execution_count": null,
      "outputs": [
        {
          "output_type": "stream",
          "name": "stdout",
          "text": [
            "{'a': 2, 'b': 3, 'c': 4}\n"
          ]
        },
        {
          "output_type": "execute_result",
          "data": {
            "text/plain": [
              "9"
            ]
          },
          "metadata": {},
          "execution_count": 65
        }
      ]
    },
    {
      "cell_type": "markdown",
      "source": [
        "1. Write a Python function display factors if a given number."
      ],
      "metadata": {
        "id": "yyL62uOrXgl7"
      }
    },
    {
      "cell_type": "code",
      "source": [],
      "metadata": {
        "id": "-q8iW8IAgTRV"
      },
      "execution_count": null,
      "outputs": []
    },
    {
      "cell_type": "markdown",
      "source": [
        "2. Write a Python function to find the maximum of three numbers.​"
      ],
      "metadata": {
        "id": "1aCXGodyXjFc"
      }
    },
    {
      "cell_type": "code",
      "source": [],
      "metadata": {
        "id": "NoN6PpbDXkqx"
      },
      "execution_count": null,
      "outputs": []
    },
    {
      "cell_type": "markdown",
      "source": [
        "3. Write a Python function to sum all the numbers in a list."
      ],
      "metadata": {
        "id": "Oab4OhWtXk-z"
      }
    },
    {
      "cell_type": "code",
      "source": [],
      "metadata": {
        "id": "pdC3q3-iXmTE"
      },
      "execution_count": null,
      "outputs": []
    }
  ]
}