{
  "nbformat": 4,
  "nbformat_minor": 0,
  "metadata": {
    "colab": {
      "provenance": []
    },
    "kernelspec": {
      "name": "python3",
      "display_name": "Python 3"
    },
    "language_info": {
      "name": "python"
    }
  },
  "cells": [
    {
      "cell_type": "code",
      "execution_count": null,
      "metadata": {
        "colab": {
          "base_uri": "https://localhost:8080/",
          "height": 211
        },
        "id": "49_7OWJUdm_G",
        "outputId": "0d98b648-f785-4f12-eb81-bba32a955dd6"
      },
      "outputs": [
        {
          "output_type": "error",
          "ename": "ZeroDivisionError",
          "evalue": "division by zero",
          "traceback": [
            "\u001b[0;31m---------------------------------------------------------------------------\u001b[0m",
            "\u001b[0;31mZeroDivisionError\u001b[0m                         Traceback (most recent call last)",
            "\u001b[0;32m<ipython-input-1-20da00a39e90>\u001b[0m in \u001b[0;36m<cell line: 0>\u001b[0;34m()\u001b[0m\n\u001b[1;32m      2\u001b[0m \u001b[0my\u001b[0m \u001b[0;34m=\u001b[0m \u001b[0;36m0\u001b[0m\u001b[0;34m\u001b[0m\u001b[0;34m\u001b[0m\u001b[0m\n\u001b[1;32m      3\u001b[0m \u001b[0;34m\u001b[0m\u001b[0m\n\u001b[0;32m----> 4\u001b[0;31m \u001b[0mouptut\u001b[0m \u001b[0;34m=\u001b[0m \u001b[0mx\u001b[0m\u001b[0;34m/\u001b[0m\u001b[0my\u001b[0m\u001b[0;34m\u001b[0m\u001b[0;34m\u001b[0m\u001b[0m\n\u001b[0m\u001b[1;32m      5\u001b[0m \u001b[0;34m\u001b[0m\u001b[0m\n\u001b[1;32m      6\u001b[0m \u001b[0mprint\u001b[0m\u001b[0;34m(\u001b[0m\u001b[0;34m\"Output:\"\u001b[0m\u001b[0;34m,\u001b[0m \u001b[0moutput\u001b[0m\u001b[0;34m)\u001b[0m\u001b[0;34m\u001b[0m\u001b[0;34m\u001b[0m\u001b[0m\n",
            "\u001b[0;31mZeroDivisionError\u001b[0m: division by zero"
          ]
        }
      ],
      "source": [
        "x = 10\n",
        "y = 0\n",
        "\n",
        "output = x/y # Error - Disrupting the flow\n",
        "\n",
        "print(\"Output:\", output)\n",
        "\n",
        "print(\"Code Completed.\")"
      ]
    },
    {
      "cell_type": "code",
      "source": [
        "x = 10\n",
        "y = 0\n",
        "\n",
        "try:\n",
        "  output = x/y # Error - Disrupting the flow\n",
        "  print(\"Output:\", output)\n",
        "except ZeroDivisionError as e:\n",
        "  print(\"Divison by zero not possible.\", e)\n",
        "\n",
        "print(\"Code Completed.\")"
      ],
      "metadata": {
        "colab": {
          "base_uri": "https://localhost:8080/"
        },
        "id": "cfZCMwFqd3o6",
        "outputId": "dee38094-f758-4b29-d228-f1ad32a0b8c0"
      },
      "execution_count": null,
      "outputs": [
        {
          "output_type": "stream",
          "name": "stdout",
          "text": [
            "Divison by zero not possible. division by zero\n",
            "Code Completed.\n"
          ]
        }
      ]
    },
    {
      "cell_type": "code",
      "source": [
        "x = 10\n",
        "y = 0\n",
        "\n",
        "try:\n",
        "  output = x/y # Error - Disrupting the flow\n",
        "  print(\"Output:\", output)\n",
        "except:\n",
        "  print(\"Divison by zero not possible.\")\n",
        "\n",
        "print(\"Code Completed.\")"
      ],
      "metadata": {
        "colab": {
          "base_uri": "https://localhost:8080/"
        },
        "id": "AWpuTV5jglab",
        "outputId": "7cad1d42-dfd9-4d11-a863-6cedc82ebd20"
      },
      "execution_count": null,
      "outputs": [
        {
          "output_type": "stream",
          "name": "stdout",
          "text": [
            "Divison by zero not possible.\n",
            "Code Completed.\n"
          ]
        }
      ]
    },
    {
      "cell_type": "markdown",
      "source": [
        "# Multiple Exceptions"
      ],
      "metadata": {
        "id": "w_zFwOhoh85l"
      }
    },
    {
      "cell_type": "code",
      "source": [
        "try:\n",
        "  y = int(input(\"Enter a number\"))\n",
        "  output = 100/y # Error - Disrupting the flow\n",
        "  print(\"Output:\", output)\n",
        "except ZeroDivisionError:\n",
        "  print(\"Divison by zero not possible.\")\n",
        "except ValueError:\n",
        "  print(\"Input Value is not valid.\")\n",
        "\n",
        "print(\"Code Completed.\")"
      ],
      "metadata": {
        "colab": {
          "base_uri": "https://localhost:8080/"
        },
        "id": "u0kNGFk_g11y",
        "outputId": "cf60269b-1572-4116-c76d-346db700587c"
      },
      "execution_count": null,
      "outputs": [
        {
          "output_type": "stream",
          "name": "stdout",
          "text": [
            "Enter a number0\n",
            "Divison by zero not possible.\n",
            "Code Completed.\n"
          ]
        }
      ]
    },
    {
      "cell_type": "code",
      "source": [
        "try:\n",
        "  y = int(input(\"Enter a number\"))\n",
        "  output = 100/y # Error - Disrupting the flow\n",
        "  print(\"Output:\", output)\n",
        "except (ZeroDivisionError, ValueError) as e:\n",
        "  print(\"Exception:\", e)\n",
        "\n",
        "\n",
        "print(\"Code Completed.\")"
      ],
      "metadata": {
        "colab": {
          "base_uri": "https://localhost:8080/"
        },
        "id": "sZJGdjckha_5",
        "outputId": "20f0c11a-29ec-4f45-e729-84d20624c94b"
      },
      "execution_count": null,
      "outputs": [
        {
          "output_type": "stream",
          "name": "stdout",
          "text": [
            "Enter a number0\n",
            "Exception: division by zero\n",
            "Code Completed.\n"
          ]
        }
      ]
    },
    {
      "cell_type": "markdown",
      "source": [
        "# else block"
      ],
      "metadata": {
        "id": "1F8qcSxLiJlR"
      }
    },
    {
      "cell_type": "code",
      "source": [
        "try:\n",
        "  y = int(input(\"Enter a number\"))\n",
        "  output = 100/y # Error - Disrupting the flow\n",
        "  print(\"Output:\", output)\n",
        "except (ZeroDivisionError, ValueError) as e:\n",
        "  print(\"Exception:\", e)\n",
        "else:\n",
        "  print(\"Successfully Executed!\")\n",
        "\n",
        "print(\"Code Completed.\")"
      ],
      "metadata": {
        "colab": {
          "base_uri": "https://localhost:8080/"
        },
        "id": "XwAysg9bh3CB",
        "outputId": "b7943579-c307-4140-ff22-9005c039d02f"
      },
      "execution_count": null,
      "outputs": [
        {
          "output_type": "stream",
          "name": "stdout",
          "text": [
            "Enter a number0\n",
            "Exception: division by zero\n",
            "Code Completed.\n"
          ]
        }
      ]
    },
    {
      "cell_type": "code",
      "source": [
        "try:\n",
        "  y = int(input(\"Enter a number\"))\n",
        "  output = 100/y # Error - Disrupting the flow\n",
        "  print(\"Output:\", output)\n",
        "except (ZeroDivisionError, ValueError) as e:\n",
        "  print(\"Exception:\", e)\n",
        "else:\n",
        "  print(\"Successfully Executed!\")\n",
        "finally:\n",
        "  print(\"Finally Executed.\")\n",
        "\n",
        "print(\"Code Completed.\")"
      ],
      "metadata": {
        "colab": {
          "base_uri": "https://localhost:8080/"
        },
        "id": "LTllURD1iVsv",
        "outputId": "780525b5-20dc-43c9-d094-12396b15172e"
      },
      "execution_count": null,
      "outputs": [
        {
          "output_type": "stream",
          "name": "stdout",
          "text": [
            "Enter a number0\n",
            "Exception: division by zero\n",
            "Finally Executed.\n",
            "Code Completed.\n"
          ]
        }
      ]
    },
    {
      "cell_type": "code",
      "source": [
        "class AgeError(Exception):\n",
        "  def __init__(self, message):\n",
        "    self.message = message\n",
        "    super().__init__(self.message)\n",
        "\n",
        "age = int(input(\"Enter Age:\"))\n",
        "\n",
        "try:\n",
        "  if age<18:\n",
        "    raise AgeError(\"You must be at least 18 year old.\")\n",
        "  else:\n",
        "    print(\"Age is valid.\")\n",
        "\n",
        "except AgeError as e:\n",
        "  print(\"Error:\", e)"
      ],
      "metadata": {
        "colab": {
          "base_uri": "https://localhost:8080/"
        },
        "id": "NcABNYEpi_eb",
        "outputId": "23e1aa24-3a20-454b-a092-c93fbe981c07"
      },
      "execution_count": null,
      "outputs": [
        {
          "output_type": "stream",
          "name": "stdout",
          "text": [
            "Enter Age:16\n",
            "Error: You must be at least 18 year old.\n"
          ]
        }
      ]
    },
    {
      "cell_type": "code",
      "source": [],
      "metadata": {
        "id": "tej_Qidomxch"
      },
      "execution_count": null,
      "outputs": []
    }
  ]
}