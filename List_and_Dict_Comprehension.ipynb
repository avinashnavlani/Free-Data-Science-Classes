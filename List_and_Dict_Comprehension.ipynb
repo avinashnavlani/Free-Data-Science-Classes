{
  "nbformat": 4,
  "nbformat_minor": 0,
  "metadata": {
    "colab": {
      "provenance": []
    },
    "kernelspec": {
      "name": "python3",
      "display_name": "Python 3"
    },
    "language_info": {
      "name": "python"
    }
  },
  "cells": [
    {
      "cell_type": "markdown",
      "source": [
        "# List Comprehension"
      ],
      "metadata": {
        "id": "ZWogSe08KLnu"
      }
    },
    {
      "cell_type": "code",
      "execution_count": null,
      "metadata": {
        "colab": {
          "base_uri": "https://localhost:8080/"
        },
        "id": "40iwzgy5Gjeq",
        "outputId": "a2e4d507-6d25-4487-ee8e-f531ca0871a7"
      },
      "outputs": [
        {
          "output_type": "execute_result",
          "data": {
            "text/plain": [
              "['mango', 'orange', 'papaya']"
            ]
          },
          "metadata": {},
          "execution_count": 1
        }
      ],
      "source": [
        "fruits = ['kiwi', 'mango', 'orange', 'papaya']\n",
        "\n",
        "new_fruits  = [i for i in fruits if 'a' in i]\n",
        "new_fruits"
      ]
    },
    {
      "cell_type": "code",
      "source": [
        "[x if \"a\" in x else 'No Fruits' for x in fruits ]"
      ],
      "metadata": {
        "colab": {
          "base_uri": "https://localhost:8080/"
        },
        "id": "qzKS9gPFGwMn",
        "outputId": "ea1c67b4-c954-4454-a6f3-6bfc314efa4f"
      },
      "execution_count": null,
      "outputs": [
        {
          "output_type": "execute_result",
          "data": {
            "text/plain": [
              "['No Fruits', 'mango', 'orange', 'papaya']"
            ]
          },
          "metadata": {},
          "execution_count": 2
        }
      ]
    },
    {
      "cell_type": "markdown",
      "source": [
        "# Dictionary Comprehension"
      ],
      "metadata": {
        "id": "R7A8qyPVIPvY"
      }
    },
    {
      "cell_type": "code",
      "source": [
        "items = [1,2,3,4,5,6]\n",
        "\n",
        "item_dict = {i:i**2 for i in items}\n",
        "print(item_dict)"
      ],
      "metadata": {
        "colab": {
          "base_uri": "https://localhost:8080/"
        },
        "id": "7DfPrGvbIAup",
        "outputId": "00826a41-1f0f-4760-f45a-cb8f13b9285b"
      },
      "execution_count": null,
      "outputs": [
        {
          "output_type": "stream",
          "name": "stdout",
          "text": [
            "{1: 1, 2: 4, 3: 9, 4: 16, 5: 25, 6: 36}\n"
          ]
        }
      ]
    },
    {
      "cell_type": "code",
      "source": [
        "dict_example = {1:'a', 2:'b', 3:'c', 4:'d'}\n",
        "\n",
        "swapped_dict = {v:k for k,v in dict_example.items()}\n",
        "\n",
        "print(swapped_dict)"
      ],
      "metadata": {
        "colab": {
          "base_uri": "https://localhost:8080/"
        },
        "id": "A2bjbBrEIa6w",
        "outputId": "ba7a7d6f-403b-41c3-83d5-e3adcad652d1"
      },
      "execution_count": null,
      "outputs": [
        {
          "output_type": "stream",
          "name": "stdout",
          "text": [
            "{'a': 1, 'b': 2, 'c': 3, 'd': 4}\n"
          ]
        }
      ]
    },
    {
      "cell_type": "code",
      "source": [
        "dict_example = {1:'a', 2:'b', 3:'c', 4:'d'}\n",
        "\n",
        "{k:v for k,v in dict_example.items() if k!=4}"
      ],
      "metadata": {
        "colab": {
          "base_uri": "https://localhost:8080/"
        },
        "id": "aPFiOeogI5g3",
        "outputId": "99dacb56-8d3d-4572-bc2b-41bf9f0586ba"
      },
      "execution_count": null,
      "outputs": [
        {
          "output_type": "execute_result",
          "data": {
            "text/plain": [
              "{1: 'a', 2: 'b', 3: 'c'}"
            ]
          },
          "metadata": {},
          "execution_count": 7
        }
      ]
    },
    {
      "cell_type": "code",
      "source": [
        "{k:v if k!=4 else 'edf' for k,v in dict_example.items() }"
      ],
      "metadata": {
        "colab": {
          "base_uri": "https://localhost:8080/"
        },
        "id": "TZTowIgRJGJD",
        "outputId": "aa4fbdb3-53a2-4170-b6be-530b06bf78f2"
      },
      "execution_count": null,
      "outputs": [
        {
          "output_type": "execute_result",
          "data": {
            "text/plain": [
              "{1: 'a', 2: 'b', 3: 'c', 4: 'edf'}"
            ]
          },
          "metadata": {},
          "execution_count": 15
        }
      ]
    },
    {
      "cell_type": "code",
      "source": [
        "list(dict_example.items())"
      ],
      "metadata": {
        "colab": {
          "base_uri": "https://localhost:8080/"
        },
        "id": "MmmpJFsOJUIH",
        "outputId": "2c6c10cb-b5a6-4164-b832-3fe08b4e2729"
      },
      "execution_count": null,
      "outputs": [
        {
          "output_type": "execute_result",
          "data": {
            "text/plain": [
              "[(1, 'a'), (2, 'b'), (3, 'c'), (4, 'd')]"
            ]
          },
          "metadata": {},
          "execution_count": 16
        }
      ]
    },
    {
      "cell_type": "code",
      "source": [],
      "metadata": {
        "id": "DE_amFGUJ8IT"
      },
      "execution_count": null,
      "outputs": []
    }
  ]
}