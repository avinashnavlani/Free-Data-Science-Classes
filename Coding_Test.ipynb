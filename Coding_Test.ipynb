{
  "nbformat": 4,
  "nbformat_minor": 0,
  "metadata": {
    "colab": {
      "provenance": []
    },
    "kernelspec": {
      "name": "python3",
      "display_name": "Python 3"
    },
    "language_info": {
      "name": "python"
    }
  },
  "cells": [
    {
      "cell_type": "markdown",
      "source": [
        "# **Reverse Letters Only**\n",
        "\n",
        "Given a string S, produce a new string in which:\n",
        "\n",
        "All the letters (A–Z and a–z) from S appear in reverse order compared to their original positions. Any characters in S that are not letters (e.g., punctuation, digits, spaces) should remain in the same index as they were in the original string. In other words, if you list out only the letters in S (ignoring non-letters) and reverse their order, then place them back in the string so that all non-letter characters stay where they were, the result is your transformed string.\n",
        "\n",
        "**Examples**\n",
        "\n",
        "**Input**: \"ab-cd\"\n",
        "\n",
        "**Output**: \"dc-ba\"\n",
        "\n",
        "Here, the letters a, b, c, d are reversed to d, c, b, a, while the dash (-) remains at the same index.\n",
        "\n",
        "**Input**: \"a-bC-dEf=ghj!!\"\n",
        "\n",
        "**Output**: \"j-hg-fEd=Cba!!\"\n",
        "\n",
        "Letters originally are: a b C d E f g h j Reversed letters: j h g f E d C b a Punctuation and symbols (-, =, !, etc.) are unchanged in their positions."
      ],
      "metadata": {
        "id": "cijlodROBJ9h"
      }
    },
    {
      "cell_type": "code",
      "execution_count": null,
      "metadata": {
        "id": "uOsAXeKQA3l2"
      },
      "outputs": [],
      "source": [
        "s = \"ab-cd\"\n",
        "\n",
        "letters = [char for char in s if char.isalpha()]\n",
        "\n",
        "result = ''\n",
        "for char in s:\n",
        "  if char.isalpha():\n",
        "    result += letters.pop()\n",
        "  else:\n",
        "    result += char"
      ]
    },
    {
      "cell_type": "code",
      "source": [
        "result"
      ],
      "metadata": {
        "colab": {
          "base_uri": "https://localhost:8080/",
          "height": 35
        },
        "id": "mkCedHdbFx8u",
        "outputId": "edeced60-672b-4f3a-a7f5-acf35a9dd803"
      },
      "execution_count": null,
      "outputs": [
        {
          "output_type": "execute_result",
          "data": {
            "text/plain": [
              "'dc-ba'"
            ],
            "application/vnd.google.colaboratory.intrinsic+json": {
              "type": "string"
            }
          },
          "metadata": {},
          "execution_count": 10
        }
      ]
    },
    {
      "cell_type": "code",
      "source": [],
      "metadata": {
        "id": "lafcG87HFxyC"
      },
      "execution_count": null,
      "outputs": []
    },
    {
      "cell_type": "markdown",
      "source": [
        "# Find Character Frequency in a String\n",
        "\n",
        "Create a Python program that reads a string and outputs each unique character followed by its frequency in the order of their first appearance. For example,\n",
        "\n",
        "**input**: \"butterfly\"\n",
        "\n",
        "**output**: b1u1t2e1r1f1l1y1\n",
        "\n",
        "Similarly,\n",
        "\n",
        "**input**: \"communication\"\n",
        "\n",
        "**output**: c2o2m2u1n2i2a1t1"
      ],
      "metadata": {
        "id": "q18fj9C1FSCo"
      }
    },
    {
      "cell_type": "code",
      "source": [
        "s = \"butterfly\"\n",
        "\n",
        "dict1 = {}\n",
        "\n",
        "for char in s:\n",
        "  if char in dict1.keys():\n",
        "    dict1[char] += 1\n",
        "  else:\n",
        "    dict1[char] = 1\n",
        "\n",
        "output = \"\"\n",
        "for k,v in dict1.items():\n",
        "  output += k + str(v)\n",
        "print(output)"
      ],
      "metadata": {
        "colab": {
          "base_uri": "https://localhost:8080/"
        },
        "id": "v-AZahbQFTfQ",
        "outputId": "5e63efa8-f2db-438a-b46c-3fc793c33646"
      },
      "execution_count": null,
      "outputs": [
        {
          "output_type": "stream",
          "name": "stdout",
          "text": [
            "b1u1t2e1r1f1l1y1\n"
          ]
        }
      ]
    },
    {
      "cell_type": "code",
      "source": [],
      "metadata": {
        "colab": {
          "base_uri": "https://localhost:8080/"
        },
        "id": "27qgGVdYGv0J",
        "outputId": "f6269899-a51e-435b-cad2-841b6cadf4d3"
      },
      "execution_count": null,
      "outputs": [
        {
          "output_type": "stream",
          "name": "stdout",
          "text": [
            "c2o2m2u1n2i2a1t1\n"
          ]
        }
      ]
    },
    {
      "cell_type": "code",
      "source": [],
      "metadata": {
        "id": "tkybFEUAYy_e"
      },
      "execution_count": null,
      "outputs": []
    }
  ]
}