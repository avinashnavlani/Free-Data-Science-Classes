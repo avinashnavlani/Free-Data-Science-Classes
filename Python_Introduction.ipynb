{
  "nbformat": 4,
  "nbformat_minor": 0,
  "metadata": {
    "colab": {
      "provenance": []
    },
    "kernelspec": {
      "name": "python3",
      "display_name": "Python 3"
    },
    "language_info": {
      "name": "python"
    }
  },
  "cells": [
    {
      "cell_type": "code",
      "execution_count": null,
      "metadata": {
        "id": "s7eICZNL66dl"
      },
      "outputs": [],
      "source": []
    },
    {
      "cell_type": "markdown",
      "source": [
        "# print() statement"
      ],
      "metadata": {
        "id": "eiJ9cK187Bvc"
      }
    },
    {
      "cell_type": "markdown",
      "source": [
        "print function"
      ],
      "metadata": {
        "id": "qQtlXK9wLbN1"
      }
    },
    {
      "cell_type": "code",
      "source": [
        "print(\"This is Python Class\")"
      ],
      "metadata": {
        "id": "LVscBti27M9c",
        "colab": {
          "base_uri": "https://localhost:8080/"
        },
        "outputId": "fc5c8dd2-f1a6-4d50-815f-4c1c6802c0e8"
      },
      "execution_count": null,
      "outputs": [
        {
          "output_type": "stream",
          "name": "stdout",
          "text": [
            "This is Python Class\n"
          ]
        }
      ]
    },
    {
      "cell_type": "markdown",
      "source": [
        "# Variables"
      ],
      "metadata": {
        "id": "NHLZZ7tO6_5O"
      }
    },
    {
      "cell_type": "code",
      "source": [
        "# variable is a place which holds value.\n",
        "x = 5  # dynamically typed language : it identifies the data type at runtime.\n",
        "print(\"x:\",x)"
      ],
      "metadata": {
        "id": "GO6FRAqi7bnj",
        "colab": {
          "base_uri": "https://localhost:8080/"
        },
        "outputId": "3cebfb89-8677-48b2-cc7f-00907e5d7fdb"
      },
      "execution_count": null,
      "outputs": [
        {
          "output_type": "stream",
          "name": "stdout",
          "text": [
            "x: 5\n"
          ]
        }
      ]
    },
    {
      "cell_type": "code",
      "source": [
        "pi=3.14\n",
        "print(pi)"
      ],
      "metadata": {
        "colab": {
          "base_uri": "https://localhost:8080/"
        },
        "id": "wk6P5a99J4Ch",
        "outputId": "d6407978-bc7c-415f-df41-59f01ae221c7"
      },
      "execution_count": null,
      "outputs": [
        {
          "output_type": "stream",
          "name": "stdout",
          "text": [
            "3.14\n"
          ]
        }
      ]
    },
    {
      "cell_type": "code",
      "source": [
        "name = 'avinash navlani'\n",
        "print(\"Name:\",name)"
      ],
      "metadata": {
        "colab": {
          "base_uri": "https://localhost:8080/"
        },
        "id": "SF3HPD9ZJ-Gv",
        "outputId": "513f9cec-f203-4425-a553-0816bb4c7c14"
      },
      "execution_count": null,
      "outputs": [
        {
          "output_type": "stream",
          "name": "stdout",
          "text": [
            "Name: avinash navlani\n"
          ]
        }
      ]
    },
    {
      "cell_type": "code",
      "source": [
        "flag = True"
      ],
      "metadata": {
        "id": "tHbQ2oa9JQeF"
      },
      "execution_count": 1,
      "outputs": []
    },
    {
      "cell_type": "markdown",
      "source": [
        "# Data Types"
      ],
      "metadata": {
        "id": "r-Dw54Z67cO0"
      }
    },
    {
      "cell_type": "code",
      "source": [
        "type(flag)"
      ],
      "metadata": {
        "colab": {
          "base_uri": "https://localhost:8080/"
        },
        "id": "eaE4dVGsJaAu",
        "outputId": "561cb4e8-5211-4959-c17f-207ef44b2b9c"
      },
      "execution_count": 2,
      "outputs": [
        {
          "output_type": "execute_result",
          "data": {
            "text/plain": [
              "bool"
            ]
          },
          "metadata": {},
          "execution_count": 2
        }
      ]
    },
    {
      "cell_type": "code",
      "source": [
        "is_student = False\n",
        "print(is_student)"
      ],
      "metadata": {
        "colab": {
          "base_uri": "https://localhost:8080/"
        },
        "id": "X3sxHs0OKqqR",
        "outputId": "6b942e91-3c92-4714-a0d2-513d10e490fd"
      },
      "execution_count": null,
      "outputs": [
        {
          "output_type": "stream",
          "name": "stdout",
          "text": [
            "False\n"
          ]
        }
      ]
    },
    {
      "cell_type": "code",
      "source": [
        "type(is_student)"
      ],
      "metadata": {
        "colab": {
          "base_uri": "https://localhost:8080/"
        },
        "id": "g5D2M2kiLILU",
        "outputId": "7783d68e-bd53-4df7-87aa-9d0de2b20f98"
      },
      "execution_count": null,
      "outputs": [
        {
          "output_type": "execute_result",
          "data": {
            "text/plain": [
              "bool"
            ]
          },
          "metadata": {},
          "execution_count": 18
        }
      ]
    },
    {
      "cell_type": "code",
      "source": [
        "type(x)"
      ],
      "metadata": {
        "id": "ZCk2uddp7i-q",
        "colab": {
          "base_uri": "https://localhost:8080/"
        },
        "outputId": "ca4c019d-dba1-42bc-ea32-25e56b1cadea"
      },
      "execution_count": null,
      "outputs": [
        {
          "output_type": "execute_result",
          "data": {
            "text/plain": [
              "int"
            ]
          },
          "metadata": {},
          "execution_count": 9
        }
      ]
    },
    {
      "cell_type": "code",
      "source": [
        "type(pi)"
      ],
      "metadata": {
        "colab": {
          "base_uri": "https://localhost:8080/"
        },
        "id": "gknQ23g6Kap9",
        "outputId": "545c1d14-d482-469c-f7e2-32ba847fd31b"
      },
      "execution_count": null,
      "outputs": [
        {
          "output_type": "execute_result",
          "data": {
            "text/plain": [
              "float"
            ]
          },
          "metadata": {},
          "execution_count": 10
        }
      ]
    },
    {
      "cell_type": "code",
      "source": [
        "type(name)"
      ],
      "metadata": {
        "colab": {
          "base_uri": "https://localhost:8080/"
        },
        "id": "Rt-TqX6LKiJ2",
        "outputId": "8e70f7b6-95f1-479a-d9e5-c2113791312d"
      },
      "execution_count": null,
      "outputs": [
        {
          "output_type": "execute_result",
          "data": {
            "text/plain": [
              "str"
            ]
          },
          "metadata": {},
          "execution_count": 11
        }
      ]
    },
    {
      "cell_type": "markdown",
      "source": [
        "# Data Type Conversion"
      ],
      "metadata": {
        "id": "aZXIRt5l7kZL"
      }
    },
    {
      "cell_type": "code",
      "source": [
        "int(), float(), str(), bool()"
      ],
      "metadata": {
        "id": "A54e7ZKRJmf9"
      },
      "execution_count": null,
      "outputs": []
    },
    {
      "cell_type": "code",
      "source": [
        "float(x)"
      ],
      "metadata": {
        "id": "AwSoxROa7qEq",
        "colab": {
          "base_uri": "https://localhost:8080/"
        },
        "outputId": "a45bc0a4-16e0-4876-e6f6-75f3fd1394dd"
      },
      "execution_count": null,
      "outputs": [
        {
          "output_type": "execute_result",
          "data": {
            "text/plain": [
              "5.0"
            ]
          },
          "metadata": {},
          "execution_count": 20
        }
      ]
    },
    {
      "cell_type": "code",
      "source": [
        "int(pi)"
      ],
      "metadata": {
        "colab": {
          "base_uri": "https://localhost:8080/"
        },
        "id": "HpeZraqaLvDk",
        "outputId": "50f784e5-324f-4270-fe45-d306824656ae"
      },
      "execution_count": null,
      "outputs": [
        {
          "output_type": "execute_result",
          "data": {
            "text/plain": [
              "3"
            ]
          },
          "metadata": {},
          "execution_count": 22
        }
      ]
    },
    {
      "cell_type": "code",
      "source": [
        "x"
      ],
      "metadata": {
        "colab": {
          "base_uri": "https://localhost:8080/"
        },
        "id": "x4090-WQL5qW",
        "outputId": "9a0a10ca-6f22-4519-969e-7904ce584747"
      },
      "execution_count": null,
      "outputs": [
        {
          "output_type": "execute_result",
          "data": {
            "text/plain": [
              "5"
            ]
          },
          "metadata": {},
          "execution_count": 25
        }
      ]
    },
    {
      "cell_type": "code",
      "source": [
        "str(x)"
      ],
      "metadata": {
        "colab": {
          "base_uri": "https://localhost:8080/",
          "height": 35
        },
        "id": "5THSF_HWL1eF",
        "outputId": "0ee33ae0-18fc-4175-a76b-150cf2ce866c"
      },
      "execution_count": null,
      "outputs": [
        {
          "output_type": "execute_result",
          "data": {
            "text/plain": [
              "'5'"
            ],
            "application/vnd.google.colaboratory.intrinsic+json": {
              "type": "string"
            }
          },
          "metadata": {},
          "execution_count": 24
        }
      ]
    },
    {
      "cell_type": "code",
      "source": [
        "int(name)"
      ],
      "metadata": {
        "colab": {
          "base_uri": "https://localhost:8080/",
          "height": 141
        },
        "id": "Erd3DRROL-l5",
        "outputId": "67a2584a-7e63-415c-887a-8dc4df0d5435"
      },
      "execution_count": null,
      "outputs": [
        {
          "output_type": "error",
          "ename": "ValueError",
          "evalue": "invalid literal for int() with base 10: 'avinash navlani'",
          "traceback": [
            "\u001b[0;31m---------------------------------------------------------------------------\u001b[0m",
            "\u001b[0;31mValueError\u001b[0m                                Traceback (most recent call last)",
            "\u001b[0;32m<ipython-input-26-f75bcf899621>\u001b[0m in \u001b[0;36m<cell line: 0>\u001b[0;34m()\u001b[0m\n\u001b[0;32m----> 1\u001b[0;31m \u001b[0mint\u001b[0m\u001b[0;34m(\u001b[0m\u001b[0mname\u001b[0m\u001b[0;34m)\u001b[0m\u001b[0;34m\u001b[0m\u001b[0;34m\u001b[0m\u001b[0m\n\u001b[0m",
            "\u001b[0;31mValueError\u001b[0m: invalid literal for int() with base 10: 'avinash navlani'"
          ]
        }
      ]
    },
    {
      "cell_type": "code",
      "source": [
        "bool(0), bool(1), bool(''), bool('avi'), bool(234)"
      ],
      "metadata": {
        "colab": {
          "base_uri": "https://localhost:8080/"
        },
        "id": "LKVJZ984JxtR",
        "outputId": "c2dbf8ae-2ed4-470f-9d16-f77c1047461f"
      },
      "execution_count": 7,
      "outputs": [
        {
          "output_type": "execute_result",
          "data": {
            "text/plain": [
              "(False, True, False, True, True)"
            ]
          },
          "metadata": {},
          "execution_count": 7
        }
      ]
    },
    {
      "cell_type": "markdown",
      "source": [
        "# User Input"
      ],
      "metadata": {
        "id": "5uFv-bin7qk8"
      }
    },
    {
      "cell_type": "code",
      "source": [
        "age = input(\"Enter your age:\")\n",
        "\n",
        "print(\"You are\", age, \"years old.\")"
      ],
      "metadata": {
        "id": "-RXrSpK070cK",
        "colab": {
          "base_uri": "https://localhost:8080/"
        },
        "outputId": "b6d8cbb7-fc89-4d7d-ef9e-944adf0351e6"
      },
      "execution_count": 8,
      "outputs": [
        {
          "output_type": "stream",
          "name": "stdout",
          "text": [
            "Enter your age:25\n",
            "You are 25 years old.\n"
          ]
        }
      ]
    },
    {
      "cell_type": "markdown",
      "source": [
        "## f-string"
      ],
      "metadata": {
        "id": "_6buvMMZLEGX"
      }
    },
    {
      "cell_type": "code",
      "source": [
        "print(f'you are {age} years old.')"
      ],
      "metadata": {
        "colab": {
          "base_uri": "https://localhost:8080/"
        },
        "id": "kXzyrCHyLCnR",
        "outputId": "b6fba1f5-1131-4145-d557-2ad72e7ba611"
      },
      "execution_count": 11,
      "outputs": [
        {
          "output_type": "stream",
          "name": "stdout",
          "text": [
            "you are 26 years old.\n"
          ]
        }
      ]
    },
    {
      "cell_type": "code",
      "source": [
        "name = 'avinash'\n",
        "surname='navlani'\n",
        "\n",
        "print(f'your name is {name} {surname}')"
      ],
      "metadata": {
        "colab": {
          "base_uri": "https://localhost:8080/"
        },
        "id": "fKorAHNiMEhi",
        "outputId": "03208ca9-8de0-4160-fd39-f329b951406e"
      },
      "execution_count": 13,
      "outputs": [
        {
          "output_type": "stream",
          "name": "stdout",
          "text": [
            "your name is avinash navlani\n"
          ]
        }
      ]
    },
    {
      "cell_type": "markdown",
      "source": [
        "# String Concatenation"
      ],
      "metadata": {
        "id": "rr-TI_jq77tm"
      }
    },
    {
      "cell_type": "code",
      "source": [
        "name = 'avinash'\n",
        "surname='navlani'\n",
        "\n",
        "name + \" \" + surname # adding/concate two strings with plus operator"
      ],
      "metadata": {
        "id": "ZD8wtalD8EYK",
        "colab": {
          "base_uri": "https://localhost:8080/",
          "height": 35
        },
        "outputId": "df2e3afd-2e7c-4a3e-ca64-7b422385c4e3"
      },
      "execution_count": 15,
      "outputs": [
        {
          "output_type": "execute_result",
          "data": {
            "text/plain": [
              "'avinash navlani'"
            ],
            "application/vnd.google.colaboratory.intrinsic+json": {
              "type": "string"
            }
          },
          "metadata": {},
          "execution_count": 15
        }
      ]
    },
    {
      "cell_type": "markdown",
      "source": [
        "# Exercise"
      ],
      "metadata": {
        "id": "l-uv0TF08LOL"
      }
    },
    {
      "cell_type": "markdown",
      "source": [
        "1) Write a program to get two numbers as input from user and print summation of two numbers."
      ],
      "metadata": {
        "id": "oDvI9E318Kf1"
      }
    },
    {
      "cell_type": "code",
      "source": [
        "x = float(input(\"Enter a number:\"))\n",
        "y = float(input(\"Enter another number:\"))\n",
        "\n",
        "total = x+y\n",
        "\n",
        "print(\"Sum:\", total)"
      ],
      "metadata": {
        "id": "aLquWqxq8fSS",
        "colab": {
          "base_uri": "https://localhost:8080/"
        },
        "outputId": "7fa6f2cb-7b18-4973-d74d-a8fe530532e1"
      },
      "execution_count": 22,
      "outputs": [
        {
          "output_type": "stream",
          "name": "stdout",
          "text": [
            "Enter a number:25.5\n",
            "Enter another number:2.5\n",
            "Sum: 28.0\n"
          ]
        }
      ]
    },
    {
      "cell_type": "code",
      "source": [
        "type(x), y"
      ],
      "metadata": {
        "colab": {
          "base_uri": "https://localhost:8080/"
        },
        "id": "NY_qopFsNBLy",
        "outputId": "cdda6f0a-a649-4db8-ab66-461fff7f7a73"
      },
      "execution_count": 19,
      "outputs": [
        {
          "output_type": "execute_result",
          "data": {
            "text/plain": [
              "(str, '36')"
            ]
          },
          "metadata": {},
          "execution_count": 19
        }
      ]
    },
    {
      "cell_type": "markdown",
      "source": [
        "2)  Calculate the perimeter of a square"
      ],
      "metadata": {
        "id": "d3WppCnn8fxU"
      }
    },
    {
      "cell_type": "code",
      "source": [
        "a = float(input(\"Enter side of a square:\"))\n",
        "\n",
        "p = 4*a\n",
        "\n",
        "print(\"Perimeter:\",p)"
      ],
      "metadata": {
        "id": "ggBH4d2A89UF",
        "colab": {
          "base_uri": "https://localhost:8080/"
        },
        "outputId": "5d8e9a75-8b17-40e0-8f1b-211a082188e1"
      },
      "execution_count": 23,
      "outputs": [
        {
          "output_type": "stream",
          "name": "stdout",
          "text": [
            "Enter side of a square:4.5\n",
            "Perimeter: 18.0\n"
          ]
        }
      ]
    },
    {
      "cell_type": "markdown",
      "source": [
        "3) Convert hours to minutes and seconds."
      ],
      "metadata": {
        "id": "HJV6mgUL89ts"
      }
    },
    {
      "cell_type": "code",
      "source": [
        "hours = int(input('Enter hours:'))\n",
        "\n",
        "mins = hours * 60\n",
        "seconds = hours*60*60\n",
        "\n",
        "print(f\"Mins: {mins} \\nSeconds:{seconds}\")"
      ],
      "metadata": {
        "id": "YFny4MgL9FVS",
        "colab": {
          "base_uri": "https://localhost:8080/"
        },
        "outputId": "48fae376-a807-4f0d-f9d8-e6ead99ad827"
      },
      "execution_count": 25,
      "outputs": [
        {
          "output_type": "stream",
          "name": "stdout",
          "text": [
            "Enter hours:3\n",
            "Mins: 180 \n",
            "Seconds:10800\n"
          ]
        }
      ]
    },
    {
      "cell_type": "markdown",
      "source": [
        "4) Calculate the area of a rectangle"
      ],
      "metadata": {
        "id": "IVrcjh3v9Fvs"
      }
    },
    {
      "cell_type": "code",
      "source": [],
      "metadata": {
        "id": "yAS9glbF9Ml6"
      },
      "execution_count": null,
      "outputs": []
    },
    {
      "cell_type": "markdown",
      "source": [
        "5) Simple interest calculation."
      ],
      "metadata": {
        "id": "Y1vInKx89NKm"
      }
    },
    {
      "cell_type": "code",
      "source": [],
      "metadata": {
        "id": "_KgIDXaU9f0r"
      },
      "execution_count": null,
      "outputs": []
    },
    {
      "cell_type": "markdown",
      "source": [
        "6) Write a Python program to input the radius of a circle and compute its area using the formula:\n",
        "\n",
        "Area\n",
        "=\n",
        "𝜋\n",
        "×\n",
        "radius\n",
        "2"
      ],
      "metadata": {
        "id": "FQSJ2AiK9gQ1"
      }
    },
    {
      "cell_type": "code",
      "source": [],
      "metadata": {
        "id": "pGPGeqwk9iuK"
      },
      "execution_count": null,
      "outputs": []
    },
    {
      "cell_type": "markdown",
      "source": [
        "7) Write a Python program to input a length in inches and convert it to centimeters. Formula: Centimeters=Inches×2.54"
      ],
      "metadata": {
        "id": "zwN03LCY9zr9"
      }
    },
    {
      "cell_type": "code",
      "source": [],
      "metadata": {
        "id": "I7MnzpK5935b"
      },
      "execution_count": null,
      "outputs": []
    },
    {
      "cell_type": "markdown",
      "source": [
        "8) Write a Python program to calculate BMI.\n",
        "BMI= weight (kg)/height(m)**2\n",
        "​\n"
      ],
      "metadata": {
        "id": "2lGnr98894as"
      }
    },
    {
      "cell_type": "code",
      "source": [],
      "metadata": {
        "id": "3ZlT7ykd-SKj"
      },
      "execution_count": null,
      "outputs": []
    },
    {
      "cell_type": "markdown",
      "source": [
        "9) Swap Two Numbers Without Using a Temporary Variable."
      ],
      "metadata": {
        "id": "1RIPV_BG-S1d"
      }
    },
    {
      "cell_type": "code",
      "source": [],
      "metadata": {
        "id": "T9yODOLH-cxD"
      },
      "execution_count": null,
      "outputs": []
    },
    {
      "cell_type": "markdown",
      "source": [
        "10) Write a Python program to convert Fahrenheit to Celsius.\n",
        "Celsius=(Fahrenheit−32)× 9/5​\n"
      ],
      "metadata": {
        "id": "ywRvvgVF-dKt"
      }
    },
    {
      "cell_type": "code",
      "source": [],
      "metadata": {
        "id": "ABeurJII-g07"
      },
      "execution_count": null,
      "outputs": []
    },
    {
      "cell_type": "markdown",
      "source": [
        "11) Write a Python program to input five numbers and calculate their average."
      ],
      "metadata": {
        "id": "YUp3ELv7-hJk"
      }
    },
    {
      "cell_type": "code",
      "source": [],
      "metadata": {
        "id": "ohOLvaUh-tvq"
      },
      "execution_count": null,
      "outputs": []
    },
    {
      "cell_type": "markdown",
      "source": [
        "12) Write a Python program to convert a given distance from kilometers to miles.\n",
        "Miles=Kilometers×0.621371"
      ],
      "metadata": {
        "id": "Q2pcLzju_D9m"
      }
    },
    {
      "cell_type": "code",
      "source": [],
      "metadata": {
        "id": "4LKDdYQl_LaK"
      },
      "execution_count": null,
      "outputs": []
    }
  ]
}