{
 "cells": [
  {
   "cell_type": "code",
   "execution_count": 1,
   "id": "1a37098d",
   "metadata": {},
   "outputs": [
    {
     "name": "stderr",
     "output_type": "stream",
     "text": [
      "WARNING:root:Warning message: Free Online Class module is using deprecated functions.\n",
      "ERROR:root:Error message: Free Online Class module encountered an error.\n",
      "CRITICAL:root:Critical message: Free Online Class module failed to load.\n"
     ]
    }
   ],
   "source": [
    "import logging\n",
    "\n",
    "logging.basicConfig()\n",
    "\n",
    "logging.debug('Debug message: Initializing Free Online Class module.')\n",
    "logging.info('Info message: Free Online Class module loaded successfully.')\n",
    "logging.warning('Warning message: Free Online Class module is using deprecated functions.')\n",
    "logging.error('Error message: Free Online Class module encountered an error.')\n",
    "logging.critical('Critical message: Free Online Class module failed to load.')\n"
   ]
  },
  {
   "cell_type": "code",
   "execution_count": 1,
   "id": "c59fc296",
   "metadata": {},
   "outputs": [
    {
     "name": "stderr",
     "output_type": "stream",
     "text": [
      "DEBUG:root:Debug message: Initializing GeeksforGeeks module.\n",
      "INFO:root:Info message: GeeksforGeeks module loaded successfully.\n",
      "WARNING:root:Warning message: GeeksforGeeks module is using deprecated functions.\n",
      "ERROR:root:Error message: GeeksforGeeks module encountered an error.\n",
      "CRITICAL:root:Critical message: GeeksforGeeks module failed to load.\n"
     ]
    }
   ],
   "source": [
    "import logging\n",
    "\n",
    "logging.basicConfig(level=logging.DEBUG)\n",
    "\n",
    "logging.debug('Debug message: Initializing GeeksforGeeks module.')\n",
    "logging.info('Info message: GeeksforGeeks module loaded successfully.')\n",
    "logging.warning('Warning message: GeeksforGeeks module is using deprecated functions.')\n",
    "logging.error('Error message: GeeksforGeeks module encountered an error.')\n",
    "logging.critical('Critical message: GeeksforGeeks module failed to load.')"
   ]
  },
  {
   "cell_type": "code",
   "execution_count": 1,
   "id": "59eb838e",
   "metadata": {},
   "outputs": [
    {
     "name": "stderr",
     "output_type": "stream",
     "text": [
      "2025-03-17 10:16:16 - root - DEBUG - Debug message: Initializing GeeksforGeeks module.\n",
      "2025-03-17 10:16:16 - root - INFO - Info message: GeeksforGeeks module loaded successfully.\n",
      "2025-03-17 10:16:16 - root - WARNING - Warning message: GeeksforGeeks module is using deprecated functions.\n",
      "2025-03-17 10:16:16 - root - ERROR - Error message: GeeksforGeeks module encountered an error.\n",
      "2025-03-17 10:16:16 - root - CRITICAL - Critical message: GeeksforGeeks module failed to load.\n"
     ]
    }
   ],
   "source": [
    "import logging\n",
    "logging.basicConfig(level=logging.DEBUG,\n",
    "                    format='%(asctime)s - %(name)s - %(levelname)s - %(message)s',\n",
    "                    datefmt=\"%Y-%m-%d %H:%M:%S\",\n",
    "                    )\n",
    "logging.debug('Debug message: Initializing GeeksforGeeks module.')\n",
    "logging.info('Info message: GeeksforGeeks module loaded successfully.')\n",
    "logging.warning('Warning message: GeeksforGeeks module is using deprecated functions.')\n",
    "logging.error('Error message: GeeksforGeeks module encountered an error.')\n",
    "logging.critical('Critical message: GeeksforGeeks module failed to load.')"
   ]
  },
  {
   "cell_type": "code",
   "execution_count": 1,
   "id": "9e012bd0",
   "metadata": {},
   "outputs": [
    {
     "name": "stderr",
     "output_type": "stream",
     "text": [
      "2025-03-17 10:12:32,490 - root - DEBUG - Debug message: Initializing GeeksforGeeks module.\n",
      "2025-03-17 10:12:32,492 - root - INFO - Info message: GeeksforGeeks module loaded successfully.\n",
      "2025-03-17 10:12:32,495 - root - WARNING - Warning message: GeeksforGeeks module is using deprecated functions.\n",
      "2025-03-17 10:12:32,496 - root - ERROR - Error message: GeeksforGeeks module encountered an error.\n",
      "2025-03-17 10:12:32,497 - root - CRITICAL - Critical message: GeeksforGeeks module failed to load.\n"
     ]
    }
   ],
   "source": [
    "import logging\n",
    "logging.basicConfig(level=logging.DEBUG,\n",
    "                    format='%(asctime)s - %(name)s - %(levelname)s - %(message)s',\n",
    "                    handlers=[\n",
    "                        logging.FileHandler(\"geeksforgeeks.log\"),\n",
    "                        logging.StreamHandler()\n",
    "                    ])\n",
    "logging.debug('Debug message: Initializing GeeksforGeeks module.')\n",
    "logging.info('Info message: GeeksforGeeks module loaded successfully.')\n",
    "logging.warning('Warning message: GeeksforGeeks module is using deprecated functions.')\n",
    "logging.error('Error message: GeeksforGeeks module encountered an error.')\n",
    "logging.critical('Critical message: GeeksforGeeks module failed to load.')\n"
   ]
  },
  {
   "cell_type": "code",
   "execution_count": null,
   "id": "0843958f",
   "metadata": {},
   "outputs": [],
   "source": [
    "import logging\n",
    "\n",
    "logging.basicConfig(\n",
    "    format=\"%(levelname)s | %(asctime)s | %(message)s\",\n",
    "    datefmt=\"%Y-%m-%dT%H:%M:%SZ\",\n",
    ")\n",
    "logging.warning(\"Something bad is going to happen\")\n"
   ]
  },
  {
   "cell_type": "code",
   "execution_count": 2,
   "id": "945fc053",
   "metadata": {},
   "outputs": [
    {
     "name": "stdout",
     "output_type": "stream",
     "text": [
      "Collecting colorlog\n",
      "  Obtaining dependency information for colorlog from https://files.pythonhosted.org/packages/e3/51/9b208e85196941db2f0654ad0357ca6388ab3ed67efdbfc799f35d1f83aa/colorlog-6.9.0-py3-none-any.whl.metadata\n",
      "  Downloading colorlog-6.9.0-py3-none-any.whl.metadata (10 kB)\n",
      "Requirement already satisfied: colorama in c:\\users\\dell\\anaconda3\\lib\\site-packages (from colorlog) (0.4.6)\n",
      "Downloading colorlog-6.9.0-py3-none-any.whl (11 kB)\n",
      "Installing collected packages: colorlog\n",
      "Successfully installed colorlog-6.9.0\n"
     ]
    }
   ],
   "source": [
    "!pip install colorlog"
   ]
  },
  {
   "cell_type": "code",
   "execution_count": 3,
   "id": "ff107fce",
   "metadata": {},
   "outputs": [
    {
     "name": "stdout",
     "output_type": "stream",
     "text": [
      "example: \u001b[37m2025-03-17 10:18:41,727\u001b[0m | \u001b[37mDEBUG\u001b[0m | \u001b[34m1137694785.py:18\u001b[0m | 13248 >>> \u001b[37mA debug message\u001b[0m\n",
      "example: \u001b[37m2025-03-17 10:18:41,727\u001b[0m | \u001b[32mINFO\u001b[0m | \u001b[34m1137694785.py:19\u001b[0m | 13248 >>> \u001b[32mAn info message\u001b[0m\n",
      "example: \u001b[37m2025-03-17 10:18:41,727\u001b[0m | \u001b[33mWARNING\u001b[0m | \u001b[34m1137694785.py:20\u001b[0m | 13248 >>> \u001b[33mA warning message\u001b[0m\n",
      "example: \u001b[37m2025-03-17 10:18:41,727\u001b[0m | \u001b[31mERROR\u001b[0m | \u001b[34m1137694785.py:21\u001b[0m | 13248 >>> \u001b[31mAn error message\u001b[0m\n",
      "example: \u001b[37m2025-03-17 10:18:41,737\u001b[0m | \u001b[1;31mCRITICAL\u001b[0m | \u001b[34m1137694785.py:22\u001b[0m | 13248 >>> \u001b[1;31mA critical message\u001b[0m\n"
     ]
    }
   ],
   "source": [
    "import sys\n",
    "import logging\n",
    "import colorlog\n",
    "\n",
    "logger = logging.getLogger(\"mlgeeks\")\n",
    "\n",
    "stdout = colorlog.StreamHandler(stream=sys.stdout)\n",
    "\n",
    "fmt = colorlog.ColoredFormatter(\n",
    "    \"%(name)s: %(white)s%(asctime)s%(reset)s | %(log_color)s%(levelname)s%(reset)s | %(blue)s%(filename)s:%(lineno)s%(reset)s | %(process)d >>> %(log_color)s%(message)s%(reset)s\"\n",
    ")\n",
    "\n",
    "stdout.setFormatter(fmt)\n",
    "logger.addHandler(stdout)\n",
    "\n",
    "logger.setLevel(logging.DEBUG)\n",
    "\n",
    "logger.debug(\"A debug message\")\n",
    "logger.info(\"An info message\")\n",
    "logger.warning(\"A warning message\")\n",
    "logger.error(\"An error message\")\n",
    "logger.critical(\"A critical message\")"
   ]
  },
  {
   "cell_type": "code",
   "execution_count": 1,
   "id": "e130b1ff",
   "metadata": {},
   "outputs": [
    {
     "name": "stdout",
     "output_type": "stream",
     "text": [
      "{\"name\": \"__main__\", \"asctime\": \"2025-03-17 10:20:29,111\", \"levelname\": \"INFO\", \"filename\": \"1580812641.py\", \"lineno\": 18, \"process\": 25052, \"message\": \"An info\"}\n",
      "{\"name\": \"__main__\", \"asctime\": \"2025-03-17 10:20:29,111\", \"levelname\": \"WARNING\", \"filename\": \"1580812641.py\", \"lineno\": 19, \"process\": 25052, \"message\": \"A warning\"}\n",
      "{\"name\": \"__main__\", \"asctime\": \"2025-03-17 10:20:29,111\", \"levelname\": \"ERROR\", \"filename\": \"1580812641.py\", \"lineno\": 20, \"process\": 25052, \"message\": \"An error\"}\n"
     ]
    }
   ],
   "source": [
    "import sys\n",
    "import logging\n",
    "from pythonjsonlogger import jsonlogger\n",
    "\n",
    "logger = logging.getLogger(__name__)\n",
    "\n",
    "stdout = logging.StreamHandler(stream=sys.stdout)\n",
    "\n",
    "fmt = jsonlogger.JsonFormatter(\n",
    "    \"%(name)s %(asctime)s %(levelname)s %(filename)s %(lineno)s %(process)d %(message)s\"\n",
    ")\n",
    "\n",
    "stdout.setFormatter(fmt)\n",
    "logger.addHandler(stdout)\n",
    "\n",
    "logger.setLevel(logging.INFO)\n",
    "\n",
    "logger.info(\"An info\")\n",
    "logger.warning(\"A warning\")\n",
    "logger.error(\"An error\")"
   ]
  },
  {
   "cell_type": "code",
   "execution_count": null,
   "id": "d21d9d40",
   "metadata": {},
   "outputs": [],
   "source": [
    "import logging\n",
    "from logging.handlers import SMTPHandler\n",
    "\n",
    "# Create logger\n",
    "logger = logging.getLogger(\"MultiHandlerLogger\")\n",
    "logger.setLevel(logging.DEBUG)\n",
    "\n",
    "# Console Handler\n",
    "console_handler = logging.StreamHandler()\n",
    "console_handler.setLevel(logging.INFO)\n",
    "\n",
    "# File Handler\n",
    "file_handler = logging.FileHandler(\"app.log\")\n",
    "file_handler.setLevel(logging.DEBUG)\n",
    "\n",
    "# Email Handler\n",
    "email_handler = SMTPHandler(\n",
    "    mailhost=(\"smtp.example.com\", 587),\n",
    "    fromaddr=\"alerts@yourdomain.com\",\n",
    "    toaddrs=[\"admin@yourdomain.com\"],\n",
    "    subject=\"Critical Error Alert\",\n",
    "    credentials=(\"your_username\", \"your_password\"),\n",
    "    secure=()\n",
    ")\n",
    "email_handler.setLevel(logging.CRITICAL)  # Only for critical logs\n",
    "\n",
    "# Add handlers\n",
    "logger.addHandler(console_handler)\n",
    "logger.addHandler(file_handler)\n",
    "logger.addHandler(email_handler)\n",
    "\n",
    "# Log messages\n",
    "logger.info(\"This goes to console and file\")\n",
    "logger.critical(\"This goes to console, file, and email\")\n"
   ]
  },
  {
   "cell_type": "code",
   "execution_count": null,
   "id": "21d75547-d592-42b4-8fb8-bfed58cb31fd",
   "metadata": {},
   "outputs": [],
   "source": [
    "import logging\n",
    "import sqlite3\n",
    "\n",
    "# **Custom Database Logging Handler**\n",
    "class DatabaseHandler(logging.Handler):\n",
    "    def __init__(self, db_file=\"logs.db\"):\n",
    "        super().__init__()\n",
    "        self.db_file = db_file\n",
    "        self.create_table()\n",
    "\n",
    "    def create_table(self):\n",
    "        \"\"\"Create logs table if it doesn't exist\"\"\"\n",
    "        conn = sqlite3.connect(self.db_file)\n",
    "        cursor = conn.cursor()\n",
    "        cursor.execute(\"\"\"\n",
    "            CREATE TABLE IF NOT EXISTS logs (\n",
    "                id INTEGER PRIMARY KEY AUTOINCREMENT,\n",
    "                timestamp TEXT,\n",
    "                level TEXT,\n",
    "                filename TEXT,\n",
    "                lineno INTEGER,\n",
    "                message TEXT\n",
    "            )\n",
    "        \"\"\")\n",
    "        conn.commit()\n",
    "        conn.close()\n",
    "\n",
    "    def emit(self, record):\n",
    "        \"\"\"Insert log record into the database\"\"\"\n",
    "        conn = sqlite3.connect(self.db_file)\n",
    "        cursor = conn.cursor()\n",
    "        cursor.execute(\"\"\"\n",
    "            INSERT INTO logs (timestamp, level, filename, lineno, message)\n",
    "            VALUES (?, ?, ?, ?, ?)\n",
    "        \"\"\", (self.formatTime(record), record.levelname, record.filename, record.lineno, record.msg))\n",
    "        conn.commit()\n",
    "        conn.close()\n",
    "\n",
    "# **Setup Logger**\n",
    "logger = logging.getLogger(\"DBLogger\")\n",
    "logger.setLevel(logging.DEBUG)\n",
    "\n",
    "# **Database Handler**\n",
    "db_handler = DatabaseHandler()\n",
    "db_handler.setLevel(logging.DEBUG)\n",
    "\n",
    "# **Console Handler**\n",
    "console_handler = logging.StreamHandler()\n",
    "console_handler.setLevel(logging.INFO)\n",
    "\n",
    "# **Log Formatter**\n",
    "formatter = logging.Formatter(\"%(asctime)s - %(levelname)s - %(filename)s:%(lineno)d - %(message)s\")\n",
    "db_handler.setFormatter(formatter)\n",
    "console_handler.setFormatter(formatter)\n",
    "\n",
    "# **Add Handlers to Logger**\n",
    "logger.addHandler(db_handler)\n",
    "logger.addHandler(console_handler)\n",
    "\n",
    "# **Log Some Messages**\n",
    "logger.debug(\"This is a debug message.\")\n",
    "logger.info(\"This is an info message.\")\n",
    "logger.warning(\"This is a warning message.\")\n",
    "logger.error(\"This is an error message.\")\n",
    "logger.critical(\"This is a critical message.\")\n",
    "\n",
    "print(\"Logs saved to database (logs.db)\")\n"
   ]
  }
 ],
 "metadata": {
  "kernelspec": {
   "display_name": "Python 3 (ipykernel)",
   "language": "python",
   "name": "python3"
  },
  "language_info": {
   "codemirror_mode": {
    "name": "ipython",
    "version": 3
   },
   "file_extension": ".py",
   "mimetype": "text/x-python",
   "name": "python",
   "nbconvert_exporter": "python",
   "pygments_lexer": "ipython3",
   "version": "3.11.7"
  }
 },
 "nbformat": 4,
 "nbformat_minor": 5
}
